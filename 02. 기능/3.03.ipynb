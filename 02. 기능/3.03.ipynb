{
 "cells": [
  {
   "cell_type": "code",
   "execution_count": 21,
   "metadata": {},
   "outputs": [
    {
     "name": "stdout",
     "output_type": "stream",
     "text": [
      "Clicked at 3.152973 seconds (target: 3.152 seconds)\n"
     ]
    }
   ],
   "source": [
    "import pyautogui\n",
    "import time\n",
    "\n",
    "# 목표 시간 설정\n",
    "target_interval = 3.152  # 3.15899초\n",
    "start_time = time.perf_counter()\n",
    "\n",
    "# 마우스 이동 후 첫 번째 클릭\n",
    "pyautogui.moveTo(193, 899, duration=0.1)  # 해당 좌표로 0.1초 동안 이동\n",
    "pyautogui.click()\n",
    "\n",
    "# 정밀 타이밍 체크 및 클릭\n",
    "while True:\n",
    "    current_time = time.perf_counter()\n",
    "    elapsed_time = current_time - start_time\n",
    "\n",
    "    # 목표 시간에 정확히 도달했는지 확인\n",
    "    if elapsed_time >= target_interval:\n",
    "        pyautogui.click()\n",
    "        print(f\"Clicked at {elapsed_time:.6f} seconds (target: {target_interval} seconds)\")\n",
    "        break\n",
    "\n",
    "    # 최소한의 대기 시간을 추가하여 CPU 부하 감소\n",
    "    time.sleep(0.001)  # 1밀리초 단위로 루프 실행"
   ]
  }
 ],
 "metadata": {
  "kernelspec": {
   "display_name": "Python 3",
   "language": "python",
   "name": "python3"
  },
  "language_info": {
   "codemirror_mode": {
    "name": "ipython",
    "version": 3
   },
   "file_extension": ".py",
   "mimetype": "text/x-python",
   "name": "python",
   "nbconvert_exporter": "python",
   "pygments_lexer": "ipython3",
   "version": "3.12.6"
  }
 },
 "nbformat": 4,
 "nbformat_minor": 2
}
