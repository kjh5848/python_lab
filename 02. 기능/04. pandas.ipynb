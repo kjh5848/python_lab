{
 "cells": [
  {
   "cell_type": "code",
   "execution_count": 2,
   "metadata": {},
   "outputs": [],
   "source": [
    "import pandas as pd\n"
   ]
  },
  {
   "cell_type": "code",
   "execution_count": null,
   "metadata": {},
   "outputs": [],
   "source": [
    "import pandas as pd\n",
    "\"\"\"\n",
    "차원 데이터 구조 (배열과 비슷).\n",
    "인덱스와 값이 함께 저장됨.\n",
    "python\n",
    "코드 복사\n",
    "\"\"\"\n",
    "\n",
    "# Series 생성\n",
    "data = pd.Series([10, 20, 30, 40], index=['a', 'b', 'c', 'd'])\n",
    "print(data)\n",
    "\n",
    "# 값과 인덱스 확인\n",
    "print(data.values)  # [10 20 30 40]\n",
    "print(data.index)   # Index(['a', 'b', 'c', 'd'], dtype='object')\n"
   ]
  },
  {
   "cell_type": "code",
   "execution_count": null,
   "metadata": {},
   "outputs": [],
   "source": [
    "\"\"\"\n",
    " DataFrame\n",
    "2차원 데이터 구조 (표와 비슷).\n",
    "행(row)과 열(column)로 구성됨.\n",
    "\"\"\"\n",
    "\n",
    "# DataFrame 생성\n",
    "data = {\n",
    "    'Name': ['Alice', 'Bob', 'Charlie'],\n",
    "    'Age': [25, 30, 35],\n",
    "    'Score': [90, 85, 88]\n",
    "}\n",
    "df = pd.DataFrame(data)\n",
    "# print(df)\n",
    "\n",
    "# 열 선택\n",
    "# print(df['Name'])\n",
    "\n",
    "# 특정 행 선택\n",
    "print(df.loc[1])  # 행 번호를 기반\n"
   ]
  },
  {
   "cell_type": "code",
   "execution_count": null,
   "metadata": {},
   "outputs": [],
   "source": [
    "\"\"\"(1) 데이터 읽기/쓰기\n",
    "CSV 파일 읽기\n",
    "python\n",
    "코드 복사\n",
    "\"\"\"\n",
    "# df = pd.read_csv('data.csv')  # CSV 파일 읽기\n",
    "df = pd.read_excel(r'C:\\Users\\사용자\\Desktop\\미래내일일경험\\python_lab\\07. 한글 문서\\[쇼우테크] SNS콘텐츠 마케팅 인턴십.xlsx')  # Excel 파일 읽기\n",
    "\n",
    "print(df.head())             # 상위 5개 데이터 출력\n",
    "\n"
   ]
  },
  {
   "cell_type": "code",
   "execution_count": null,
   "metadata": {},
   "outputs": [],
   "source": [
    "print(df.info())       # 데이터프레임 정보 출력\n"
   ]
  },
  {
   "cell_type": "code",
   "execution_count": null,
   "metadata": {},
   "outputs": [],
   "source": [
    "print(df.describe())   # 요약 통계량 출력"
   ]
  },
  {
   "cell_type": "code",
   "execution_count": null,
   "metadata": {},
   "outputs": [],
   "source": [
    "print(df.shape)        # (행 개수, 열 개수) 출력\n"
   ]
  },
  {
   "cell_type": "code",
   "execution_count": null,
   "metadata": {},
   "outputs": [],
   "source": [
    "# 특정 열만 선택\n",
    "print(df['순번'])\n",
    "\n"
   ]
  },
  {
   "cell_type": "code",
   "execution_count": null,
   "metadata": {},
   "outputs": [],
   "source": [
    "# 여러 열 선택\n",
    "print(df[['순번', '운영기관명']])"
   ]
  },
  {
   "cell_type": "code",
   "execution_count": null,
   "metadata": {},
   "outputs": [],
   "source": [
    "# 행 선택 (loc: 인덱스 기반, iloc: 숫자 위치 기반)\n",
    "print(df.loc[2])       # 인덱스 2의 행"
   ]
  },
  {
   "cell_type": "code",
   "execution_count": 77,
   "metadata": {},
   "outputs": [
    {
     "name": "stdout",
     "output_type": "stream",
     "text": [
      "      Name  Age  Score\n",
      "0    Alice   25     90\n",
      "1      Bob   30     85\n",
      "2  Charlie   35     88\n"
     ]
    }
   ],
   "source": [
    "print(df.iloc[0:])      # 3번째 행\n"
   ]
  },
  {
   "cell_type": "code",
   "execution_count": null,
   "metadata": {},
   "outputs": [],
   "source": [
    "# 조건부 필터링\n",
    "print(df[df['Age'] > 25])         # Age가 25보다 큰 행\n",
    "print(df[df['Name'] == 'Alice'])  # Name이 Alice인 행\n",
    "\n",
    "# 여러 조건 사용\n",
    "print(df[(df['Age'] > 25) & (df['Score'] > 85)])\n",
    "\n",
    "# 특정 값 변경\n",
    "df.loc[df['Name'] == 'Bob', 'Score'] = 95.0\n",
    "print(df)"
   ]
  },
  {
   "cell_type": "code",
   "execution_count": null,
   "metadata": {},
   "outputs": [],
   "source": [
    "# Age 기준 오름차순 정렬\n",
    "df_sorted = df.sort_values(by='Age', ascending=True)\n",
    "print(df_sorted)\n",
    "\n",
    "# Score 기준 내림차순 정렬\n",
    "df_sorted = df.sort_values(by='Score', ascending=False)\n",
    "print(df_sorted)"
   ]
  },
  {
   "cell_type": "code",
   "execution_count": null,
   "metadata": {},
   "outputs": [],
   "source": [
    "# 새로운 열 추가\n",
    "df['Passed'] = df['Score'] > 80\n",
    "print(df)\n",
    "\n",
    "# 열 삭제\n",
    "df = df.drop(columns=['Passed'])\n",
    "print(df)\n",
    "\n",
    "# 새로운 행 추가\n",
    "new_row = {'Name': 'Frank', 'Age': 26, 'Score': 89.0}\n",
    "df = df.append(new_row, ignore_index=True)\n",
    "print(df)\n",
    "\n",
    "# 특정 행 삭제\n",
    "df = df.drop(index=1)  # 인덱스 1의 행 삭제\n",
    "print(df)\n"
   ]
  },
  {
   "cell_type": "code",
   "execution_count": null,
   "metadata": {},
   "outputs": [],
   "source": [
    "data = {\n",
    "    'Name': ['Alice', 'Bob', 'Charlie'],\n",
    "    'Age': [25, 30, 35],\n",
    "    'Score': [90, 85, 88]\n",
    "}\n",
    "# 조건 필터링\n",
    "filtered = data[data['Age'] > 28]\n",
    "print(filtered)"
   ]
  },
  {
   "cell_type": "code",
   "execution_count": null,
   "metadata": {},
   "outputs": [],
   "source": [
    "# 열 기준 정렬\n",
    "df_sorted = df.sort_values(by='담당멘토', ascending=False)\n",
    "print(df_sorted)"
   ]
  },
  {
   "cell_type": "code",
   "execution_count": null,
   "metadata": {},
   "outputs": [],
   "source": [
    "# 열 추가\n",
    "df['Gender'] = ['Female', 'Male', 'Male','','','','','','','','','','','','']\n",
    "print(df.columns)\n"
   ]
  },
  {
   "cell_type": "code",
   "execution_count": null,
   "metadata": {},
   "outputs": [],
   "source": [
    "\n",
    "# 열 삭제\n",
    "df = df.drop(columns=['Gender'])\n",
    "print(df.columns)"
   ]
  },
  {
   "cell_type": "code",
   "execution_count": null,
   "metadata": {},
   "outputs": [],
   "source": [
    "# 데이터 생성\n",
    "data = {\n",
    "    'City': ['Seoul', 'Busan', 'Incheon', 'Seoul', 'Busan'],\n",
    "    'Population': [100, 200, 150, 300, 400],\n",
    "    'Temperature': [15, 20, 17, 16, 22]\n",
    "}\n",
    "\n",
    "df = pd.DataFrame(data)\n",
    "\n",
    "# 그룹별 통계 계산\n",
    "grouped = df.groupby('City').mean()\n",
    "print(grouped)\n",
    "\n",
    "# 새로운 계산 열 추가\n",
    "df['Density'] = df['Population'] / df['Temperature']\n",
    "print(df)\n"
   ]
  }
 ],
 "metadata": {
  "kernelspec": {
   "display_name": "Python 3",
   "language": "python",
   "name": "python3"
  },
  "language_info": {
   "codemirror_mode": {
    "name": "ipython",
    "version": 3
   },
   "file_extension": ".py",
   "mimetype": "text/x-python",
   "name": "python",
   "nbconvert_exporter": "python",
   "pygments_lexer": "ipython3",
   "version": "3.11.9"
  }
 },
 "nbformat": 4,
 "nbformat_minor": 2
}
