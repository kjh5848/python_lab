{
 "cells": [
  {
   "cell_type": "code",
   "execution_count": 1,
   "metadata": {},
   "outputs": [],
   "source": [
    "import pandas as pd\n"
   ]
  },
  {
   "cell_type": "code",
   "execution_count": 6,
   "metadata": {},
   "outputs": [
    {
     "name": "stdout",
     "output_type": "stream",
     "text": [
      "<bound method DataFrame.info of       Name  Age  Score\n",
      "0    Alice   24   85.5\n",
      "1      Bob   27   90.2\n",
      "2  Charlie   22   76.8\n",
      "3    David   32   88.5\n",
      "4      Eve   29   91.0>\n",
      "0    85.5\n",
      "1    90.2\n",
      "2    76.8\n",
      "3    88.5\n",
      "4    91.0\n",
      "Name: Score, dtype: float64\n"
     ]
    }
   ],
   "source": [
    "import numpy as np\n",
    "\n",
    "# 데이터 생성\n",
    "data = {\n",
    "    'Name': ['Alice', 'Bob', 'Charlie', 'David', 'Eve'],\n",
    "    'Age': [24, 27, 22, 32, 29],\n",
    "    'Score': [85.5, 90.2, 76.8, 88.5, 91.0]\n",
    "}\n",
    "df = pd.DataFrame(data)\n",
    "\n",
    "print(df.info)\n",
    "print(df['Score'])\n"
   ]
  },
  {
   "cell_type": "code",
   "execution_count": 9,
   "metadata": {},
   "outputs": [
    {
     "name": "stdout",
     "output_type": "stream",
     "text": [
      "      Name  Age  Score\n",
      "0    Alice   24   85.5\n",
      "1      Bob   27   90.2\n",
      "2  Charlie   22    NaN\n",
      "3    David   32    NaN\n",
      "4      Eve   29    NaN\n"
     ]
    }
   ],
   "source": [
    "# 데이터에 결측값 추가\n",
    "df.loc[2, 'Score'] = np.nan\n",
    "df.loc[3, 'Score'] = np.nan\n",
    "df.loc[4, 'Score'] = np.nan\n",
    "print(df)\n",
    "\n"
   ]
  },
  {
   "cell_type": "code",
   "execution_count": 11,
   "metadata": {},
   "outputs": [
    {
     "name": "stdout",
     "output_type": "stream",
     "text": [
      "Name     0\n",
      "Age      0\n",
      "Score    3\n",
      "dtype: int64\n"
     ]
    }
   ],
   "source": [
    "\n",
    "# 결측값 확인\n",
    "# print(df.isna())       # True/False로 결측값 확인\n",
    "print(df.isna().sum()) # 각 열의 결측값 개수\n"
   ]
  },
  {
   "cell_type": "code",
   "execution_count": 12,
   "metadata": {},
   "outputs": [
    {
     "name": "stdout",
     "output_type": "stream",
     "text": [
      "      Name  Age  Score\n",
      "0    Alice   24  85.50\n",
      "1      Bob   27  90.20\n",
      "2  Charlie   22  87.85\n",
      "3    David   32  87.85\n",
      "4      Eve   29  87.85\n"
     ]
    }
   ],
   "source": [
    "\n",
    "# 결측값 채우기\n",
    "df['Score'] = df['Score'].fillna(df['Score'].mean())  # 평균값으로 채우기\n",
    "print(df)\n"
   ]
  },
  {
   "cell_type": "code",
   "execution_count": 13,
   "metadata": {},
   "outputs": [
    {
     "name": "stdout",
     "output_type": "stream",
     "text": [
      "      Name  Age  Score\n",
      "0    Alice   24  85.50\n",
      "1      Bob   27  90.20\n",
      "2  Charlie   22  87.85\n",
      "3    David   32  87.85\n",
      "4      Eve   29  87.85\n"
     ]
    }
   ],
   "source": [
    "\n",
    "# 결측값 삭제\n",
    "df = df.dropna()  # 결측값이 포함된 행 삭제\n",
    "print(df)"
   ]
  }
 ],
 "metadata": {
  "kernelspec": {
   "display_name": "Python 3",
   "language": "python",
   "name": "python3"
  },
  "language_info": {
   "codemirror_mode": {
    "name": "ipython",
    "version": 3
   },
   "file_extension": ".py",
   "mimetype": "text/x-python",
   "name": "python",
   "nbconvert_exporter": "python",
   "pygments_lexer": "ipython3",
   "version": "3.11.9"
  }
 },
 "nbformat": 4,
 "nbformat_minor": 2
}
