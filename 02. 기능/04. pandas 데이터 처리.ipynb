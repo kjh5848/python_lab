{
 "cells": [
  {
   "cell_type": "code",
   "execution_count": 1,
   "metadata": {},
   "outputs": [],
   "source": [
    "import pandas as pd\n",
    "data = {\n",
    "    'Name': ['Alice', 'Bob', 'Charlie', 'David', 'Eve'],\n",
    "    'Age': [24, 27, 22, 32, 29],\n",
    "    'Score': [85.5, 90.2, 76.8, 88.5, 91.0]\n",
    "}\n",
    "\n",
    "df = pd.DataFrame(data)"
   ]
  },
  {
   "cell_type": "code",
   "execution_count": null,
   "metadata": {},
   "outputs": [],
   "source": [
    "\n",
    "# 간단한 통계 정보\n",
    "print(df.describe())\n",
    "\n",
    "# 특정 열에 대한 요약\n",
    "print(df['Score'].mean())  # 평균\n",
    "print('----------------')  # 평균\n",
    "\n",
    "print(df['Age'].median())  # 중앙값\n",
    "print('----------------')  # 평균\n",
    "\n",
    "print(df['Score'].max())   # 최댓값\n",
    "print('----------------')  # 평균\n",
    "\n",
    "print(df['Score'].min())   # 최솟값\n",
    "print('----------------')  # 평균\n"
   ]
  },
  {
   "cell_type": "code",
   "execution_count": null,
   "metadata": {},
   "outputs": [],
   "source": [
    "# 데이터 생성\n",
    "data = {\n",
    "    'Category': ['A', 'A', 'B', 'B', 'C'],\n",
    "    'Value': [10, 15, 10, 20, 25]\n",
    "}\n",
    "df = pd.DataFrame(data)\n",
    "\n",
    "# 그룹화 및 집계\n",
    "grouped = df.groupby('Category').sum()  # 합계\n",
    "print(grouped)\n",
    "print('----------------')  # 평균\n",
    "\n",
    "grouped_mean = df.groupby('Category').mean()  # 평균\n",
    "print(grouped_mean)\n",
    "print('----------------')  # 평균\n",
    "\n",
    "# 그룹별 데이터 반복 출력\n",
    "for name, group in df.groupby('Category'):\n",
    "    print(f\"Category: {name}\")\n",
    "    print('----------------')  # 평균\n",
    "\n",
    "    print(group)\n"
   ]
  },
  {
   "cell_type": "code",
   "execution_count": null,
   "metadata": {},
   "outputs": [],
   "source": [
    "# 두 개의 DataFrame 생성\n",
    "df1 = pd.DataFrame({\n",
    "    'ID': [1, 2, 3],\n",
    "    'Name': ['Alice', 'Bob', 'Charlie']\n",
    "})\n",
    "\n",
    "df2 = pd.DataFrame({\n",
    "    'ID': [2, 3, 4],\n",
    "    'Score': [88, 95, 72],\n",
    "    'Name': ['Alice', 'ss', 'cc']\n",
    "\n",
    "})\n",
    "\n",
    "# 병합 (merge)\n",
    "merged = pd.merge(df1, df2, on='ID', how='inner')  # 교집합\n",
    "print(merged)\n",
    "print('----------------')\n",
    "merged_outer = pd.merge(df1, df2, on='ID', how='outer')  # 합집합\n",
    "print(merged_outer)\n",
    "print('----------------')"
   ]
  },
  {
   "cell_type": "code",
   "execution_count": null,
   "metadata": {},
   "outputs": [],
   "source": [
    "# 피벗 테이블 생성\n",
    "data = {\n",
    "    'Date': ['2023-01', '2023-01', '2023-02', '2023-02'],\n",
    "    'Category': ['A', 'B', 'A', 'B'],\n",
    "    'Value': [100, 200, 150, 250]\n",
    "}\n",
    "df = pd.DataFrame(data)\n",
    "\n",
    "pivot = df.pivot_table(values='Value', index='Date', columns='Category', aggfunc='count')\n",
    "print(pivot)\n"
   ]
  },
  {
   "cell_type": "code",
   "execution_count": null,
   "metadata": {},
   "outputs": [],
   "source": [
    "pip install matplotlib"
   ]
  },
  {
   "cell_type": "code",
   "execution_count": null,
   "metadata": {},
   "outputs": [],
   "source": [
    "\n",
    "import matplotlib.pyplot as plt\n",
    "\n",
    "# 데이터 생성\n",
    "data = {\n",
    "    'Month': ['Jan', 'Feb', 'Mar', 'Apr', 'May'],\n",
    "    'Sales': [250, 300, 400, 350, 500]\n",
    "}\n",
    "df = pd.DataFrame(data)\n",
    "\n",
    "# 시각화\n",
    "df.plot(x='Month', y='Sales', kind='line', title='Monthly Sales')\n",
    "plt.show()"
   ]
  }
 ],
 "metadata": {
  "kernelspec": {
   "display_name": "Python 3",
   "language": "python",
   "name": "python3"
  },
  "language_info": {
   "codemirror_mode": {
    "name": "ipython",
    "version": 3
   },
   "file_extension": ".py",
   "mimetype": "text/x-python",
   "name": "python",
   "nbconvert_exporter": "python",
   "pygments_lexer": "ipython3",
   "version": "3.12.6"
  }
 },
 "nbformat": 4,
 "nbformat_minor": 2
}
