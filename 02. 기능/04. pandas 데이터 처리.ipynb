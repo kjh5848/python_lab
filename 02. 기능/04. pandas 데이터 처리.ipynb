{
 "cells": [
  {
   "cell_type": "code",
   "execution_count": 3,
   "metadata": {},
   "outputs": [],
   "source": [
    "import pandas as pd\n",
    "data = {\n",
    "    'Name': ['Alice', 'Bob', 'Charlie', 'David', 'Eve'],\n",
    "    'Age': [24, 27, 22, 32, 29],\n",
    "    'Score': [85.5, 90.2, 76.8, 88.5, 91.0]\n",
    "}\n",
    "\n",
    "df = pd.DataFrame(data)"
   ]
  },
  {
   "cell_type": "code",
   "execution_count": 7,
   "metadata": {},
   "outputs": [
    {
     "name": "stdout",
     "output_type": "stream",
     "text": [
      "             Age      Score\n",
      "count   5.000000   5.000000\n",
      "mean   26.800000  86.400000\n",
      "std     3.962323   5.765848\n",
      "min    22.000000  76.800000\n",
      "25%    24.000000  85.500000\n",
      "50%    27.000000  88.500000\n",
      "75%    29.000000  90.200000\n",
      "max    32.000000  91.000000\n",
      "86.4\n",
      "----------------\n",
      "27.0\n",
      "----------------\n",
      "91.0\n",
      "----------------\n",
      "76.8\n",
      "----------------\n"
     ]
    }
   ],
   "source": [
    "\n",
    "# 간단한 통계 정보\n",
    "print(df.describe())\n",
    "\n",
    "# 특정 열에 대한 요약\n",
    "print(df['Score'].mean())  # 평균\n",
    "print('----------------')  # 평균\n",
    "\n",
    "print(df['Age'].median())  # 중앙값\n",
    "print('----------------')  # 평균\n",
    "\n",
    "print(df['Score'].max())   # 최댓값\n",
    "print('----------------')  # 평균\n",
    "\n",
    "print(df['Score'].min())   # 최솟값\n",
    "print('----------------')  # 평균\n"
   ]
  },
  {
   "cell_type": "code",
   "execution_count": null,
   "metadata": {},
   "outputs": [],
   "source": [
    "# 데이터 생성\n",
    "data = {\n",
    "    'Category': ['A', 'A', 'B', 'B', 'C'],\n",
    "    'Value': [10, 15, 10, 20, 25]\n",
    "}\n",
    "df = pd.DataFrame(data)\n",
    "\n",
    "# 그룹화 및 집계\n",
    "grouped = df.groupby('Category').sum()  # 합계\n",
    "print(grouped)\n",
    "print('----------------')  # 평균\n",
    "\n",
    "grouped_mean = df.groupby('Category').mean()  # 평균\n",
    "print(grouped_mean)\n",
    "print('----------------')  # 평균\n",
    "\n",
    "# 그룹별 데이터 반복 출력\n",
    "for name, group in df.groupby('Category'):\n",
    "    print(f\"Category: {name}\")\n",
    "    print('----------------')  # 평균\n",
    "\n",
    "    print(group)\n"
   ]
  },
  {
   "cell_type": "code",
   "execution_count": 14,
   "metadata": {},
   "outputs": [
    {
     "name": "stdout",
     "output_type": "stream",
     "text": [
      "   ID   Name_x  Score Name_y\n",
      "0   2      Bob     88  Alice\n",
      "1   3  Charlie     95     ss\n",
      "----------------\n",
      "   ID   Name_x  Score Name_y\n",
      "0   1    Alice    NaN    NaN\n",
      "1   2      Bob   88.0  Alice\n",
      "2   3  Charlie   95.0     ss\n",
      "3   4      NaN   72.0     cc\n",
      "----------------\n"
     ]
    }
   ],
   "source": [
    "# 두 개의 DataFrame 생성\n",
    "df1 = pd.DataFrame({\n",
    "    'ID': [1, 2, 3],\n",
    "    'Name': ['Alice', 'Bob', 'Charlie']\n",
    "})\n",
    "\n",
    "df2 = pd.DataFrame({\n",
    "    'ID': [2, 3, 4],\n",
    "    'Score': [88, 95, 72],\n",
    "    'Name': ['Alice', 'ss', 'cc']\n",
    "\n",
    "})\n",
    "\n",
    "# 병합 (merge)\n",
    "merged = pd.merge(df1, df2, on='ID', how='inner')  # 교집합\n",
    "print(merged)\n",
    "print('----------------')\n",
    "merged_outer = pd.merge(df1, df2, on='ID', how='outer')  # 합집합\n",
    "print(merged_outer)\n",
    "print('----------------')"
   ]
  },
  {
   "cell_type": "code",
   "execution_count": 18,
   "metadata": {},
   "outputs": [
    {
     "name": "stdout",
     "output_type": "stream",
     "text": [
      "Category  A  B\n",
      "Date          \n",
      "2023-01   1  1\n",
      "2023-02   1  1\n"
     ]
    }
   ],
   "source": [
    "# 피벗 테이블 생성\n",
    "data = {\n",
    "    'Date': ['2023-01', '2023-01', '2023-02', '2023-02'],\n",
    "    'Category': ['A', 'B', 'A', 'B'],\n",
    "    'Value': [100, 200, 150, 250]\n",
    "}\n",
    "df = pd.DataFrame(data)\n",
    "\n",
    "pivot = df.pivot_table(values='Value', index='Date', columns='Category', aggfunc='count')\n",
    "print(pivot)\n"
   ]
  },
  {
   "cell_type": "code",
   "execution_count": 20,
   "metadata": {},
   "outputs": [
    {
     "name": "stdout",
     "output_type": "stream",
     "text": [
      "Collecting matplotlib\n",
      "  Downloading matplotlib-3.10.0-cp311-cp311-win_amd64.whl.metadata (11 kB)\n",
      "Collecting contourpy>=1.0.1 (from matplotlib)\n",
      "  Downloading contourpy-1.3.1-cp311-cp311-win_amd64.whl.metadata (5.4 kB)\n",
      "Collecting cycler>=0.10 (from matplotlib)\n",
      "  Downloading cycler-0.12.1-py3-none-any.whl.metadata (3.8 kB)\n",
      "Collecting fonttools>=4.22.0 (from matplotlib)\n",
      "  Downloading fonttools-4.55.3-cp311-cp311-win_amd64.whl.metadata (168 kB)\n",
      "     ---------------------------------------- 0.0/168.5 kB ? eta -:--:--\n",
      "     ---------------------------------------- 0.0/168.5 kB ? eta -:--:--\n",
      "     -- ------------------------------------- 10.2/168.5 kB ? eta -:--:--\n",
      "     -------- ---------------------------- 41.0/168.5 kB 487.6 kB/s eta 0:00:01\n",
      "     ------------------------------------ - 163.8/168.5 kB 1.4 MB/s eta 0:00:01\n",
      "     -------------------------------------- 168.5/168.5 kB 1.3 MB/s eta 0:00:00\n",
      "Collecting kiwisolver>=1.3.1 (from matplotlib)\n",
      "  Downloading kiwisolver-1.4.8-cp311-cp311-win_amd64.whl.metadata (6.3 kB)\n",
      "Requirement already satisfied: numpy>=1.23 in c:\\users\\사용자\\appdata\\local\\packages\\pythonsoftwarefoundation.python.3.11_qbz5n2kfra8p0\\localcache\\local-packages\\python311\\site-packages (from matplotlib) (2.2.1)\n",
      "Requirement already satisfied: packaging>=20.0 in c:\\users\\사용자\\appdata\\local\\packages\\pythonsoftwarefoundation.python.3.11_qbz5n2kfra8p0\\localcache\\local-packages\\python311\\site-packages (from matplotlib) (24.2)\n",
      "Requirement already satisfied: pillow>=8 in c:\\users\\사용자\\appdata\\local\\packages\\pythonsoftwarefoundation.python.3.11_qbz5n2kfra8p0\\localcache\\local-packages\\python311\\site-packages (from matplotlib) (11.0.0)\n",
      "Collecting pyparsing>=2.3.1 (from matplotlib)\n",
      "  Downloading pyparsing-3.2.0-py3-none-any.whl.metadata (5.0 kB)\n",
      "Requirement already satisfied: python-dateutil>=2.7 in c:\\users\\사용자\\appdata\\local\\packages\\pythonsoftwarefoundation.python.3.11_qbz5n2kfra8p0\\localcache\\local-packages\\python311\\site-packages (from matplotlib) (2.9.0.post0)\n",
      "Requirement already satisfied: six>=1.5 in c:\\users\\사용자\\appdata\\local\\packages\\pythonsoftwarefoundation.python.3.11_qbz5n2kfra8p0\\localcache\\local-packages\\python311\\site-packages (from python-dateutil>=2.7->matplotlib) (1.17.0)\n",
      "Downloading matplotlib-3.10.0-cp311-cp311-win_amd64.whl (8.0 MB)\n",
      "   ---------------------------------------- 0.0/8.0 MB ? eta -:--:--\n",
      "    --------------------------------------- 0.1/8.0 MB 7.0 MB/s eta 0:00:02\n",
      "   -- ------------------------------------- 0.5/8.0 MB 5.9 MB/s eta 0:00:02\n",
      "   --- ------------------------------------ 0.7/8.0 MB 5.2 MB/s eta 0:00:02\n",
      "   ---- ----------------------------------- 0.9/8.0 MB 5.4 MB/s eta 0:00:02\n",
      "   ----- ---------------------------------- 1.2/8.0 MB 5.4 MB/s eta 0:00:02\n",
      "   ------- -------------------------------- 1.4/8.0 MB 5.4 MB/s eta 0:00:02\n",
      "   -------- ------------------------------- 1.7/8.0 MB 5.3 MB/s eta 0:00:02\n",
      "   --------- ------------------------------ 2.0/8.0 MB 5.5 MB/s eta 0:00:02\n",
      "   ----------- ---------------------------- 2.2/8.0 MB 5.7 MB/s eta 0:00:02\n",
      "   ------------ --------------------------- 2.5/8.0 MB 5.7 MB/s eta 0:00:01\n",
      "   -------------- ------------------------- 2.8/8.0 MB 5.8 MB/s eta 0:00:01\n",
      "   --------------- ------------------------ 3.1/8.0 MB 5.8 MB/s eta 0:00:01\n",
      "   ---------------- ----------------------- 3.3/8.0 MB 5.7 MB/s eta 0:00:01\n",
      "   ------------------ --------------------- 3.6/8.0 MB 5.8 MB/s eta 0:00:01\n",
      "   ------------------- -------------------- 3.9/8.0 MB 5.8 MB/s eta 0:00:01\n",
      "   -------------------- ------------------- 4.2/8.0 MB 5.8 MB/s eta 0:00:01\n",
      "   ---------------------- ----------------- 4.5/8.0 MB 5.8 MB/s eta 0:00:01\n",
      "   ----------------------- ---------------- 4.7/8.0 MB 5.8 MB/s eta 0:00:01\n",
      "   ------------------------ --------------- 4.9/8.0 MB 5.7 MB/s eta 0:00:01\n",
      "   ------------------------- -------------- 5.2/8.0 MB 5.7 MB/s eta 0:00:01\n",
      "   --------------------------- ------------ 5.4/8.0 MB 5.8 MB/s eta 0:00:01\n",
      "   ---------------------------- ----------- 5.7/8.0 MB 5.7 MB/s eta 0:00:01\n",
      "   ----------------------------- ---------- 6.0/8.0 MB 5.7 MB/s eta 0:00:01\n",
      "   ------------------------------- -------- 6.3/8.0 MB 5.7 MB/s eta 0:00:01\n",
      "   -------------------------------- ------- 6.6/8.0 MB 5.8 MB/s eta 0:00:01\n",
      "   --------------------------------- ------ 6.8/8.0 MB 5.8 MB/s eta 0:00:01\n",
      "   ---------------------------------- ----- 7.0/8.0 MB 5.8 MB/s eta 0:00:01\n",
      "   ------------------------------------ --- 7.3/8.0 MB 5.8 MB/s eta 0:00:01\n",
      "   ------------------------------------- -- 7.5/8.0 MB 5.7 MB/s eta 0:00:01\n",
      "   -------------------------------------- - 7.8/8.0 MB 5.7 MB/s eta 0:00:01\n",
      "   ---------------------------------------  8.0/8.0 MB 5.8 MB/s eta 0:00:01\n",
      "   ---------------------------------------- 8.0/8.0 MB 5.6 MB/s eta 0:00:00\n",
      "Downloading contourpy-1.3.1-cp311-cp311-win_amd64.whl (219 kB)\n",
      "   ---------------------------------------- 0.0/219.8 kB ? eta -:--:--\n",
      "   ---------------------------------------- 219.8/219.8 kB 4.5 MB/s eta 0:00:00\n",
      "Downloading cycler-0.12.1-py3-none-any.whl (8.3 kB)\n",
      "Downloading fonttools-4.55.3-cp311-cp311-win_amd64.whl (2.2 MB)\n",
      "   ---------------------------------------- 0.0/2.2 MB ? eta -:--:--\n",
      "   ----- ---------------------------------- 0.3/2.2 MB 6.5 MB/s eta 0:00:01\n",
      "   ---------- ----------------------------- 0.6/2.2 MB 6.1 MB/s eta 0:00:01\n",
      "   --------------- ------------------------ 0.9/2.2 MB 6.1 MB/s eta 0:00:01\n",
      "   -------------------- ------------------- 1.1/2.2 MB 6.0 MB/s eta 0:00:01\n",
      "   ------------------------- -------------- 1.4/2.2 MB 6.1 MB/s eta 0:00:01\n",
      "   ------------------------------ --------- 1.7/2.2 MB 6.1 MB/s eta 0:00:01\n",
      "   ----------------------------------- ---- 1.9/2.2 MB 5.9 MB/s eta 0:00:01\n",
      "   ---------------------------------------  2.2/2.2 MB 6.1 MB/s eta 0:00:01\n",
      "   ---------------------------------------- 2.2/2.2 MB 5.9 MB/s eta 0:00:00\n",
      "Downloading kiwisolver-1.4.8-cp311-cp311-win_amd64.whl (71 kB)\n",
      "   ---------------------------------------- 0.0/72.0 kB ? eta -:--:--\n",
      "   ---------------------------------------- 72.0/72.0 kB 4.1 MB/s eta 0:00:00\n",
      "Downloading pyparsing-3.2.0-py3-none-any.whl (106 kB)\n",
      "   ---------------------------------------- 0.0/106.9 kB ? eta -:--:--\n",
      "   ---------------------------------------- 106.9/106.9 kB 6.4 MB/s eta 0:00:00\n",
      "Installing collected packages: pyparsing, kiwisolver, fonttools, cycler, contourpy, matplotlib\n",
      "Successfully installed contourpy-1.3.1 cycler-0.12.1 fonttools-4.55.3 kiwisolver-1.4.8 matplotlib-3.10.0 pyparsing-3.2.0\n",
      "Note: you may need to restart the kernel to use updated packages.\n"
     ]
    },
    {
     "name": "stderr",
     "output_type": "stream",
     "text": [
      "\n",
      "[notice] A new release of pip is available: 24.0 -> 24.3.1\n",
      "[notice] To update, run: C:\\Users\\사용자\\AppData\\Local\\Microsoft\\WindowsApps\\PythonSoftwareFoundation.Python.3.11_qbz5n2kfra8p0\\python.exe -m pip install --upgrade pip\n"
     ]
    }
   ],
   "source": [
    "pip install matplotlib"
   ]
  },
  {
   "cell_type": "code",
   "execution_count": 21,
   "metadata": {},
   "outputs": [
    {
     "data": {
      "image/png": "[encoded data removed]",
      "text/plain": [
       "<Figure size 640x480 with 1 Axes>"
      ]
     },
     "metadata": {},
     "output_type": "display_data"
    }
   ],
   "source": [
    "\n",
    "import matplotlib.pyplot as plt\n",
    "\n",
    "# 데이터 생성\n",
    "data = {\n",
    "    'Month': ['Jan', 'Feb', 'Mar', 'Apr', 'May'],\n",
    "    'Sales': [250, 300, 400, 350, 500]\n",
    "}\n",
    "df = pd.DataFrame(data)\n",
    "\n",
    "# 시각화\n",
    "df.plot(x='Month', y='Sales', kind='line', title='Monthly Sales')\n",
    "plt.show()"
   ]
  }
 ],
 "metadata": {
  "kernelspec": {
   "display_name": "Python 3",
   "language": "python",
   "name": "python3"
  },
  "language_info": {
   "codemirror_mode": {
    "name": "ipython",
    "version": 3
   },
   "file_extension": ".py",
   "mimetype": "text/x-python",
   "name": "python",
   "nbconvert_exporter": "python",
   "pygments_lexer": "ipython3",
   "version": "3.11.9"
  }
 },
 "nbformat": 4,
 "nbformat_minor": 2
}
