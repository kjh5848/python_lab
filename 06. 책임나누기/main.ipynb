{
 "cells": [
  {
   "cell_type": "code",
   "execution_count": 2,
   "metadata": {},
   "outputs": [],
   "source": [
    "import tkinter as tk\n",
    "from gui_app import DocumentAutomationApp\n",
    "\n",
    "# Tkinter GUI 실행\n",
    "if __name__ == \"__main__\":\n",
    "    root=tk.Tk()\n",
    "    app = DocumentAutomationApp(root)\n",
    "    root.mainloop()\n",
    "\n",
    "# # 엑셀 반복이 종료되면 한글 종료\n",
    "# hwp_service.종료()\n"
   ]
  }
 ],
 "metadata": {
  "kernelspec": {
   "display_name": "Python 3",
   "language": "python",
   "name": "python3"
  },
  "language_info": {
   "codemirror_mode": {
    "name": "ipython",
    "version": 3
   },
   "file_extension": ".py",
   "mimetype": "text/x-python",
   "name": "python",
   "nbconvert_exporter": "python",
   "pygments_lexer": "ipython3",
   "version": "3.12.6"
  }
 },
 "nbformat": 4,
 "nbformat_minor": 2
}
