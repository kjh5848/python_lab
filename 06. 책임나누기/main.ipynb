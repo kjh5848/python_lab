{
 "cells": [
  {
   "cell_type": "code",
   "execution_count": 9,
   "metadata": {},
   "outputs": [
    {
     "name": "stdout",
     "output_type": "stream",
     "text": [
      "파일 저장 완료: [서식33] 인턴형 일경험 참여신청서_정민주.hwp\n",
      "파일 저장 완료: [서식33] 인턴형 일경험 참여신청서_김성한.hwp\n",
      "빈 값 발견 - 행 3 건너뜀\n",
      "빈 값 발견 - 행 4 건너뜀\n",
      "빈 값 발견 - 행 5 건너뜀\n",
      "빈 값 발견 - 행 6 건너뜀\n",
      "빈 값 발견 - 행 7 건너뜀\n",
      "빈 값 발견 - 행 8 건너뜀\n",
      "빈 값 발견 - 행 9 건너뜀\n",
      "빈 값 발견 - 행 10 건너뜀\n",
      "빈 값 발견 - 행 11 건너뜀\n"
     ]
    },
    {
     "ename": "com_error",
     "evalue": "(-2147023174, 'RPC 서버를 사용할 수 없습니다.', None, None)",
     "output_type": "error",
     "traceback": [
      "\u001b[1;31m---------------------------------------------------------------------------\u001b[0m",
      "\u001b[1;31mcom_error\u001b[0m                                 Traceback (most recent call last)",
      "Cell \u001b[1;32mIn[9], line 20\u001b[0m\n\u001b[0;32m     17\u001b[0m     root\u001b[38;5;241m.\u001b[39mmainloop()\n\u001b[0;32m     19\u001b[0m \u001b[38;5;66;03m# 엑셀 반복이 종료되면 한글 종료\u001b[39;00m\n\u001b[1;32m---> 20\u001b[0m \u001b[43mhwp_service\u001b[49m\u001b[38;5;241;43m.\u001b[39;49m\u001b[43m종료\u001b[49m\u001b[43m(\u001b[49m\u001b[43m)\u001b[49m\n",
      "File \u001b[1;32md:\\workspace\\python_lab\\06. 책임나누기\\hwp_service.py:31\u001b[0m, in \u001b[0;36mHwpService.종료\u001b[1;34m(self)\u001b[0m\n\u001b[0;32m     30\u001b[0m \u001b[38;5;28;01mdef\u001b[39;00m \u001b[38;5;21m종료\u001b[39m(\u001b[38;5;28mself\u001b[39m):\n\u001b[1;32m---> 31\u001b[0m     \u001b[38;5;28;43mself\u001b[39;49m\u001b[38;5;241;43m.\u001b[39;49m\u001b[43mhwp\u001b[49m\u001b[38;5;241;43m.\u001b[39;49m\u001b[43mQuit\u001b[49m\u001b[43m(\u001b[49m\u001b[43m)\u001b[49m\n",
      "File \u001b[1;32mC:\\Users\\ADMINI~1\\AppData\\Local\\Temp\\gen_py\\3.12\\7D2B6F3C-1D95-4E0C-BF5A-5EE564186FBCx0x1x0\\IHwpObject.py:688\u001b[0m, in \u001b[0;36mIHwpObject.Quit\u001b[1;34m(self)\u001b[0m\n\u001b[0;32m    686\u001b[0m \u001b[38;5;28;01mdef\u001b[39;00m \u001b[38;5;21mQuit\u001b[39m(\u001b[38;5;28mself\u001b[39m):\n\u001b[0;32m    687\u001b[0m \t\u001b[38;5;124m'\u001b[39m\u001b[38;5;124mmethod Quit\u001b[39m\u001b[38;5;124m'\u001b[39m\n\u001b[1;32m--> 688\u001b[0m \t\u001b[38;5;28;01mreturn\u001b[39;00m \u001b[38;5;28;43mself\u001b[39;49m\u001b[38;5;241;43m.\u001b[39;49m\u001b[43m_oleobj_\u001b[49m\u001b[38;5;241;43m.\u001b[39;49m\u001b[43mInvokeTypes\u001b[49m\u001b[43m(\u001b[49m\u001b[38;5;241;43m30000\u001b[39;49m\u001b[43m,\u001b[49m\u001b[43m \u001b[49m\u001b[43mLCID\u001b[49m\u001b[43m,\u001b[49m\u001b[43m \u001b[49m\u001b[38;5;241;43m1\u001b[39;49m\u001b[43m,\u001b[49m\u001b[43m \u001b[49m\u001b[43m(\u001b[49m\u001b[38;5;241;43m24\u001b[39;49m\u001b[43m,\u001b[49m\u001b[43m \u001b[49m\u001b[38;5;241;43m0\u001b[39;49m\u001b[43m)\u001b[49m\u001b[43m,\u001b[49m\u001b[43m \u001b[49m\u001b[43m(\u001b[49m\u001b[43m)\u001b[49m\u001b[43m,\u001b[49m\u001b[43m)\u001b[49m\n",
      "\u001b[1;31mcom_error\u001b[0m: (-2147023174, 'RPC 서버를 사용할 수 없습니다.', None, None)"
     ]
    }
   ],
   "source": [
    "import tkinter as tk\n",
    "from excel_service import ExcelService\n",
    "from hwp_service import HwpService\n",
    "from gui_app import DocumentAutomationApp\n",
    "from 서식모음 import 서식모음\n",
    "# import win32com.client\n",
    "# win32com.client.gencache.is_readonly = False\n",
    "# win32com.client.gencache.Rebuild()\n",
    "\n",
    "\n",
    "\n",
    "# Tkinter GUI 실행\n",
    "if __name__ == \"__main__\":\n",
    "    hwp_service = HwpService()\n",
    "    root = tk.Tk()\n",
    "    excel_service = ExcelService()\n",
    "    서식모음_인스턴스 = 서식모음()\n",
    "    app = DocumentAutomationApp(root, excel_service, hwp_service,서식모음_인스턴스)\n",
    "    root.mainloop()\n",
    "\n",
    "# 엑셀 반복이 종료되면 한글 종료\n",
    "hwp_service.종료()\n"
   ]
  }
 ],
 "metadata": {
  "kernelspec": {
   "display_name": "Python 3",
   "language": "python",
   "name": "python3"
  },
  "language_info": {
   "codemirror_mode": {
    "name": "ipython",
    "version": 3
   },
   "file_extension": ".py",
   "mimetype": "text/x-python",
   "name": "python",
   "nbconvert_exporter": "python",
   "pygments_lexer": "ipython3",
   "version": "3.12.6"
  }
 },
 "nbformat": 4,
 "nbformat_minor": 2
}
