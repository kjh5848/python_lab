{
 "cells": [
  {
   "cell_type": "code",
   "execution_count": 1,
   "metadata": {},
   "outputs": [
    {
     "ename": "ImportError",
     "evalue": "cannot import name '서식이름' from '서식모음' (unknown location)",
     "output_type": "error",
     "traceback": [
      "\u001b[1;31m---------------------------------------------------------------------------\u001b[0m",
      "\u001b[1;31mImportError\u001b[0m                               Traceback (most recent call last)",
      "Cell \u001b[1;32mIn[1], line 4\u001b[0m\n\u001b[0;32m      2\u001b[0m \u001b[38;5;28;01mfrom\u001b[39;00m \u001b[38;5;21;01mexcel_service\u001b[39;00m \u001b[38;5;28;01mimport\u001b[39;00m ExcelService\n\u001b[0;32m      3\u001b[0m \u001b[38;5;28;01mfrom\u001b[39;00m \u001b[38;5;21;01mhwp_service\u001b[39;00m \u001b[38;5;28;01mimport\u001b[39;00m HwpService\n\u001b[1;32m----> 4\u001b[0m \u001b[38;5;28;01mfrom\u001b[39;00m \u001b[38;5;21;01mgui_app\u001b[39;00m \u001b[38;5;28;01mimport\u001b[39;00m DocumentAutomationApp\n\u001b[0;32m      5\u001b[0m \u001b[38;5;28;01mfrom\u001b[39;00m \u001b[38;5;21;01m서식모음\u001b[39;00m \u001b[38;5;28;01mimport\u001b[39;00m 서식모음\n\u001b[0;32m      6\u001b[0m \u001b[38;5;66;03m# import win32com.client\u001b[39;00m\n\u001b[0;32m      7\u001b[0m \u001b[38;5;66;03m# win32com.client.gencache.is_readonly = False\u001b[39;00m\n\u001b[0;32m      8\u001b[0m \u001b[38;5;66;03m# win32com.client.gencache.Rebuild()\u001b[39;00m\n\u001b[1;32m   (...)\u001b[0m\n\u001b[0;32m     11\u001b[0m \n\u001b[0;32m     12\u001b[0m \u001b[38;5;66;03m# Tkinter GUI 실행\u001b[39;00m\n",
      "File \u001b[1;32mc:\\Users\\thdus\\Desktop\\미래내일일경험\\06. 책임나누기\\gui_app.py:5\u001b[0m\n\u001b[0;32m      3\u001b[0m \u001b[38;5;28;01mfrom\u001b[39;00m \u001b[38;5;21;01mexcel_service\u001b[39;00m \u001b[38;5;28;01mimport\u001b[39;00m ExcelService\n\u001b[0;32m      4\u001b[0m \u001b[38;5;28;01mfrom\u001b[39;00m \u001b[38;5;21;01mhwp_service\u001b[39;00m \u001b[38;5;28;01mimport\u001b[39;00m HwpService\n\u001b[1;32m----> 5\u001b[0m \u001b[38;5;28;01mfrom\u001b[39;00m \u001b[38;5;21;01m서식모음\u001b[39;00m \u001b[38;5;28;01mimport\u001b[39;00m 서식이름\n\u001b[0;32m      6\u001b[0m \u001b[38;5;28;01mimport\u001b[39;00m \u001b[38;5;21;01mos\u001b[39;00m\n\u001b[0;32m      8\u001b[0m \u001b[38;5;28;01mclass\u001b[39;00m \u001b[38;5;21;01mDocumentAutomationApp\u001b[39;00m:\n",
      "\u001b[1;31mImportError\u001b[0m: cannot import name '서식이름' from '서식모음' (unknown location)"
     ]
    }
   ],
   "source": [
    "import tkinter as tk\n",
    "from excel_service import ExcelService\n",
    "from hwp_service import HwpService\n",
    "from gui_app import DocumentAutomationApp\n",
    "from 서식모음 import 서식모음\n",
    "# import win32com.client\n",
    "# win32com.client.gencache.is_readonly = False\n",
    "# win32com.client.gencache.Rebuild()\n",
    "\n",
    "\n",
    "\n",
    "# Tkinter GUI 실행\n",
    "if __name__ == \"__main__\":\n",
    "    hwp_service = HwpService()\n",
    "    root = tk.Tk()\n",
    "    excel_service = ExcelService()\n",
    "    서식모음_인스턴스 = 서식모음()\n",
    "    app = DocumentAutomationApp(root, excel_service, hwp_service,서식모음_인스턴스)\n",
    "    root.mainloop()\n",
    "\n",
    "# 엑셀 반복이 종료되면 한글 종료\n",
    "hwp_service.종료()\n"
   ]
  }
 ],
 "metadata": {
  "kernelspec": {
   "display_name": "Python 3",
   "language": "python",
   "name": "python3"
  },
  "language_info": {
   "codemirror_mode": {
    "name": "ipython",
    "version": 3
   },
   "file_extension": ".py",
   "mimetype": "text/x-python",
   "name": "python",
   "nbconvert_exporter": "python",
   "pygments_lexer": "ipython3",
   "version": "3.10.11"
  }
 },
 "nbformat": 4,
 "nbformat_minor": 2
}
