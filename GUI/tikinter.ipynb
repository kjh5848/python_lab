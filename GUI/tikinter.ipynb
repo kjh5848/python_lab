{
 "cells": [
  {
   "cell_type": "code",
   "execution_count": 13,
   "metadata": {},
   "outputs": [],
   "source": [
    "import tkinter as tk\n",
    "\n",
    "root = tk.Tk()  # 메인 윈도우 생성\n",
    "root.title(\"윈도우 제목\")  # 윈도우 제목 설정\n",
    "root.geometry(\"1000x2000\")  # 창 크기 설정 (가로 x 세로)\n",
    "\n",
    "##Label: 텍스트나 이미지를 표시\n",
    "label = tk.Label(root, text=\"Hello, Tkinter!\", font=(\"Arial\", 14))\n",
    "label.pack()\n",
    "\n",
    "#Button: 클릭 가능한 버튼\n",
    "button = tk.Button(root, text=\"클릭\", command=lambda: print(\"버튼 클릭\"))\n",
    "button.pack()\n",
    "\n",
    "#Entry: 텍스트 입력 필드\n",
    "entry = tk.Entry(root, width=30)\n",
    "entry.pack()\n",
    "\n",
    "#Text: 다중 행 텍스트 입력\n",
    "text = tk.Text(root, height=5, width=40)\n",
    "text.pack()\n",
    "\n",
    "\n",
    "#Checkbutton: 체크박스\n",
    "chk_var = tk.BooleanVar()\n",
    "checkbutton = tk.Checkbutton(root, text=\"체크하세요\", variable=chk_var)\n",
    "checkbutton.pack()\n",
    "\n",
    "\n",
    "#Radiobutton: 라디오 버튼\n",
    "radio_var = tk.StringVar()\n",
    "radio1 = tk.Radiobutton(root, text=\"옵션1\", value=\"1\", variable=radio_var)\n",
    "radio2 = tk.Radiobutton(root, text=\"옵션2\", value=\"2\", variable=radio_var)\n",
    "radio1.pack()\n",
    "radio2.pack()\n",
    "\n",
    "#Listbox: 항목 리스트\n",
    "listbox = tk.Listbox(root)\n",
    "listbox.insert(1, \"항목 1\")\n",
    "listbox.insert(2, \"항목 2\")\n",
    "listbox.pack()\n",
    "\n",
    "\n",
    "root.mainloop()  # 이벤트 루프 실행\n"
   ]
  },
  {
   "cell_type": "code",
   "execution_count": 21,
   "metadata": {},
   "outputs": [
    {
     "ename": "TclError",
     "evalue": "bad geometry specifier \"8001200\"",
     "output_type": "error",
     "traceback": [
      "\u001b[1;31m---------------------------------------------------------------------------\u001b[0m",
      "\u001b[1;31mTclError\u001b[0m                                  Traceback (most recent call last)",
      "Cell \u001b[1;32mIn[21], line 6\u001b[0m\n\u001b[0;32m      3\u001b[0m root \u001b[38;5;241m=\u001b[39m tk\u001b[38;5;241m.\u001b[39mTk()  \u001b[38;5;66;03m# 메인 윈도우 생성\u001b[39;00m\n\u001b[0;32m      5\u001b[0m root\u001b[38;5;241m.\u001b[39mtitle(\u001b[38;5;124m\"\u001b[39m\u001b[38;5;124m윈도우 제목\u001b[39m\u001b[38;5;124m\"\u001b[39m)\n\u001b[1;32m----> 6\u001b[0m \u001b[43mroot\u001b[49m\u001b[38;5;241;43m.\u001b[39;49m\u001b[43mgeometry\u001b[49m\u001b[43m(\u001b[49m\u001b[38;5;124;43m\"\u001b[39;49m\u001b[38;5;124;43m8001200\u001b[39;49m\u001b[38;5;124;43m\"\u001b[39;49m\u001b[43m)\u001b[49m\n\u001b[0;32m      8\u001b[0m \u001b[38;5;66;03m##pack(): 위젯을 위/아래로 쌓음\u001b[39;00m\n\u001b[0;32m      9\u001b[0m \n\u001b[0;32m     10\u001b[0m \u001b[38;5;66;03m##Label: 텍스트나 이미지를 표시\u001b[39;00m\n\u001b[0;32m     11\u001b[0m label \u001b[38;5;241m=\u001b[39m tk\u001b[38;5;241m.\u001b[39mLabel(root, text\u001b[38;5;241m=\u001b[39m\u001b[38;5;124m\"\u001b[39m\u001b[38;5;124mHello, Tkinter!\u001b[39m\u001b[38;5;124m\"\u001b[39m, font\u001b[38;5;241m=\u001b[39m(\u001b[38;5;124m\"\u001b[39m\u001b[38;5;124mArial\u001b[39m\u001b[38;5;124m\"\u001b[39m, \u001b[38;5;241m14\u001b[39m))\n",
      "File \u001b[1;32mc:\\Python312\\Lib\\tkinter\\__init__.py:2120\u001b[0m, in \u001b[0;36mWm.wm_geometry\u001b[1;34m(self, newGeometry)\u001b[0m\n\u001b[0;32m   2117\u001b[0m \u001b[38;5;28;01mdef\u001b[39;00m \u001b[38;5;21mwm_geometry\u001b[39m(\u001b[38;5;28mself\u001b[39m, newGeometry\u001b[38;5;241m=\u001b[39m\u001b[38;5;28;01mNone\u001b[39;00m):\n\u001b[0;32m   2118\u001b[0m \u001b[38;5;250m    \u001b[39m\u001b[38;5;124;03m\"\"\"Set geometry to NEWGEOMETRY of the form =widthxheight+x+y. Return\u001b[39;00m\n\u001b[0;32m   2119\u001b[0m \u001b[38;5;124;03m    current value if None is given.\"\"\"\u001b[39;00m\n\u001b[1;32m-> 2120\u001b[0m     \u001b[38;5;28;01mreturn\u001b[39;00m \u001b[38;5;28;43mself\u001b[39;49m\u001b[38;5;241;43m.\u001b[39;49m\u001b[43mtk\u001b[49m\u001b[38;5;241;43m.\u001b[39;49m\u001b[43mcall\u001b[49m\u001b[43m(\u001b[49m\u001b[38;5;124;43m'\u001b[39;49m\u001b[38;5;124;43mwm\u001b[39;49m\u001b[38;5;124;43m'\u001b[39;49m\u001b[43m,\u001b[49m\u001b[43m \u001b[49m\u001b[38;5;124;43m'\u001b[39;49m\u001b[38;5;124;43mgeometry\u001b[39;49m\u001b[38;5;124;43m'\u001b[39;49m\u001b[43m,\u001b[49m\u001b[43m \u001b[49m\u001b[38;5;28;43mself\u001b[39;49m\u001b[38;5;241;43m.\u001b[39;49m\u001b[43m_w\u001b[49m\u001b[43m,\u001b[49m\u001b[43m \u001b[49m\u001b[43mnewGeometry\u001b[49m\u001b[43m)\u001b[49m\n",
      "\u001b[1;31mTclError\u001b[0m: bad geometry specifier \"8001200\""
     ]
    }
   ],
   "source": [
    "import tkinter as tk\n",
    "\n",
    "root = tk.Tk()  # 메인 윈도우 생성\n",
    "\n",
    "root.title(\"윈도우 제목\")\n",
    "root.geometry(\"800ㅁ1200\")\n",
    "\n",
    "##pack(): 위젯을 위/아래로 쌓음\n",
    "\n",
    "##Label: 텍스트나 이미지를 표시\n",
    "label = tk.Label(root, text=\"Hello, Tkinter!\", font=(\"Arial\", 14))\n",
    "label.pack(side=\"left\", padx=5, pady=5)\n",
    "\n",
    "#Button: 클릭 가능한 버튼\n",
    "button = tk.Button(root, text=\"클릭\", command=lambda: print(\"버튼 클릭\"))\n",
    "button.pack(side=\"left\", padx=5, pady=5)\n",
    "\n",
    "\n",
    "root.mainloop()  # 이벤트 루프 실행\n"
   ]
  },
  {
   "cell_type": "code",
   "execution_count": null,
   "metadata": {},
   "outputs": [],
   "source": []
  }
 ],
 "metadata": {
  "kernelspec": {
   "display_name": "Python 3",
   "language": "python",
   "name": "python3"
  },
  "language_info": {
   "codemirror_mode": {
    "name": "ipython",
    "version": 3
   },
   "file_extension": ".py",
   "mimetype": "text/x-python",
   "name": "python",
   "nbconvert_exporter": "python",
   "pygments_lexer": "ipython3",
   "version": "3.12.6"
  }
 },
 "nbformat": 4,
 "nbformat_minor": 2
}
