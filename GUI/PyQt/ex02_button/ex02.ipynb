{
 "cells": [
  {
   "cell_type": "code",
   "execution_count": 1,
   "metadata": {},
   "outputs": [
    {
     "name": "stdout",
     "output_type": "stream",
     "text": [
      "btn_1 Clicked\n",
      "btn_2 Clicked\n",
      "btn_2 Clicked\n",
      "btn_2 Clicked\n",
      "btn_2 Clicked\n",
      "btn_2 Clicked\n",
      "btn_2 Clicked\n",
      "btn_2 Clicked\n",
      "btn_1 Clicked\n",
      "btn_1 Clicked\n",
      "btn_1 Clicked\n",
      "btn_1 Clicked\n",
      "btn_1 Clicked\n",
      "btn_1 Clicked\n",
      "btn_1 Clicked\n"
     ]
    }
   ],
   "source": [
    "import sys\n",
    "from PyQt5.QtWidgets import *\n",
    "from PyQt5 import uic\n",
    "\n",
    "#UI파일 연결\n",
    "#단, UI파일은 Python 코드 파일과 같은 디렉토리에 위치해야한다.\n",
    "form_class = uic.loadUiType(\"ex02.ui\")[0]\n",
    "\n",
    "#화면을 띄우는데 사용되는 Class 선언\n",
    "class WindowClass(QMainWindow, form_class) :\n",
    "    def __init__(self) :\n",
    "        super().__init__()\n",
    "        self.setupUi(self)\n",
    "\n",
    "        #버튼에 기능을 연결하는 코드\n",
    "        self.btn_1.clicked.connect(self.button1Function)\n",
    "        self.btn_2.clicked.connect(self.button2Function)\n",
    "\n",
    "    #btn_1이 눌리면 작동할 함수\n",
    "    def button1Function(self) :\n",
    "        print(\"btn_1 Clicked\")\n",
    "\n",
    "    #btn_2가 눌리면 작동할 함수\n",
    "    def button2Function(self) :\n",
    "        print(\"btn_2 Clicked\")\n",
    "\n",
    "\n",
    "if __name__ == \"__main__\" :\n",
    "    app = QApplication(sys.argv)\n",
    "    myWindow = WindowClass() \n",
    "    myWindow.show()\n",
    "    app.exec_()\n"
   ]
  }
 ],
 "metadata": {
  "kernelspec": {
   "display_name": "Python 3",
   "language": "python",
   "name": "python3"
  },
  "language_info": {
   "codemirror_mode": {
    "name": "ipython",
    "version": 3
   },
   "file_extension": ".py",
   "mimetype": "text/x-python",
   "name": "python",
   "nbconvert_exporter": "python",
   "pygments_lexer": "ipython3",
   "version": "3.12.6"
  }
 },
 "nbformat": 4,
 "nbformat_minor": 2
}
