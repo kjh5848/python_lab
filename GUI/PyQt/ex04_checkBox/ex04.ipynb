{
 "cells": [
  {
   "cell_type": "code",
   "execution_count": 1,
   "metadata": {},
   "outputs": [
    {
     "name": "stdout",
     "output_type": "stream",
     "text": [
      "cb1\n",
      "cb2\n",
      "cb2\n",
      "cb3\n",
      "cb2\n",
      "cb3\n",
      "cb4\n",
      "gcb1\n",
      "gcb1\n",
      "gcb2\n",
      "gcb1\n",
      "gcb2\n",
      "gcb3\n",
      "gcb1\n",
      "gcb2\n",
      "gcb3\n",
      "gcb4\n",
      "cb1\n",
      "cb2\n",
      "cb3\n",
      "cb4\n",
      "cb2\n",
      "cb3\n",
      "cb4\n",
      "cb1\n",
      "cb2\n",
      "cb3\n",
      "cb4\n"
     ]
    }
   ],
   "source": [
    "import sys\n",
    "from PyQt5.QtWidgets import *\n",
    "from PyQt5 import uic\n",
    "\n",
    "form_class = uic.loadUiType(\"ex04.ui\")[0]\n",
    "\n",
    "class WindowClass(QMainWindow, form_class) :\n",
    "    def __init__(self) :\n",
    "        super().__init__()\n",
    "        self.setupUi(self)\n",
    "\n",
    "        self.cb1.stateChanged.connect(self.cbFunction)\n",
    "        self.cb2.stateChanged.connect(self.cbFunction)\n",
    "        self.cb3.stateChanged.connect(self.cbFunction)\n",
    "        self.cb4.stateChanged.connect(self.cbFunction)\n",
    "\n",
    "        self.gcb1.stateChanged.connect(self.gcbFunction)\n",
    "        self.gcb2.stateChanged.connect(self.gcbFunction)\n",
    "        self.gcb3.stateChanged.connect(self.gcbFunction)\n",
    "        self.gcb4.stateChanged.connect(self.gcbFunction)\n",
    "        \n",
    "\n",
    "    def cbFunction(self):\n",
    "        if self.cb1.isChecked() : print(\"cb1\")\n",
    "        if self.cb2.isChecked() : print(\"cb2\")\n",
    "        if self.cb3.isChecked() : print(\"cb3\")\n",
    "        if self.cb4.isChecked() : print(\"cb4\")\n",
    "\n",
    "    def gcbFunction(self):\n",
    "        if self.gcb1.isChecked() : print(\"gcb1\")\n",
    "        if self.gcb2.isChecked() : print(\"gcb2\")\n",
    "        if self.gcb3.isChecked() : print(\"gcb3\")\n",
    "        if self.gcb4.isChecked() : print(\"gcb4\")\n",
    "\n",
    "\n",
    "if __name__ == \"__main__\" :\n",
    "    app = QApplication(sys.argv)\n",
    "    myWindow = WindowClass()\n",
    "    myWindow.show()\n",
    "    app.exec_()\n"
   ]
  }
 ],
 "metadata": {
  "kernelspec": {
   "display_name": "Python 3",
   "language": "python",
   "name": "python3"
  },
  "language_info": {
   "codemirror_mode": {
    "name": "ipython",
    "version": 3
   },
   "file_extension": ".py",
   "mimetype": "text/x-python",
   "name": "python",
   "nbconvert_exporter": "python",
   "pygments_lexer": "ipython3",
   "version": "3.12.6"
  }
 },
 "nbformat": 4,
 "nbformat_minor": 2
}
