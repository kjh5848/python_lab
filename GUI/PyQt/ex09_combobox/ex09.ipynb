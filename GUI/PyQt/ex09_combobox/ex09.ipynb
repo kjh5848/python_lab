{
 "cells": [
  {
   "cell_type": "code",
   "execution_count": 2,
   "metadata": {},
   "outputs": [
    {
     "name": "stdout",
     "output_type": "stream",
     "text": [
      "1st Item\n",
      "\n",
      "Item Added\n",
      "Item Added\n",
      "Item Added\n",
      "asdasd\n",
      "asdasd\n",
      "asdasd\n",
      "asdasd\n",
      "asdasd\n",
      "asdasd\n",
      "Item Added\n",
      "Item Added\n",
      "asdasd\n",
      "Item Deleted\n"
     ]
    }
   ],
   "source": [
    "import sys\n",
    "from PyQt5.QtWidgets import *\n",
    "from PyQt5 import uic\n",
    "\n",
    "form_class = uic.loadUiType(\"ex09.ui\")[0]\n",
    "\n",
    "class WindowClass(QMainWindow, form_class) :\n",
    "    def __init__(self) :\n",
    "        super().__init__()\n",
    "        self.setupUi(self)\n",
    "\n",
    "        #프로그램 실행 시 두개의 ComboBox를 동기화시키는 코드\n",
    "        self.syncComboBox()\n",
    "\n",
    "        #ComboBox에 기능 연결\n",
    "        self.cmb_Test.currentIndexChanged.connect(self.comboBoxFunction)\n",
    "\n",
    "        #버튼에 기능 연결\n",
    "        self.btn_printItem.clicked.connect(self.printComboBoxItem)\n",
    "        self.btn_clearItem.clicked.connect(self.clearComboBoxItem)\n",
    "        self.btn_addItem.clicked.connect(self.addComboBoxItem)\n",
    "        self.btn_deleteItem.clicked.connect(self.deleteComboBoxItem)\n",
    "\n",
    "    def syncComboBox(self) :\n",
    "        for i in range(0,self.cmb_Test.count()) :\n",
    "            self.cmb_second.addItem(self.cmb_Test.itemText(i))\n",
    "\n",
    "    def comboBoxFunction(self) :\n",
    "        self.lbl_display.setText(self.cmb_Test.currentText())\n",
    "\n",
    "    def clearComboBoxItem(self) :\n",
    "        self.cmb_Test.clear()\n",
    "        self.cmb_second.clear()\n",
    "\n",
    "    def printComboBoxItem(self) :\n",
    "        print(self.cmb_second.currentText())\n",
    "\n",
    "    def addComboBoxItem(self) :\n",
    "        self.cmb_Test.addItem(self.lineedit_addItem.text())\n",
    "        self.cmb_second.addItem(self.lineedit_addItem.text())\n",
    "        print(\"Item Added\")\n",
    "\n",
    "    def deleteComboBoxItem(self) :\n",
    "        self.delidx = self.cmb_second.currentIndex()\n",
    "        self.cmb_Test.removeItem(self.delidx)\n",
    "        self.cmb_second.removeItem(self.delidx)\n",
    "        print(\"Item Deleted\")\n",
    "\n",
    "if __name__ == \"__main__\" :\n",
    "    app = QApplication(sys.argv)\n",
    "    myWindow = WindowClass()\n",
    "    myWindow.show()\n",
    "    app.exec_() \n"
   ]
  }
 ],
 "metadata": {
  "kernelspec": {
   "display_name": "Python 3",
   "language": "python",
   "name": "python3"
  },
  "language_info": {
   "codemirror_mode": {
    "name": "ipython",
    "version": 3
   },
   "file_extension": ".py",
   "mimetype": "text/x-python",
   "name": "python",
   "nbconvert_exporter": "python",
   "pygments_lexer": "ipython3",
   "version": "3.12.6"
  }
 },
 "nbformat": 4,
 "nbformat_minor": 2
}
