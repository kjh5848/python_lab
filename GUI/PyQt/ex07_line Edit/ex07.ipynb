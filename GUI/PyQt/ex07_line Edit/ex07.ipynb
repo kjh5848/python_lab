{
 "cells": [
  {
   "cell_type": "code",
   "execution_count": null,
   "metadata": {},
   "outputs": [],
   "source": [
    "import sys\n",
    "from PyQt5.QtWidgets import *\n",
    "from PyQt5 import uic\n",
    "\n",
    "form_class = uic.loadUiType(\"ex07.ui\")[0]\n",
    "\n",
    "class WindowClass(QMainWindow, form_class) :\n",
    "    def __init__(self) :\n",
    "        super().__init__()\n",
    "        self.setupUi(self)\n",
    "\n",
    "        #버튼에 기능을 할당하는 코드\n",
    "        self.lineEdit.textChanged.connect(self.lineEditTextFunction)\n",
    "        self.lineEdit.returnPressed.connect(self.printTextFunction)\n",
    "        self.btn.clicked.connect(self.changeTextFunction)\n",
    "\n",
    "    def lineEditTextFunction(self) :\n",
    "        self.label.setText(self.lineEdit.text())\n",
    "\n",
    "    def printTextFunction(self) :\n",
    "        #self.lineedit이름.text()\n",
    "        #Lineedit에 있는 글자를 가져오는 메서드\n",
    "        print(self.lineEdit.text())\n",
    "\n",
    "    def changeTextFunction(self) :\n",
    "        #self.lineedit이름.setText(\"String\")\n",
    "        #Lineedit의 글자를 바꾸는 메서드\n",
    "        self.lineEdit.setText(\"이소연\")\n",
    "         \n",
    "    app = QApplication(sys.argv)\n",
    "    myWindow = WindowClass()\n",
    "    myWindow.show()\n",
    "    app.exec_()\n"
   ]
  }
 ],
 "metadata": {
  "kernelspec": {
   "display_name": "Python 3",
   "language": "python",
   "name": "python3"
  },
  "language_info": {
   "codemirror_mode": {
    "name": "ipython",
    "version": 3
   },
   "file_extension": ".py",
   "mimetype": "text/x-python",
   "name": "python",
   "nbconvert_exporter": "python",
   "pygments_lexer": "ipython3",
   "version": "3.12.6"
  }
 },
 "nbformat": 4,
 "nbformat_minor": 2
}
