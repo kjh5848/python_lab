{
 "cells": [
  {
   "cell_type": "code",
   "execution_count": null,
   "metadata": {},
   "outputs": [],
   "source": [
    "import sys\n",
    "from PyQt5.QtWidgets import *\n",
    "from PyQt5 import uic\n",
    "\n",
    "form_class = uic.loadUiType(\"plaintexteditTest.ui\")[0]\n",
    "\n",
    "class WindowClass(QMainWindow, form_class) :\n",
    "    def __init__(self) :\n",
    "        super().__init__()\n",
    "        self.setupUi(self)\n",
    "\n",
    "        #PlainTextEdit과 관련된 버튼에 기능 연결\n",
    "        self.btn_printPlainTextEdit.clicked.connect(self.printPlainTextEdit)\n",
    "        self.btn_clearPlainTextEdit.clicked.connect(self.clearPlainTextEdit)\n",
    "        self.btn_appendPlainText.clicked.connect(self.appendPlainText)\n",
    "\n",
    "    #PlainTextEdit과 관련된 함수\n",
    "    def printPlainTextEdit(self) :\n",
    "        print(self.plaintextedit_Test.toPlainText())\n",
    "\n",
    "    def clearPlainTextEdit(self) :\n",
    "        self.plaintextedit_Test.clear()\n",
    "\n",
    "    def appendPlainText(self) :\n",
    "        self.plaintextedit_Test.appendPlainText(\"Append Plain Text\")\n",
    "\n",
    "if __name__ == \"__main__\" :\n",
    "    app = QApplication(sys.argv)\n",
    "    myWindow = WindowClass()\n",
    "    myWindow.show()\n",
    "    app.exec_() "
   ]
  }
 ],
 "metadata": {
  "kernelspec": {
   "display_name": "Python 3",
   "language": "python",
   "name": "python3"
  },
  "language_info": {
   "codemirror_mode": {
    "name": "ipython",
    "version": 3
   },
   "file_extension": ".py",
   "mimetype": "text/x-python",
   "name": "python",
   "nbconvert_exporter": "python",
   "pygments_lexer": "ipython3",
   "version": "3.12.6"
  }
 },
 "nbformat": 4,
 "nbformat_minor": 2
}
