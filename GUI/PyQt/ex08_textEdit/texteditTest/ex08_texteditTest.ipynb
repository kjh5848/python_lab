{
 "cells": [
  {
   "cell_type": "code",
   "execution_count": 1,
   "metadata": {},
   "outputs": [
    {
     "name": "stdout",
     "output_type": "stream",
     "text": [
      "5.15.11\n"
     ]
    }
   ],
   "source": [
    "from PyQt5.Qt import PYQT_VERSION_STR\n",
    "print(PYQT_VERSION_STR)"
   ]
  },
  {
   "cell_type": "code",
   "execution_count": null,
   "metadata": {},
   "outputs": [],
   "source": [
    "import sys\n",
    "from PyQt5.QtWidgets import *\n",
    "from PyQt5.QtGui import *\n",
    "from PyQt5 import uic\n",
    "\n",
    "form_class = uic.loadUiType(\"texteditTest.ui\")[0]\n",
    "\n",
    "class WindowClass(QMainWindow, form_class) :\n",
    "    def __init__(self) :\n",
    "        super().__init__()\n",
    "        self.setupUi(self)\n",
    "        self.fontSize = 10\n",
    "\n",
    "        #TextEdit과 관련된 버튼에 기능 연결\n",
    "        self.btn_printTextEdit.clicked.connect(self.printTextEdit)\n",
    "        self.btn_clearTextEdit.clicked.connect(self.clearTextEdit)\n",
    "        self.btn_setFont.clicked.connect(self.setFont)\n",
    "        self.btn_setFontItalic.clicked.connect(self.fontItalic)\n",
    "        self.btn_setFontColor.clicked.connect(self.fontColorRed)\n",
    "        self.btn_fontSizeUp.clicked.connect(self.fontSizeUp)\n",
    "        self.btn_fontSizeDown.clicked.connect(self.fontSizeDown)\n",
    "\n",
    "    def printTextEdit(self) :\n",
    "        print(self.textedit_Test.toPlainText())\n",
    "\n",
    "    def clearTextEdit(self) :\n",
    "        self.textedit_Test.clear()\n",
    "\n",
    "    def setFont(self) :\n",
    "        fontvar = QFont(\"Apple SD Gothic Neo\",10)\n",
    "        self.textedit_Test.setCurrentFont(fontvar)\n",
    "\n",
    "    def fontItalic(self) :\n",
    "        self.textedit_Test.setFontItalic(True)\n",
    "\n",
    "    def fontColorRed(self) :\n",
    "        colorvar = QColor(255,0,0)\n",
    "        self.textedit_Test.setTextColor(colorvar)\n",
    "\n",
    "    def fontSizeUp(self) :\n",
    "        self.fontSize = self.fontSize + 1\n",
    "        self.textedit_Test.setFontPointSize(self.fontSize)\n",
    "\n",
    "    def fontSizeDown(self) :\n",
    "        self.fontSize = self.fontSize - 1\n",
    "        self.textedit_Test.setFontPointSize(self.fontSize)\n",
    "\n",
    "if __name__ == \"__main__\" :\n",
    "    app = QApplication(sys.argv)\n",
    "    myWindow = WindowClass()\n",
    "    myWindow.show()\n",
    "    app.exec_() "
   ]
  }
 ],
 "metadata": {
  "kernelspec": {
   "display_name": "Python 3",
   "language": "python",
   "name": "python3"
  },
  "language_info": {
   "codemirror_mode": {
    "name": "ipython",
    "version": 3
   },
   "file_extension": ".py",
   "mimetype": "text/x-python",
   "name": "python",
   "nbconvert_exporter": "python",
   "pygments_lexer": "ipython3",
   "version": "3.12.6"
  }
 },
 "nbformat": 4,
 "nbformat_minor": 2
}
