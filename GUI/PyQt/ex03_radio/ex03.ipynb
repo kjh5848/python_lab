{
 "cells": [
  {
   "cell_type": "code",
   "execution_count": 1,
   "metadata": {},
   "outputs": [
    {
     "name": "stdout",
     "output_type": "stream",
     "text": [
      "GroupBox_rad1 Chekced\n",
      "GroupBox_rad2 Checked\n",
      "GroupBox_rad3 Checked\n"
     ]
    }
   ],
   "source": [
    "import sys\n",
    "from PyQt5.QtWidgets import *\n",
    "from PyQt5 import uic\n",
    "\n",
    "form_class = uic.loadUiType(\"ex03.ui\")[0]\n",
    "\n",
    "class WindowClass(QMainWindow, form_class) :\n",
    "    def __init__(self) :\n",
    "        super().__init__()\n",
    "        self.setupUi(self)\n",
    "\n",
    "        #GroupBox안에 있는 RadioButton들을 연결합니다.\n",
    "        #GroupBox의 자세한 설명은 02.14 GroupBox를 참고하세요.\n",
    "        self.GroupBox_rad1.clicked.connect(self.groupboxRadFunction)\n",
    "        self.GroupBox_rad2.clicked.connect(self.groupboxRadFunction)\n",
    "        self.GroupBox_rad3.clicked.connect(self.groupboxRadFunction)\n",
    "\n",
    "    def groupboxRadFunction(self) :\n",
    "        if self.GroupBox_rad1.isChecked() : print(\"GroupBox_rad1 Chekced\")\n",
    "        elif self.GroupBox_rad2.isChecked() : print(\"GroupBox_rad2 Checked\")\n",
    "        elif self.GroupBox_rad3.isChecked() : print(\"GroupBox_rad3 Checked\")\n",
    "\n",
    "if __name__ == \"__main__\" :\n",
    "    app = QApplication(sys.argv)\n",
    "    myWindow = WindowClass()\n",
    "    myWindow.show()\n",
    "    app.exec_()\n"
   ]
  }
 ],
 "metadata": {
  "kernelspec": {
   "display_name": "Python 3",
   "language": "python",
   "name": "python3"
  },
  "language_info": {
   "codemirror_mode": {
    "name": "ipython",
    "version": 3
   },
   "file_extension": ".py",
   "mimetype": "text/x-python",
   "name": "python",
   "nbconvert_exporter": "python",
   "pygments_lexer": "ipython3",
   "version": "3.12.6"
  }
 },
 "nbformat": 4,
 "nbformat_minor": 2
}
