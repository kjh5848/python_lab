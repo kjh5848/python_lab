{
 "cells": [
  {
   "cell_type": "code",
   "execution_count": 1,
   "metadata": {},
   "outputs": [],
   "source": [
    "import sys\n",
    "from PyQt5.QtWidgets import *\n",
    "from PyQt5 import uic\n",
    "\n",
    "form_class = uic.loadUiType(\"ex06.ui\")[0]\n",
    "\n",
    "class WindowClass(QMainWindow, form_class) :\n",
    "    def __init__(self) :\n",
    "        super().__init__()\n",
    "        self.setupUi(self)\n",
    "\n",
    "        #버튼에 기능을 할당하는 코드\n",
    "        self.setText.clicked.connect(self.setTextFunction)\n",
    "        self.print.clicked.connect(self.printTextFunction)\n",
    "        self.appendText.clicked.connect(self.appendTextFunction)\n",
    "        self.clear.clicked.connect(self.clearTextFunction)\n",
    "\n",
    "    def printTextFunction(self):\n",
    "        #self.Textbrowser이름.toPlainText()\n",
    "        #Textbrowser에 있는 글자를 가져오는 메서드\n",
    "        print(self.textBrowser.toPlaintText())\n",
    "\n",
    "    def setTextFunction(self) :\n",
    "        #self.Textbrowser이름.setPlainText()\n",
    "        #Textbrowser에 있는 글자를 가져오는 메서드\n",
    "        self.textBrowser.setPlainText(\"죽기전까지 화이팅!\")\n",
    "\n",
    "    def appendTextFunction(self) :\n",
    "        #self.Textbrowser이름.append()\n",
    "        #Textbrowser에 있는 글자를 가져오는 메서드\n",
    "        self.textBrowser.append(\"더더더더더더 해라\")\n",
    "\n",
    "    def clearTextFunction(self) :\n",
    "        #self.Textbrowser.clear()\n",
    "        #Textbrowser에 있는 글자를 지우는 메서드\n",
    "        self.textBrowser.clear()\n",
    "\n",
    "\n",
    "\n",
    "if __name__ == \"__main__\" :\n",
    "    app = QApplication(sys.argv)\n",
    "    myWindow = WindowClass()\n",
    "    myWindow.show()\n",
    "    app.exec_()\n"
   ]
  }
 ],
 "metadata": {
  "kernelspec": {
   "display_name": "Python 3",
   "language": "python",
   "name": "python3"
  },
  "language_info": {
   "codemirror_mode": {
    "name": "ipython",
    "version": 3
   },
   "file_extension": ".py",
   "mimetype": "text/x-python",
   "name": "python",
   "nbconvert_exporter": "python",
   "pygments_lexer": "ipython3",
   "version": "3.12.6"
  }
 },
 "nbformat": 4,
 "nbformat_minor": 2
}
