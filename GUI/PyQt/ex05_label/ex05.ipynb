{
 "cells": [
  {
   "cell_type": "code",
   "execution_count": 1,
   "metadata": {},
   "outputs": [
    {
     "name": "stdout",
     "output_type": "stream",
     "text": [
      "This is Label - Change Text\n"
     ]
    }
   ],
   "source": [
    "import sys\n",
    "from PyQt5.QtWidgets import *\n",
    "from PyQt5 import uic\n",
    "\n",
    "form_class = uic.loadUiType(\"ex05.ui\")[0]\n",
    "\n",
    "class WindowClass(QMainWindow, form_class) :\n",
    "    def __init__(self) :\n",
    "        super().__init__()\n",
    "        self.setupUi(self)\n",
    "\n",
    "        #버튼에 기능을 할당하는 코드\n",
    "        self.c_btn.clicked.connect(self.changeTextFunction)\n",
    "        self.p_btn.clicked.connect(self.printTextFunction)\n",
    "\n",
    "    def changeTextFunction(self) :\n",
    "        #self.Label이름.setText(\"String\")\n",
    "        #Label에 글자를 바꾸는 메서드\n",
    "        self.label.setText(\"This is Label - Change Text\")\n",
    "\n",
    "    def printTextFunction(self) :\n",
    "        #self.Label이름.text()\n",
    "        #Label에 있는 글자를 가져오는 메서드\n",
    "        print(self.label.text())\n",
    "\n",
    "if __name__ == \"__main__\" :\n",
    "    app = QApplication(sys.argv)\n",
    "    myWindow = WindowClass()\n",
    "    myWindow.show()\n",
    "    app.exec_()\n"
   ]
  }
 ],
 "metadata": {
  "kernelspec": {
   "display_name": "Python 3",
   "language": "python",
   "name": "python3"
  },
  "language_info": {
   "codemirror_mode": {
    "name": "ipython",
    "version": 3
   },
   "file_extension": ".py",
   "mimetype": "text/x-python",
   "name": "python",
   "nbconvert_exporter": "python",
   "pygments_lexer": "ipython3",
   "version": "3.12.6"
  }
 },
 "nbformat": 4,
 "nbformat_minor": 2
}
