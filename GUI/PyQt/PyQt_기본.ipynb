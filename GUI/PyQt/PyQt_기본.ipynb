{
 "cells": [
  {
   "cell_type": "code",
   "execution_count": 1,
   "metadata": {},
   "outputs": [
    {
     "ename": "SystemExit",
     "evalue": "0",
     "output_type": "error",
     "traceback": [
      "An exception has occurred, use %tb to see the full traceback.\n",
      "\u001b[1;31mSystemExit\u001b[0m\u001b[1;31m:\u001b[0m 0\n"
     ]
    },
    {
     "name": "stderr",
     "output_type": "stream",
     "text": [
      "C:\\Users\\Administrator\\AppData\\Roaming\\Python\\Python312\\site-packages\\IPython\\core\\interactiveshell.py:3585: UserWarning: To exit: use 'exit', 'quit', or Ctrl-D.\n",
      "  warn(\"To exit: use 'exit', 'quit', or Ctrl-D.\", stacklevel=1)\n"
     ]
    }
   ],
   "source": [
    "import sys\n",
    "from PyQt5.QtWidgets import QApplication, QWidget, QLabel, QPushButton, QVBoxLayout\n",
    "\n",
    "\"\"\"\n",
    "QApplication: PyQt 애플리케이션의 인스턴스를 생성합니다.\n",
    "QWidget: 기본 창 클래스입니다.\n",
    "QLabel: 텍스트를 표시하는 위젯입니다.\n",
    "QPushButton: 클릭 가능한 버튼 위젯입니다.\n",
    "QVBoxLayout: 위젯을 세로로 정렬하는 레이아웃입니다.\n",
    "clicked.connect(): 버튼 클릭 시 특정 메서드(이 예제에서는 on_click())를 연결합니다.\n",
    "\"\"\"\n",
    "\n",
    "class MyApp(QWidget):\n",
    "    def __init__(self):\n",
    "        super().__init__()\n",
    "        self.initUI()\n",
    "\n",
    "    def initUI(self):\n",
    "        # 라벨 생성\n",
    "        self.label = QLabel('Hello, PyQt!', self)\n",
    "\n",
    "        # 버튼 생성\n",
    "        self.button = QPushButton('Click Me', self)\n",
    "        self.button.clicked.connect(self.on_click)\n",
    "\n",
    "        # 레이아웃 설정\n",
    "        layout = QVBoxLayout()\n",
    "        layout.addWidget(self.label)\n",
    "        layout.addWidget(self.button)\n",
    "        self.setLayout(layout)\n",
    "\n",
    "        # 창 설정\n",
    "        self.setWindowTitle('PyQt Example')\n",
    "        self.setGeometry(300, 300, 300, 200)\n",
    "        self.show()\n",
    "\n",
    "    def on_click(self):\n",
    "        self.label.setText('Button Clicked!')\n",
    "\n",
    "# 애플리케이션 실행\n",
    "if __name__ == '__main__':\n",
    "    app = QApplication(sys.argv)\n",
    "    ex = MyApp()\n",
    "    sys.exit(app.exec_())\n"
   ]
  }
 ],
 "metadata": {
  "kernelspec": {
   "display_name": "Python 3",
   "language": "python",
   "name": "python3"
  },
  "language_info": {
   "codemirror_mode": {
    "name": "ipython",
    "version": 3
   },
   "file_extension": ".py",
   "mimetype": "text/x-python",
   "name": "python",
   "nbconvert_exporter": "python",
   "pygments_lexer": "ipython3",
   "version": "3.12.6"
  }
 },
 "nbformat": 4,
 "nbformat_minor": 2
}
