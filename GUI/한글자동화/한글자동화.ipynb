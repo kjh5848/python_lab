{
 "cells": [
  {
   "cell_type": "code",
   "execution_count": null,
   "metadata": {},
   "outputs": [],
   "source": [
    "import sys\n",
    "from PyQt5.QtWidgets import * # type: ignore\n",
    "from PyQt5 import uic # type: ignore\n",
    "import os\n",
    "\n",
    "#UI파일 연결\n",
    "#이건 py에서만_> ui_file = os.path.join(os.path.dirname(__file__), \"ex01.ui\")\n",
    "form_class = uic.loadUiType(\"ex01.ui\")[0]\n",
    "\n",
    "#화면을 띄우는데 사용되는 Class 선언\n",
    "class WindowClass(QMainWindow, form_class) :\n",
    "    def __init__(self) :import sys\n",
    "from PyQt5.QtWidgets import * # type: ignore\n",
    "from PyQt5 import uic # type: ignore\n",
    "import os\n",
    "\n",
    "#UI파일 연결\n",
    "#이건 py에서만_> ui_file = os.path.join(os.path.dirname(__file__), \"ex01.ui\")\n",
    "form_class = uic.loadUiType(\"ex01.ui\")[0]\n",
    "\n",
    "#화면을 띄우는데 사용되는 Class 선언\n",
    "class WindowClass(QMainWindow, form_class) :\n",
    "    def __init__(self) :\n",
    "        super().__init__()\n",
    "        self.setupUi(self)\n",
    "    \n",
    "    \n",
    "    \n",
    "\n",
    "    \"\"\" \n",
    "    ---------------------------------------------\n",
    "    이 부분에 시그널을 입력해야 합니다.\n",
    "    시그널이 작동할 때 실행될 기능은 보통 이 클래스의 멤버함수로 작성합니다.\n",
    "    ---------------------------------------------\n",
    "    \"\"\"\n",
    "\n",
    "\n",
    "if __name__ == \"__main__\" :\n",
    "    #QApplication : 프로그램을 실행시켜주는 클래스\n",
    "    app = QApplication(sys.argv) \n",
    "\n",
    "    #WindowClass의 인스턴스 생성\n",
    "    myWindow = WindowClass() \n",
    "\n",
    "    #프로그램 화면을 보여주는 코드\n",
    "    myWindow.show()\n",
    "\n",
    "    #프로그램을 이벤트루프로 진입시키는(프로그램을 작동시키는) 코드\n",
    "    app.exec_()"
   ]
  },
  {
   "cell_type": "code",
   "execution_count": null,
   "metadata": {},
   "outputs": [],
   "source": []
  }
 ],
 "metadata": {
  "kernelspec": {
   "display_name": "Python 3",
   "language": "python",
   "name": "python3"
  },
  "language_info": {
   "name": "python",
   "version": "3.12.6"
  }
 },
 "nbformat": 4,
 "nbformat_minor": 2
}
