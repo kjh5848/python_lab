{
 "cells": [
  {
   "cell_type": "code",
   "execution_count": 1,
   "metadata": {},
   "outputs": [],
   "source": [
    "from imports import *\n",
    "from PyQt5.QtWidgets import *\n",
    "from PyQt5 import uic\n",
    "from components.combo_component import ComboComponent\n",
    "#UI파일 연결\n",
    "form_class = uic.loadUiType(\"한글자동화.ui\")[0]\n",
    "\n",
    "\n",
    "#화면을 띄우는데 사용되는 Class 선언\n",
    "class WindowClass(QMainWindow, form_class) :\n",
    "    def __init__(self) :\n",
    "        super().__init__()\n",
    "        self.setupUi(self)\n",
    "    \n",
    "         # ComboComponent 초기화\n",
    "        self.combo_component = ComboComponent(\n",
    "            cmb_program_step=self.cmb_Test_6,  # UI에서 가져온 프로그램 단계 콤보박스\n",
    "            cmb_unit=self.cmb_Test_7  # UI에서 가져온 단위 콤보박스\n",
    "        )\n",
    "    \n",
    "\n",
    "\n",
    "if __name__ == \"__main__\" :\n",
    "    #QApplication : 프로그램을 실행시켜주는 클래스\n",
    "    app = QApplication(sys.argv) \n",
    "\n",
    "    #WindowClass의 인스턴스 생성\n",
    "    myWindow = WindowClass() \n",
    "\n",
    "    #프로그램 화면을 보여주는 코드\n",
    "    myWindow.show()\n",
    "\n",
    "    #프로그램을 이벤트루프로 진입시키는(프로그램을 작동시키는) 코드\n",
    "    app.exec_()"
   ]
  }
 ],
 "metadata": {
  "kernelspec": {
   "display_name": "Python 3",
   "language": "python",
   "name": "python3"
  },
  "language_info": {
   "codemirror_mode": {
    "name": "ipython",
    "version": 3
   },
   "file_extension": ".py",
   "mimetype": "text/x-python",
   "name": "python",
   "nbconvert_exporter": "python",
   "pygments_lexer": "ipython3",
   "version": "3.12.6"
  }
 },
 "nbformat": 4,
 "nbformat_minor": 2
}
