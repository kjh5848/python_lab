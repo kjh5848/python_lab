{
 "cells": [
  {
   "cell_type": "code",
   "execution_count": null,
   "metadata": {},
   "outputs": [],
   "source": [
    "import sys\n",
    "from PyQt5.QtWidgets import QApplication, QMainWindow\n",
    "from PyQt5 import uic\n",
    "from 프로그램단계 import ComboComponent  # 컴포넌트 임포트\n",
    "\n",
    "# UI 파일 경로\n",
    "UI_FILE = \"ui/프로그램단계.ui\"\n",
    "\n",
    "class MainWindow(QMainWindow):\n",
    "    def __init__(self):\n",
    "        super().__init__()\n",
    "        uic.loadUi(UI_FILE, self)\n",
    "\n",
    "        # 위젯 참조\n",
    "        self.cmb_program_step = self.cmb_Test_6\n",
    "        self.cmb_unit = self.cmb_Test_7\n",
    "\n",
    "        # 콤보박스 컴포넌트 초기화\n",
    "        self.combo_component = ComboComponent(self.cmb_program_step, self.cmb_unit)\n",
    "\n",
    "if __name__ == \"__main__\":\n",
    "    app = QApplication(sys.argv)\n",
    "    window = MainWindow()\n",
    "    window.show()\n",
    "    sys.exit(app.exec_())\n"
   ]
  }
 ],
 "metadata": {
  "kernelspec": {
   "display_name": "Python 3",
   "language": "python",
   "name": "python3"
  },
  "language_info": {
   "codemirror_mode": {
    "name": "ipython",
    "version": 3
   },
   "file_extension": ".py",
   "mimetype": "text/x-python",
   "name": "python",
   "nbconvert_exporter": "python",
   "pygments_lexer": "ipython3",
   "version": "3.12.6"
  }
 },
 "nbformat": 4,
 "nbformat_minor": 2
}
