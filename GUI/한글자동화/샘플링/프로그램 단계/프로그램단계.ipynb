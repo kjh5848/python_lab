{
 "cells": [
  {
   "cell_type": "code",
   "execution_count": 1,
   "metadata": {},
   "outputs": [
    {
     "ename": "AttributeError",
     "evalue": "type object 'ProgramStep' has no attribute 'UNIT_OPTIONS'",
     "output_type": "error",
     "traceback": [
      "\u001b[1;31m---------------------------------------------------------------------------\u001b[0m",
      "\u001b[1;31mAttributeError\u001b[0m                            Traceback (most recent call last)",
      "File \u001b[1;32mc:\\Users\\Administrator\\Desktop\\미래내일일경험 공유\\python_lab\\GUI\\한글자동화\\샘플링\\프로그램 단계\\프로그램단계.py:28\u001b[0m, in \u001b[0;36mComboComponent.update_unit_options\u001b[1;34m(self)\u001b[0m\n\u001b[0;32m     26\u001b[0m \u001b[38;5;66;03m# Update the unit ComboBox based on the selected step\u001b[39;00m\n\u001b[0;32m     27\u001b[0m \u001b[38;5;28mself\u001b[39m\u001b[38;5;241m.\u001b[39mcmb_unit\u001b[38;5;241m.\u001b[39mclear()\n\u001b[1;32m---> 28\u001b[0m \u001b[38;5;28;01mif\u001b[39;00m selected_step \u001b[38;5;129;01min\u001b[39;00m \u001b[43mProgramStep\u001b[49m\u001b[38;5;241;43m.\u001b[39;49m\u001b[43mUNIT_OPTIONS\u001b[49m:\n\u001b[0;32m     29\u001b[0m     \u001b[38;5;28mself\u001b[39m\u001b[38;5;241m.\u001b[39mcmb_unit\u001b[38;5;241m.\u001b[39maddItems(ProgramStep\u001b[38;5;241m.\u001b[39mUNIT_OPTIONS[selected_step])\n\u001b[0;32m     30\u001b[0m \u001b[38;5;28;01melse\u001b[39;00m:\n",
      "\u001b[1;31mAttributeError\u001b[0m: type object 'ProgramStep' has no attribute 'UNIT_OPTIONS'"
     ]
    },
    {
     "ename": "SystemExit",
     "evalue": "0",
     "output_type": "error",
     "traceback": [
      "An exception has occurred, use %tb to see the full traceback.\n",
      "\u001b[1;31mSystemExit\u001b[0m\u001b[1;31m:\u001b[0m 0\n"
     ]
    },
    {
     "name": "stderr",
     "output_type": "stream",
     "text": [
      "C:\\Users\\Administrator\\AppData\\Roaming\\Python\\Python312\\site-packages\\IPython\\core\\interactiveshell.py:3585: UserWarning: To exit: use 'exit', 'quit', or Ctrl-D.\n",
      "  warn(\"To exit: use 'exit', 'quit', or Ctrl-D.\", stacklevel=1)\n"
     ]
    }
   ],
   "source": [
    "import sys\n",
    "from PyQt5.QtWidgets import QApplication, QMainWindow\n",
    "from PyQt5 import uic\n",
    "from 프로그램단계 import ComboComponent  # 컴포넌트 임포트\n",
    "\n",
    "# UI 파일 경로\n",
    "form_class = uic.loadUiType(\"프로그램단계.ui\")[0]\n",
    "\n",
    "class MainWindow(QMainWindow,form_class):\n",
    "    def __init__(self):\n",
    "        super().__init__()\n",
    "        self.setupUi(self)\n",
    "\n",
    "                # 콤보박스 컴포넌트 초기화\n",
    "        self.combo_component = ComboComponent(\n",
    "            cmb_program_step = self.cmb_Test_6,\n",
    "            cmb_unit = self.cmb_Test_7\n",
    "            )\n",
    "\n",
    "if __name__ == \"__main__\":\n",
    "    app = QApplication(sys.argv)\n",
    "    window = MainWindow()\n",
    "    window.show()\n",
    "    sys.exit(app.exec_())\n"
   ]
  }
 ],
 "metadata": {
  "kernelspec": {
   "display_name": "Python 3",
   "language": "python",
   "name": "python3"
  },
  "language_info": {
   "codemirror_mode": {
    "name": "ipython",
    "version": 3
   },
   "file_extension": ".py",
   "mimetype": "text/x-python",
   "name": "python",
   "nbconvert_exporter": "python",
   "pygments_lexer": "ipython3",
   "version": "3.12.6"
  }
 },
 "nbformat": 4,
 "nbformat_minor": 2
}
