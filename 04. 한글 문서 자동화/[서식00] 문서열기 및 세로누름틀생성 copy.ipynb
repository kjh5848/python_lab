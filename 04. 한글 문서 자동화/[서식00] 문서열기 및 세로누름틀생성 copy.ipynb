{
 "cells": [
  {
   "cell_type": "code",
   "execution_count": 4,
   "metadata": {},
   "outputs": [
    {
     "ename": "NameError",
     "evalue": "name 'hwp' is not defined",
     "output_type": "error",
     "traceback": [
      "\u001b[1;31m---------------------------------------------------------------------------\u001b[0m",
      "\u001b[1;31mNameError\u001b[0m                                 Traceback (most recent call last)",
      "Cell \u001b[1;32mIn[4], line 27\u001b[0m\n\u001b[0;32m     24\u001b[0m         hwp\u001b[38;5;241m.\u001b[39mHAction\u001b[38;5;241m.\u001b[39mExecute(\u001b[38;5;124m\"\u001b[39m\u001b[38;5;124mMoveRight\u001b[39m\u001b[38;5;124m\"\u001b[39m, hwp\u001b[38;5;241m.\u001b[39mHParameterSet\u001b[38;5;241m.\u001b[39mHFindReplace\u001b[38;5;241m.\u001b[39mHSet)\n\u001b[0;32m     26\u001b[0m \u001b[38;5;66;03m# '연락처' 필드를 현재 커서 위치에서 시작으로 가로 방향으로 생성\u001b[39;00m\n\u001b[1;32m---> 27\u001b[0m 가로누름틀생성(\u001b[43mhwp\u001b[49m, \u001b[38;5;241m1\u001b[39m, \u001b[38;5;124m\"\u001b[39m\u001b[38;5;124m연락처\u001b[39m\u001b[38;5;124m\"\u001b[39m, \u001b[38;5;241m15\u001b[39m)\n",
      "\u001b[1;31mNameError\u001b[0m: name 'hwp' is not defined"
     ]
    }
   ],
   "source": [
    "from utill import excel_utill as u1, hwp_utill as u2\n",
    "\n",
    "# file_path_excel = r\"N:\\개인\\개발폴더\\엑셀과 한컴오피스\\파이썬 + 한글_자동화\\서식34.xlsx\"\n",
    "# sheet_name = \"참여자 명단\"\n",
    "# header = 0\n",
    "\n",
    "# u1.ExcelUtill.엑셀열기(file_path_excel, sheet_name, header)\n",
    "\n",
    "hwp2 = u2.HwpUtill()\n",
    "file_name=\"[서식102] 사전직무교육 운영계획서\"\n",
    "file_path=r\"C:\\Users\\thdus\\Desktop\\미래내일일경험\\07. 한글 문서\\❌누름틀 전_문서\\⭕누름틀 완료_문서\\0. 프로그램 등록 서류\"\n",
    "hwp2.파일열기(file_name=file_name, file_path=file_path)\n"
   ]
  },
  {
   "cell_type": "code",
   "execution_count": null,
   "metadata": {},
   "outputs": [
    {
     "data": {
      "text/plain": [
       "True"
      ]
     },
     "execution_count": 8,
     "metadata": {},
     "output_type": "execute_result"
    }
   ],
   "source": [
    "from utill import excel_utill as u1, hwp_utill2 as u3\n",
    "\n",
    "hwp2 = u3.HwpUtill()\n",
    "file_name=\"[서식102] 사전직무교육 운영계획서\"\n",
    "file_path=r\"C:\\Users\\thdus\\Desktop\\미래내일일경험\\07. 한글 문서\\❌누름틀 전_문서\\⭕누름틀 완료_문서\\0. 프로그램 등록 서류\"\n",
    "hwp2.파일열기(file_name=file_name, file_path=file_path)\n"
   ]
  },
  {
   "cell_type": "code",
   "execution_count": 10,
   "metadata": {},
   "outputs": [
    {
     "ename": "AttributeError",
     "evalue": "'HwpUtill' object has no attribute 'CreateField'",
     "output_type": "error",
     "traceback": [
      "\u001b[1;31m---------------------------------------------------------------------------\u001b[0m",
      "\u001b[1;31mAttributeError\u001b[0m                            Traceback (most recent call last)",
      "Cell \u001b[1;32mIn[10], line 1\u001b[0m\n\u001b[1;32m----> 1\u001b[0m \u001b[43mhwp2\u001b[49m\u001b[38;5;241;43m.\u001b[39;49m\u001b[43m가로누름틀생성\u001b[49m\u001b[43m(\u001b[49m\u001b[38;5;241;43m1\u001b[39;49m\u001b[43m,\u001b[49m\u001b[43m \u001b[49m\u001b[38;5;124;43m\"\u001b[39;49m\u001b[38;5;124;43m내용\u001b[39;49m\u001b[38;5;124;43m\"\u001b[39;49m\u001b[43m,\u001b[49m\u001b[43m \u001b[49m\u001b[38;5;241;43m15\u001b[39;49m\u001b[43m)\u001b[49m\n",
      "File \u001b[1;32mc:\\Users\\thdus\\Desktop\\미래내일일경험\\04. 한글 문서 자동화\\utill\\hwp_utill2.py:36\u001b[0m, in \u001b[0;36mHwpUtill.가로누름틀생성\u001b[1;34m(hwp, 시작인덱스, 필드이름, 개수)\u001b[0m\n\u001b[0;32m     34\u001b[0m \u001b[38;5;28;01mfor\u001b[39;00m i \u001b[38;5;129;01min\u001b[39;00m \u001b[38;5;28mrange\u001b[39m(개수):\n\u001b[0;32m     35\u001b[0m     field_name \u001b[38;5;241m=\u001b[39m \u001b[38;5;124mf\u001b[39m\u001b[38;5;124m\"\u001b[39m\u001b[38;5;132;01m{\u001b[39;00m필드이름\u001b[38;5;132;01m}\u001b[39;00m\u001b[38;5;124m_\u001b[39m\u001b[38;5;132;01m{\u001b[39;00m시작인덱스\u001b[38;5;250m \u001b[39m\u001b[38;5;241m+\u001b[39m\u001b[38;5;250m \u001b[39mi\u001b[38;5;132;01m}\u001b[39;00m\u001b[38;5;124m\"\u001b[39m\n\u001b[1;32m---> 36\u001b[0m     \u001b[43mhwp\u001b[49m\u001b[38;5;241;43m.\u001b[39;49m\u001b[43mCreateField\u001b[49m(필드이름, \u001b[38;5;124m\"\u001b[39m\u001b[38;5;124m\"\u001b[39m, field_name)\n\u001b[0;32m     37\u001b[0m     hwp\u001b[38;5;241m.\u001b[39mHAction\u001b[38;5;241m.\u001b[39mExecute(\u001b[38;5;124m\"\u001b[39m\u001b[38;5;124mMoveRight\u001b[39m\u001b[38;5;124m\"\u001b[39m, hwp\u001b[38;5;241m.\u001b[39mHParameterSet\u001b[38;5;241m.\u001b[39mHFindReplace\u001b[38;5;241m.\u001b[39mHSet)\n",
      "\u001b[1;31mAttributeError\u001b[0m: 'HwpUtill' object has no attribute 'CreateField'"
     ]
    }
   ],
   "source": [
    "hwp2.가로누름틀생성(1, \"내용\", 15)"
   ]
  },
  {
   "cell_type": "code",
   "execution_count": 11,
   "metadata": {},
   "outputs": [
    {
     "ename": "AttributeError",
     "evalue": "'HwpUtill' object has no attribute 'CreateField'",
     "output_type": "error",
     "traceback": [
      "\u001b[1;31m---------------------------------------------------------------------------\u001b[0m",
      "\u001b[1;31mAttributeError\u001b[0m                            Traceback (most recent call last)",
      "Cell \u001b[1;32mIn[11], line 13\u001b[0m\n\u001b[0;32m     10\u001b[0m         hwp2\u001b[38;5;241m.\u001b[39mHAction\u001b[38;5;241m.\u001b[39mExecute(\u001b[38;5;124m\"\u001b[39m\u001b[38;5;124mMoveRight\u001b[39m\u001b[38;5;124m\"\u001b[39m, hwp2\u001b[38;5;241m.\u001b[39mHParameterSet\u001b[38;5;241m.\u001b[39mHFindReplace\u001b[38;5;241m.\u001b[39mHSet)\n\u001b[0;32m     12\u001b[0m \u001b[38;5;66;03m# '연락처' 필드를 현재 커서 위치에서 시작으로 가로 방향으로 생성\u001b[39;00m\n\u001b[1;32m---> 13\u001b[0m \u001b[43m가로누름틀생성\u001b[49m\u001b[43m(\u001b[49m\u001b[43mhwp2\u001b[49m\u001b[43m,\u001b[49m\u001b[43m \u001b[49m\u001b[38;5;241;43m1\u001b[39;49m\u001b[43m,\u001b[49m\u001b[43m \u001b[49m\u001b[38;5;124;43m\"\u001b[39;49m\u001b[38;5;124;43m연락처\u001b[39;49m\u001b[38;5;124;43m\"\u001b[39;49m\u001b[43m,\u001b[49m\u001b[43m \u001b[49m\u001b[38;5;241;43m15\u001b[39;49m\u001b[43m)\u001b[49m\n",
      "Cell \u001b[1;32mIn[11], line 6\u001b[0m, in \u001b[0;36m가로누름틀생성\u001b[1;34m(hwp2, 시작인덱스, 필드이름, 개수)\u001b[0m\n\u001b[0;32m      3\u001b[0m field_name \u001b[38;5;241m=\u001b[39m \u001b[38;5;124mf\u001b[39m\u001b[38;5;124m\"\u001b[39m\u001b[38;5;132;01m{\u001b[39;00m필드이름\u001b[38;5;132;01m}\u001b[39;00m\u001b[38;5;124m_\u001b[39m\u001b[38;5;132;01m{\u001b[39;00m시작인덱스\u001b[38;5;250m \u001b[39m\u001b[38;5;241m+\u001b[39m\u001b[38;5;250m \u001b[39mi\u001b[38;5;132;01m}\u001b[39;00m\u001b[38;5;124m\"\u001b[39m\n\u001b[0;32m      5\u001b[0m \u001b[38;5;66;03m# 누름틀 필드 생성 (현재 커서 위치에 삽입)\u001b[39;00m\n\u001b[1;32m----> 6\u001b[0m \u001b[43mhwp2\u001b[49m\u001b[38;5;241;43m.\u001b[39;49m\u001b[43mCreateField\u001b[49m(필드이름, \u001b[38;5;124m\"\u001b[39m\u001b[38;5;124m\"\u001b[39m, field_name)\n\u001b[0;32m      7\u001b[0m \u001b[38;5;28mprint\u001b[39m(\u001b[38;5;124mf\u001b[39m\u001b[38;5;124m\"\u001b[39m\u001b[38;5;124mInserted field: \u001b[39m\u001b[38;5;132;01m{\u001b[39;00mfield_name\u001b[38;5;132;01m}\u001b[39;00m\u001b[38;5;124m\"\u001b[39m)\n\u001b[0;32m      9\u001b[0m \u001b[38;5;66;03m# 커서를 오른쪽으로 이동\u001b[39;00m\n",
      "\u001b[1;31mAttributeError\u001b[0m: 'HwpUtill' object has no attribute 'CreateField'"
     ]
    }
   ],
   "source": [
    "\n",
    "def 가로누름틀생성(hwp2, 시작인덱스, 필드이름, 개수):\n",
    "    for i in range(개수):\n",
    "        field_name = f\"{필드이름}_{시작인덱스 + i}\"\n",
    "        \n",
    "        # 누름틀 필드 생성 (현재 커서 위치에 삽입)\n",
    "        hwp2.CreateField(필드이름, \"\", field_name)\n",
    "        print(f\"Inserted field: {field_name}\")\n",
    "\n",
    "        # 커서를 오른쪽으로 이동\n",
    "        hwp2.HAction.Execute(\"MoveRight\", hwp2.HParameterSet.HFindReplace.HSet)\n",
    "\n",
    "# '연락처' 필드를 현재 커서 위치에서 시작으로 가로 방향으로 생성\n",
    "가로누름틀생성(hwp2, 1, \"연락처\", 15)\n"
   ]
  }
 ],
 "metadata": {
  "kernelspec": {
   "display_name": "Python 3",
   "language": "python",
   "name": "python3"
  },
  "language_info": {
   "codemirror_mode": {
    "name": "ipython",
    "version": 3
   },
   "file_extension": ".py",
   "mimetype": "text/x-python",
   "name": "python",
   "nbconvert_exporter": "python",
   "pygments_lexer": "ipython3",
   "version": "3.10.11"
  }
 },
 "nbformat": 4,
 "nbformat_minor": 2
}
