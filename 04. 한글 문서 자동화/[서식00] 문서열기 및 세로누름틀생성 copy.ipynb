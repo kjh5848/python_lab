{
 "cells": [
  {
   "cell_type": "code",
   "execution_count": null,
   "metadata": {},
   "outputs": [],
   "source": [
    "from utill import excel_utill as u1, hwp_utill as u2\n",
    "\n",
    "# file_path_excel = r\"N:\\개인\\개발폴더\\엑셀과 한컴오피스\\파이썬 + 한글_자동화\\서식34.xlsx\"\n",
    "# sheet_name = \"참여자 명단\"\n",
    "# header = 0\n",
    "\n",
    "# u1.ExcelUtill.엑셀열기(file_path_excel, sheet_name, header)\n",
    "\n",
    "hwp2 = u2.HwpUtill()\n",
    "file_name=\"[서식102] 사전직무교육 운영계획서\"\n",
    "file_path=r\"C:\\Users\\thdus\\Desktop\\미래내일일경험\\07. 한글 문서\\❌누름틀 전_문서\\⭕누름틀 완료_문서\\0. 프로그램 등록 서류\"\n",
    "hwp2.파일열기(file_name=file_name, file_path=file_path)\n"
   ]
  },
  {
   "cell_type": "code",
   "execution_count": null,
   "metadata": {},
   "outputs": [],
   "source": [
    "from utill import excel_utill as u1, hwp_utill2 as u3\n",
    "\n",
    "hwp2 = u3.HwpUtill()\n",
    "file_name=\"[서식102] 사전직무교육 운영계획서\"\n",
    "file_path=r\"C:\\Users\\thdus\\Desktop\\미래내일일경험\\07. 한글 문서\\❌누름틀 전_문서\\⭕누름틀 완료_문서\\0. 프로그램 등록 서류\"\n",
    "hwp2.파일열기(file_name=file_name, file_path=file_path)\n"
   ]
  },
  {
   "cell_type": "code",
   "execution_count": null,
   "metadata": {},
   "outputs": [],
   "source": [
    "hwp2.가로누름틀생성(1, \"내용\", 15)"
   ]
  },
  {
   "cell_type": "code",
   "execution_count": null,
   "metadata": {},
   "outputs": [],
   "source": [
    "\n",
    "def 가로누름틀생성(hwp2, 시작인덱스, 필드이름, 개수):\n",
    "    for i in range(개수):\n",
    "        field_name = f\"{필드이름}_{시작인덱스 + i}\"\n",
    "        \n",
    "        # 누름틀 필드 생성 (현재 커서 위치에 삽입)\n",
    "        hwp2.CreateField(필드이름, \"\", field_name)\n",
    "        print(f\"Inserted field: {field_name}\")\n",
    "\n",
    "        # 커서를 오른쪽으로 이동\n",
    "        hwp2.HAction.Execute(\"MoveRight\", hwp2.HParameterSet.HFindReplace.HSet)\n",
    "\n",
    "# '연락처' 필드를 현재 커서 위치에서 시작으로 가로 방향으로 생성\n",
    "가로누름틀생성(hwp2, 1, \"연락처\", 15)\n"
   ]
  }
 ],
 "metadata": {
  "kernelspec": {
   "display_name": "Python 3",
   "language": "python",
   "name": "python3"
  },
  "language_info": {
   "codemirror_mode": {
    "name": "ipython",
    "version": 3
   },
   "file_extension": ".py",
   "mimetype": "text/x-python",
   "name": "python",
   "nbconvert_exporter": "python",
   "pygments_lexer": "ipython3",
   "version": "3.10.11"
  }
 },
 "nbformat": 4,
 "nbformat_minor": 2
}
