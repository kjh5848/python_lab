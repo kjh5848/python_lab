{
 "cells": [
  {
   "cell_type": "code",
   "execution_count": 9,
   "metadata": {},
   "outputs": [
    {
     "data": {
      "text/plain": [
       "True"
      ]
     },
     "execution_count": 9,
     "metadata": {},
     "output_type": "execute_result"
    }
   ],
   "source": [
    "from utill import excel_utill as u1, hwp_utill as u2\n",
    "\n",
    "# file_path_excel = r\"N:\\개인\\개발폴더\\엑셀과 한컴오피스\\파이썬 + 한글_자동화\\서식34.xlsx\"\n",
    "# sheet_name = \"참여자 명단\"\n",
    "# header = 0\n",
    "\n",
    "# u1.ExcelUtill.엑셀열기(file_path_excel, sheet_name, header)\n",
    "\n",
    "hwp2 = u2.HwpUtill()\n",
    "file_name=\"[서식102] 사전직무교육 운영계획서\"\n",
    "file_path=r\"C:\\Users\\thdus\\Desktop\\미래내일일경험\\07. 한글 문서\\❌누름틀 전_문서\\⭕누름틀 완료_문서\\0. 프로그램 등록 서류\"\n",
    "hwp2.파일열기(file_name=file_name, file_path=file_path)\n"
   ]
  },
  {
   "cell_type": "code",
   "execution_count": null,
   "metadata": {},
   "outputs": [
    {
     "name": "stdout",
     "output_type": "stream",
     "text": [
      "Error creating vertical text fields: (-2147352567, '예외가 발생했습니다.', (0, None, None, None, 0, -2147467262), None)\n"
     ]
    }
   ],
   "source": [
    "\n",
    "hwp2.세로누름틀생성(시작인덱스=1,필드이름=\"이름\",개수=2)"
   ]
  }
 ],
 "metadata": {
  "kernelspec": {
   "display_name": "Python 3",
   "language": "python",
   "name": "python3"
  },
  "language_info": {
   "codemirror_mode": {
    "name": "ipython",
    "version": 3
   },
   "file_extension": ".py",
   "mimetype": "text/x-python",
   "name": "python",
   "nbconvert_exporter": "python",
   "pygments_lexer": "ipython3",
   "version": "3.10.11"
  }
 },
 "nbformat": 4,
 "nbformat_minor": 2
}
