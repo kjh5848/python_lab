{
 "cells": [
  {
   "cell_type": "code",
   "execution_count": 2,
   "metadata": {},
   "outputs": [],
   "source": [
    "import win32com.client as win32\n",
    "import pandas as pd\n",
    "import logging\n",
    "import os\n",
    "from utill import hwp_utill as hwp, excel_utill as excel "
   ]
  },
  {
   "cell_type": "code",
   "execution_count": 1,
   "metadata": {},
   "outputs": [
    {
     "data": {
      "text/plain": [
       "True"
      ]
     },
     "execution_count": 1,
     "metadata": {},
     "output_type": "execute_result"
    }
   ],
   "source": [
    "\n",
    "\n",
    "HObject = hwp.HwpUtill()\n",
    "EObject = excel.ExcelUtill()\n",
    "\n",
    "# file_path_excel = r'N:\\개인\\개발폴더\\엑셀과 한컴오피스\\파이썬 + 한글_자동화\\서식34.xlsx'\n",
    "# sheet_name = \"서식34.일경험실시보고\"\n",
    "# header = 0\n",
    "\n",
    "# EObject.엑셀열기(\n",
    "#     file_path_excel=file_path_excel,\n",
    "#     sheet_name=sheet_name,\n",
    "#     header=header\n",
    "# )\n",
    "\n",
    "hwp_file_name = '[서식129] (공통-직무교육기관) 사전직무교육 수료 보고서'\n",
    "hwp_file_path = r'C:\\Users\\thdus\\Desktop\\미래내일일경험\\07. 한글 문서\\★누름틀_문서\\3. 사전직무 서류'\n",
    "\n",
    "HObject.파일열기(\n",
    "    file_name=hwp_file_name,\n",
    "    file_path=hwp_file_path,\n",
    ")"
   ]
  },
  {
   "cell_type": "code",
   "execution_count": 6,
   "metadata": {},
   "outputs": [],
   "source": [
    "HObject.세로누름틀생성( \n",
    "    개수=20,\n",
    "    시작인덱스=43,\n",
    "    필드이름=\"비고\"\n",
    ")\n"
   ]
  },
  {
   "cell_type": "code",
   "execution_count": 16,
   "metadata": {},
   "outputs": [
    {
     "name": "stdout",
     "output_type": "stream",
     "text": [
      "     \\                      1     2      3 4                  5     6     7  \\\n",
      "0    0  (공통-청년) 일경험 중도 포기 신청서                  청년 일경험 중도 포기 신청서               \n",
      "1    1                   필요서식    필드     입력     청년 일경험 중도 포기 신청서               \n",
      "2    2                           이름   2222                                    \n",
      "3    3                         생년월일  12121                  이 름  2222  생년월일   \n",
      "4    4                         전화번호   2121                 전화번호  2121   성 별   \n",
      "..  ..                    ...   ...    ... ..               ...   ...   ...   \n",
      "57  57                                                                        \n",
      "58  58                                                                        \n",
      "59  59                                                                        \n",
      "60  60                                                                        \n",
      "61  61                                                                        \n",
      "\n",
      "        8 9   ... 28 29 30 31 32 33 34 35 36 37  \n",
      "0             ...                                \n",
      "1             ...                                \n",
      "2             ...                                \n",
      "3   12121     ...                                \n",
      "4       1     ...                                \n",
      "..    ... ..  ... .. .. .. .. .. .. .. .. .. ..  \n",
      "57            ...                                \n",
      "58            ...                                \n",
      "59            ...                                \n",
      "60            ...                                \n",
      "61            ...                                \n",
      "\n",
      "[62 rows x 38 columns]\n"
     ]
    }
   ],
   "source": [
    "# 파일 경로 및 시트 설정\n",
    "EXCEL_FILE_PATH = r\"C:\\Users\\thdus\\Desktop\\미래내일일경험\\07. 한글 문서\\한글 자동화_엑셀파일.xlsm\"\n",
    "EXCEL_SHEET_NAME = \"123. (공통-청년) 일경험 중도 포기 신청서\"\n",
    "HWP_FILE_NAME = \"[서식123] (공통-청년) 일경험 중도 포기 신청서\"\n",
    "HWP_FILE_PATH = r\"C:\\Users\\thdus\\Desktop\\미래내일일경험\\07. 한글 문서\\★누름틀_문서\\그외 서류\"\n",
    "SAVE_FILE_PATH = r\"C:\\Users\\thdus\\Desktop\\미래내일저장하는 폴더\"\n",
    "EObject = excel.ExcelUtill()\n",
    "\n",
    "# 엑셀 데이터 불러오기\n",
    "excel_data = EObject.엑셀열기(EXCEL_FILE_PATH, EXCEL_SHEET_NAME, header=0)\n",
    "print(excel_data)\n",
    "\n",
    "  "
   ]
  }
 ],
 "metadata": {
  "kernelspec": {
   "display_name": "Python 3",
   "language": "python",
   "name": "python3"
  },
  "language_info": {
   "codemirror_mode": {
    "name": "ipython",
    "version": 3
   },
   "file_extension": ".py",
   "mimetype": "text/x-python",
   "name": "python",
   "nbconvert_exporter": "python",
   "pygments_lexer": "ipython3",
   "version": "3.10.11"
  }
 },
 "nbformat": 4,
 "nbformat_minor": 2
}
