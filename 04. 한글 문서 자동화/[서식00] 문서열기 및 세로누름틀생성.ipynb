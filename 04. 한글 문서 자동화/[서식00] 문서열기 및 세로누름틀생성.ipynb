{
 "cells": [
  {
   "cell_type": "code",
   "execution_count": 8,
   "metadata": {},
   "outputs": [
    {
     "ename": "AttributeError",
     "evalue": "module 'win32com.gen_py.7D2B6F3C-1D95-4E0C-BF5A-5EE564186FBCx0x1x0' has no attribute 'CLSIDToPackageMap'",
     "output_type": "error",
     "traceback": [
      "\u001b[1;31m---------------------------------------------------------------------------\u001b[0m",
      "\u001b[1;31mAttributeError\u001b[0m                            Traceback (most recent call last)",
      "Cell \u001b[1;32mIn[8], line 3\u001b[0m\n\u001b[0;32m      1\u001b[0m \u001b[38;5;28;01mfrom\u001b[39;00m \u001b[38;5;21;01mutill\u001b[39;00m \u001b[38;5;28;01mimport\u001b[39;00m excel_utill \u001b[38;5;28;01mas\u001b[39;00m u1\n\u001b[0;32m      2\u001b[0m \u001b[38;5;28;01mfrom\u001b[39;00m \u001b[38;5;21;01mutill\u001b[39;00m \u001b[38;5;28;01mimport\u001b[39;00m hwp_utill\n\u001b[1;32m----> 3\u001b[0m hwp_util \u001b[38;5;241m=\u001b[39m \u001b[43mhwp_utill\u001b[49m\u001b[38;5;241;43m.\u001b[39;49m\u001b[43mHwpUtill\u001b[49m\u001b[43m(\u001b[49m\u001b[43m)\u001b[49m\n\u001b[0;32m      5\u001b[0m file_name\u001b[38;5;241m=\u001b[39m\u001b[38;5;124m'\u001b[39m\u001b[38;5;124m[서식102] 사전직무교육 운영계획서\u001b[39m\u001b[38;5;124m'\u001b[39m\n\u001b[0;32m      6\u001b[0m file_path\u001b[38;5;241m=\u001b[39m \u001b[38;5;124mr\u001b[39m\u001b[38;5;124m\"\u001b[39m\u001b[38;5;124mC:\u001b[39m\u001b[38;5;124m\\\u001b[39m\u001b[38;5;124mUsers\u001b[39m\u001b[38;5;124m\\\u001b[39m\u001b[38;5;124mthdus\u001b[39m\u001b[38;5;124m\\\u001b[39m\u001b[38;5;124mDesktop\u001b[39m\u001b[38;5;124m\\\u001b[39m\u001b[38;5;124m미래내일일경험\u001b[39m\u001b[38;5;124m\\\u001b[39m\u001b[38;5;124m07. 한글 문서\u001b[39m\u001b[38;5;124m\\\u001b[39m\u001b[38;5;124m❌누름틀 전_문서\u001b[39m\u001b[38;5;124m\\\u001b[39m\u001b[38;5;124m⭕누름틀 완료_문서\u001b[39m\u001b[38;5;124m\\\u001b[39m\u001b[38;5;124m0. 프로그램 등록 서류\u001b[39m\u001b[38;5;124m\"\u001b[39m\n",
      "File \u001b[1;32mc:\\Users\\thdus\\Desktop\\미래내일일경험\\04. 한글 문서 자동화\\utill\\hwp_utill.py:6\u001b[0m, in \u001b[0;36mHwpUtill.__init__\u001b[1;34m(self)\u001b[0m\n\u001b[0;32m      5\u001b[0m \u001b[38;5;28;01mdef\u001b[39;00m \u001b[38;5;21m__init__\u001b[39m(\u001b[38;5;28mself\u001b[39m):\n\u001b[1;32m----> 6\u001b[0m     \u001b[38;5;28mself\u001b[39m\u001b[38;5;241m.\u001b[39mhwp \u001b[38;5;241m=\u001b[39m \u001b[43mwin32\u001b[49m\u001b[38;5;241;43m.\u001b[39;49m\u001b[43mDispatch\u001b[49m\u001b[43m(\u001b[49m\u001b[38;5;124;43m\"\u001b[39;49m\u001b[38;5;124;43mhwpframe.hwpobject\u001b[39;49m\u001b[38;5;124;43m\"\u001b[39;49m\u001b[43m)\u001b[49m\n\u001b[0;32m      7\u001b[0m     \u001b[38;5;28mself\u001b[39m\u001b[38;5;241m.\u001b[39mhwp\u001b[38;5;241m.\u001b[39mRegisterModule(\u001b[38;5;124m\"\u001b[39m\u001b[38;5;124mFilePathCheckDLL\u001b[39m\u001b[38;5;124m\"\u001b[39m, \u001b[38;5;124m\"\u001b[39m\u001b[38;5;124mFilePathCheckerModuleExample\u001b[39m\u001b[38;5;124m\"\u001b[39m)\n\u001b[0;32m      8\u001b[0m     \u001b[38;5;28mself\u001b[39m\u001b[38;5;241m.\u001b[39mhwp\u001b[38;5;241m.\u001b[39mXHwpWindows\u001b[38;5;241m.\u001b[39mItem(\u001b[38;5;241m0\u001b[39m)\u001b[38;5;241m.\u001b[39mVisible \u001b[38;5;241m=\u001b[39m \u001b[38;5;28;01mTrue\u001b[39;00m\n",
      "File \u001b[1;32mc:\\Python310\\lib\\site-packages\\win32com\\client\\__init__.py:115\u001b[0m, in \u001b[0;36mDispatch\u001b[1;34m(dispatch, userName, resultCLSID, typeinfo, clsctx)\u001b[0m\n\u001b[0;32m    113\u001b[0m \u001b[38;5;250m\u001b[39m\u001b[38;5;124;03m\"\"\"Creates a Dispatch based COM object.\"\"\"\u001b[39;00m\n\u001b[0;32m    114\u001b[0m dispatch, userName \u001b[38;5;241m=\u001b[39m dynamic\u001b[38;5;241m.\u001b[39m_GetGoodDispatchAndUserName(dispatch, userName, clsctx)\n\u001b[1;32m--> 115\u001b[0m \u001b[38;5;28;01mreturn\u001b[39;00m \u001b[43m__WrapDispatch\u001b[49m\u001b[43m(\u001b[49m\u001b[43mdispatch\u001b[49m\u001b[43m,\u001b[49m\u001b[43m \u001b[49m\u001b[43muserName\u001b[49m\u001b[43m,\u001b[49m\u001b[43m \u001b[49m\u001b[43mresultCLSID\u001b[49m\u001b[43m,\u001b[49m\u001b[43m \u001b[49m\u001b[43mtypeinfo\u001b[49m\u001b[43m,\u001b[49m\u001b[43m \u001b[49m\u001b[43mclsctx\u001b[49m\u001b[38;5;241;43m=\u001b[39;49m\u001b[43mclsctx\u001b[49m\u001b[43m)\u001b[49m\n",
      "File \u001b[1;32mc:\\Python310\\lib\\site-packages\\win32com\\client\\__init__.py:45\u001b[0m, in \u001b[0;36m__WrapDispatch\u001b[1;34m(dispatch, userName, resultCLSID, typeinfo, clsctx, WrapperClass)\u001b[0m\n\u001b[0;32m     41\u001b[0m \u001b[38;5;28;01mfrom\u001b[39;00m \u001b[38;5;21;01m.\u001b[39;00m \u001b[38;5;28;01mimport\u001b[39;00m gencache\n\u001b[0;32m     43\u001b[0m \u001b[38;5;66;03m# Attempt to load generated module support\u001b[39;00m\n\u001b[0;32m     44\u001b[0m \u001b[38;5;66;03m# This may load the module, and make it available\u001b[39;00m\n\u001b[1;32m---> 45\u001b[0m klass \u001b[38;5;241m=\u001b[39m \u001b[43mgencache\u001b[49m\u001b[38;5;241;43m.\u001b[39;49m\u001b[43mGetClassForCLSID\u001b[49m\u001b[43m(\u001b[49m\u001b[43mresultCLSID\u001b[49m\u001b[43m)\u001b[49m\n\u001b[0;32m     46\u001b[0m \u001b[38;5;28;01mif\u001b[39;00m klass \u001b[38;5;129;01mis\u001b[39;00m \u001b[38;5;129;01mnot\u001b[39;00m \u001b[38;5;28;01mNone\u001b[39;00m:\n\u001b[0;32m     47\u001b[0m     \u001b[38;5;28;01mreturn\u001b[39;00m klass(dispatch)\n",
      "File \u001b[1;32mc:\\Python310\\lib\\site-packages\\win32com\\client\\gencache.py:206\u001b[0m, in \u001b[0;36mGetClassForCLSID\u001b[1;34m(clsid)\u001b[0m\n\u001b[0;32m    204\u001b[0m \u001b[38;5;28;01mif\u001b[39;00m CLSIDToClass\u001b[38;5;241m.\u001b[39mHasClass(clsid):\n\u001b[0;32m    205\u001b[0m     \u001b[38;5;28;01mreturn\u001b[39;00m CLSIDToClass\u001b[38;5;241m.\u001b[39mGetClass(clsid)\n\u001b[1;32m--> 206\u001b[0m mod \u001b[38;5;241m=\u001b[39m \u001b[43mGetModuleForCLSID\u001b[49m\u001b[43m(\u001b[49m\u001b[43mclsid\u001b[49m\u001b[43m)\u001b[49m\n\u001b[0;32m    207\u001b[0m \u001b[38;5;28;01mif\u001b[39;00m mod \u001b[38;5;129;01mis\u001b[39;00m \u001b[38;5;28;01mNone\u001b[39;00m:\n\u001b[0;32m    208\u001b[0m     \u001b[38;5;28;01mreturn\u001b[39;00m \u001b[38;5;28;01mNone\u001b[39;00m\n",
      "File \u001b[1;32mc:\\Python310\\lib\\site-packages\\win32com\\client\\gencache.py:255\u001b[0m, in \u001b[0;36mGetModuleForCLSID\u001b[1;34m(clsid)\u001b[0m\n\u001b[0;32m    253\u001b[0m     mod \u001b[38;5;241m=\u001b[39m \u001b[38;5;28;01mNone\u001b[39;00m\n\u001b[0;32m    254\u001b[0m \u001b[38;5;28;01mif\u001b[39;00m mod \u001b[38;5;129;01mis\u001b[39;00m \u001b[38;5;129;01mnot\u001b[39;00m \u001b[38;5;28;01mNone\u001b[39;00m:\n\u001b[1;32m--> 255\u001b[0m     sub_mod \u001b[38;5;241m=\u001b[39m \u001b[43mmod\u001b[49m\u001b[38;5;241;43m.\u001b[39;49m\u001b[43mCLSIDToPackageMap\u001b[49m\u001b[38;5;241m.\u001b[39mget(clsid_str)\n\u001b[0;32m    256\u001b[0m     \u001b[38;5;28;01mif\u001b[39;00m sub_mod \u001b[38;5;129;01mis\u001b[39;00m \u001b[38;5;28;01mNone\u001b[39;00m:\n\u001b[0;32m    257\u001b[0m         sub_mod \u001b[38;5;241m=\u001b[39m mod\u001b[38;5;241m.\u001b[39mVTablesToPackageMap\u001b[38;5;241m.\u001b[39mget(clsid_str)\n",
      "\u001b[1;31mAttributeError\u001b[0m: module 'win32com.gen_py.7D2B6F3C-1D95-4E0C-BF5A-5EE564186FBCx0x1x0' has no attribute 'CLSIDToPackageMap'"
     ]
    }
   ],
   "source": [
    "from utill import excel_utill as u1\n",
    "from utill import hwp_utill\n",
    "hwp_util = hwp_utill.HwpUtill()\n",
    "\n",
    "file_name='[서식102] 사전직무교육 운영계획서'\n",
    "file_path= r\"C:\\Users\\thdus\\Desktop\\미래내일일경험\\07. 한글 문서\\❌누름틀 전_문서\\⭕누름틀 완료_문서\\0. 프로그램 등록 서류\"\n",
    "\n",
    "hwp_util.파일열기(file_name, file_path)"
   ]
  },
  {
   "cell_type": "code",
   "execution_count": null,
   "metadata": {},
   "outputs": [],
   "source": [
    "file_path_excel = r\"C:\\Users\\thdus\\Desktop\\미래내일일경험\\07. 한글 문서\\한글 자동화_엑셀파일_lsy(1).xlsm\"\n",
    "sheet_name = \"13. 참여기업 지원금 지급 신청서\"\n",
    "header = 2\n",
    "\n",
    "u1.ExcelUtill.엑셀열기(file_path_excel, sheet_name, header)"
   ]
  },
  {
   "cell_type": "code",
   "execution_count": null,
   "metadata": {},
   "outputs": [],
   "source": [
    "\n",
    "file_name='[서식102] 사전직무교육 운영계획서'\n",
    "file_path= r\"C:\\Users\\thdus\\Desktop\\미래내일일경험\\07. 한글 문서\\❌누름틀 전_문서\\⭕누름틀 완료_문서\\0. 프로그램 등록 서류\"\n",
    "\n",
    "hwp_util.파일열기(file_name, file_path)"
   ]
  },
  {
   "cell_type": "code",
   "execution_count": null,
   "metadata": {},
   "outputs": [],
   "source": [
    "\n",
    "\n",
    "\n",
    "def 가로누름틀생성(hwp, 시작인덱스, 필드이름, 개수):\n",
    "    for i in range(개수):\n",
    "        field_name = f\"{필드이름}_{시작인덱스 + i}\"\n",
    "        \n",
    "        # 누름틀 필드 생성 (현재 커서 위치에 삽입)\n",
    "        hwp.CreateField(필드이름, \"\", field_name)\n",
    "        print(f\"Inserted field: {field_name}\")\n",
    "\n",
    "        # 커서를 오른쪽으로 이동\n",
    "        hwp.HAction.Execute(\"MoveRight\", hwp.HParameterSet.HFindReplace.HSet)\n",
    "\n",
    "# '연락처' 필드를 현재 커서 위치에서 시작으로 가로 방향으로 생성\n",
    "가로누름틀생성(hwp, 25, \"연락처\", 10)\n"
   ]
  }
 ],
 "metadata": {
  "kernelspec": {
   "display_name": "Python 3",
   "language": "python",
   "name": "python3"
  },
  "language_info": {
   "codemirror_mode": {
    "name": "ipython",
    "version": 3
   },
   "file_extension": ".py",
   "mimetype": "text/x-python",
   "name": "python",
   "nbconvert_exporter": "python",
   "pygments_lexer": "ipython3",
   "version": "3.10.11"
  }
 },
 "nbformat": 4,
 "nbformat_minor": 2
}
