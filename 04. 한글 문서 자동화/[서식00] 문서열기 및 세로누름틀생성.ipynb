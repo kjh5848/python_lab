{
 "cells": [
  {
   "cell_type": "code",
   "execution_count": null,
   "metadata": {},
   "outputs": [],
   "source": [
    "from utill import excel_utill as u1\n",
    "from utill import hwp_utill\n",
    "hwp_util = hwp_utill.HwpUtill()\n",
    "\n",
    "file_name='[서식102] 사전직무교육 운영계획서'\n",
    "file_path= r\"C:\\Users\\thdus\\Desktop\\미래내일일경험\\07. 한글 문서\\❌누름틀 전_문서\\⭕누름틀 완료_문서\\0. 프로그램 등록 서류\"\n",
    "\n",
    "hwp_util.파일열기(file_name, file_path)"
   ]
  },
  {
   "cell_type": "code",
   "execution_count": null,
   "metadata": {},
   "outputs": [],
   "source": [
    "file_path_excel = r\"C:\\Users\\thdus\\Desktop\\미래내일일경험\\07. 한글 문서\\한글 자동화_엑셀파일_lsy(1).xlsm\"\n",
    "sheet_name = \"13. 참여기업 지원금 지급 신청서\"\n",
    "header = 2\n",
    "\n",
    "u1.ExcelUtill.엑셀열기(file_path_excel, sheet_name, header)"
   ]
  },
  {
   "cell_type": "code",
   "execution_count": null,
   "metadata": {},
   "outputs": [],
   "source": [
    "\n",
    "file_name='[서식102] 사전직무교육 운영계획서'\n",
    "file_path= r\"C:\\Users\\thdus\\Desktop\\미래내일일경험\\07. 한글 문서\\❌누름틀 전_문서\\⭕누름틀 완료_문서\\0. 프로그램 등록 서류\"\n",
    "\n",
    "hwp_util.파일열기(file_name, file_path)"
   ]
  },
  {
   "cell_type": "code",
   "execution_count": null,
   "metadata": {},
   "outputs": [],
   "source": [
    "\n",
    "\n",
    "\n",
    "def 가로누름틀생성(hwp, 시작인덱스, 필드이름, 개수):\n",
    "    for i in range(개수):\n",
    "        field_name = f\"{필드이름}_{시작인덱스 + i}\"\n",
    "        \n",
    "        # 누름틀 필드 생성 (현재 커서 위치에 삽입)\n",
    "        hwp.CreateField(필드이름, \"\", field_name)\n",
    "        print(f\"Inserted field: {field_name}\")\n",
    "\n",
    "        # 커서를 오른쪽으로 이동\n",
    "        hwp.HAction.Execute(\"MoveRight\", hwp.HParameterSet.HFindReplace.HSet)\n",
    "\n",
    "# '연락처' 필드를 현재 커서 위치에서 시작으로 가로 방향으로 생성\n",
    "가로누름틀생성(hwp, 25, \"연락처\", 10)\n"
   ]
  }
 ],
 "metadata": {
  "kernelspec": {
   "display_name": "Python 3",
   "language": "python",
   "name": "python3"
  },
  "language_info": {
   "codemirror_mode": {
    "name": "ipython",
    "version": 3
   },
   "file_extension": ".py",
   "mimetype": "text/x-python",
   "name": "python",
   "nbconvert_exporter": "python",
   "pygments_lexer": "ipython3",
   "version": "3.10.11"
  }
 },
 "nbformat": 4,
 "nbformat_minor": 2
}
