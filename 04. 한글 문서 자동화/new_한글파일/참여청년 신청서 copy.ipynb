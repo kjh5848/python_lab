{
 "cells": [
  {
   "cell_type": "code",
   "execution_count": 1,
   "metadata": {},
   "outputs": [
    {
     "name": "stdout",
     "output_type": "stream",
     "text": [
      "서명 이미지 삽입 완료: '서명' 필드\n",
      "서명 이미지 삽입 완료: '서명1' 필드\n",
      "서명 이미지 삽입 완료: '서명2' 필드\n",
      "파일 저장 완료: 참여청년 신청서 모음_문성원.hwp\n",
      "파일 생성 완료: 참여청년 신청서 모음_문성원.hwp\n"
     ]
    }
   ],
   "source": [
    "from utill import excel_utill, hwp_utill\n",
    "\n",
    "# 파일 경로 및 시트 설정\n",
    "EXCEL_FILE_PATH = r\"C:\\Users\\Administrator\\Desktop\\미래내일일경험 공유\\python_lab\\07. 한글 문서\\new_한글 자동화_KTCA_참여신청서.xlsx\"\n",
    "EXCEL_SHEET_NAME = \"참여자명단\"\n",
    "HWP_FILE_NAME = \"참여청년 신청서 모음\"\n",
    "HWP_FILE_PATH = r\"C:\\Users\\Administrator\\Desktop\\미래내일일경험 공유\\python_lab\\07. 한글 문서\\★누름틀_문서\\2. 참여청년 서류\"\n",
    "SAVE_FILE_PATH = r\"C:\\Users\\Administrator\\Desktop\\미래내일일경험 공유\\신청서 모음2\"\n",
    "IMAGE_DIR = r\"C:\\Users\\Administrator\\Desktop\\서명\\20250212\"  # 이미지 폴더 경로\n",
    "\n",
    "# 객체 생성\n",
    "EObject = excel_utill.ExcelUtill()\n",
    "HObject = hwp_utill.HwpUtill()\n",
    "\n",
    "# 엑셀 데이터 불러오기\n",
    "excel_data = EObject.엑셀열기(EXCEL_FILE_PATH, EXCEL_SHEET_NAME, header=0)\n",
    "\n",
    "def 한글문서생성(HObject, excel_data, hwp_file_name, hwp_file_path, save_file_path, image_dir):\n",
    "    \"\"\"엑셀 데이터를 기반으로 한글 문서를 생성\"\"\"\n",
    "    # 한글 파일에서 필드 이름 가져오기\n",
    "    field_names = HObject.필드가져오기(hwp_file_name, hwp_file_path)\n",
    "\n",
    "    for _, row in excel_data.iterrows():\n",
    "        try:\n",
    "            # 한글 파일 열기\n",
    "            HObject.파일열기(hwp_file_name, hwp_file_path)\n",
    "\n",
    "            # 추가 정보 입력\n",
    "            HObject.희망직무(row)\n",
    "            HObject.학력정보입력(row)\n",
    "        \n",
    "                # 필드 채우기\n",
    "            HObject.필드채우기(field_names, row)\n",
    "            HObject.필드에_이미지_삽입(field_names, image_dir, row['성명'])\n",
    "\n",
    "            # 저장 경로 확인 및 저장\n",
    "            HObject.저장폴더(save_file_path)\n",
    "            new_file_name = f\"{hwp_file_name}_{row['성명']}.hwp\"\n",
    "            HObject.저장(new_file_name, save_file_path)\n",
    "\n",
    "            print(f\"파일 생성 완료: {new_file_name}\")\n",
    "        except Exception as e:\n",
    "            print(f\"오류 발생 (성명: {row['성명']}): {e}\")\n",
    "        finally:\n",
    "            # 한글 파일 닫기\n",
    "            HObject.닫기()\n",
    "\n",
    "    # 저장된 파일 폴더 열기\n",
    "    HObject.저장파일열기(save_file_path)\n",
    "\n",
    "    # 한글 종료\n",
    "    HObject.종료()\n",
    "\n",
    "        \n",
    "한글문서생성(\n",
    "    HObject=HObject,\n",
    "    excel_data=excel_data,\n",
    "    hwp_file_name=HWP_FILE_NAME\n",
    "    ,hwp_file_path=HWP_FILE_PATH,\n",
    "    save_file_path=SAVE_FILE_PATH,\n",
    "    image_dir=IMAGE_DIR\n",
    ")"
   ]
  },
  {
   "cell_type": "code",
   "execution_count": null,
   "metadata": {},
   "outputs": [],
   "source": []
  }
 ],
 "metadata": {
  "kernelspec": {
   "display_name": "Python 3",
   "language": "python",
   "name": "python3"
  },
  "language_info": {
   "codemirror_mode": {
    "name": "ipython",
    "version": 3
   },
   "file_extension": ".py",
   "mimetype": "text/x-python",
   "name": "python",
   "nbconvert_exporter": "python",
   "pygments_lexer": "ipython3",
   "version": "3.12.6"
  }
 },
 "nbformat": 4,
 "nbformat_minor": 2
}
