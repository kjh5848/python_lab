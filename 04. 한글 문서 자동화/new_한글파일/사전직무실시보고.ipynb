{
 "cells": [
  {
   "cell_type": "code",
   "execution_count": 5,
   "metadata": {},
   "outputs": [
    {
     "ename": "ModuleNotFoundError",
     "evalue": "No module named 'utill'",
     "output_type": "error",
     "traceback": [
      "\u001b[1;31m---------------------------------------------------------------------------\u001b[0m",
      "\u001b[1;31mModuleNotFoundError\u001b[0m                       Traceback (most recent call last)",
      "Cell \u001b[1;32mIn[5], line 1\u001b[0m\n\u001b[1;32m----> 1\u001b[0m \u001b[38;5;28;01mfrom\u001b[39;00m \u001b[38;5;21;01mutill\u001b[39;00m \u001b[38;5;28;01mimport\u001b[39;00m excel_utill, hwp_utill\n\u001b[0;32m      5\u001b[0m \u001b[38;5;66;03m# 파일 경로 및 시트 설정\u001b[39;00m\n\u001b[0;32m      6\u001b[0m EXCEL_FILE_PATH \u001b[38;5;241m=\u001b[39m \u001b[38;5;124mr\u001b[39m\u001b[38;5;124m\"\u001b[39m\u001b[38;5;124mC:\u001b[39m\u001b[38;5;124m\\\u001b[39m\u001b[38;5;124mUsers\u001b[39m\u001b[38;5;124m\\\u001b[39m\u001b[38;5;124mAdministrator\u001b[39m\u001b[38;5;124m\\\u001b[39m\u001b[38;5;124mDesktop\u001b[39m\u001b[38;5;124m\\\u001b[39m\u001b[38;5;124m미래내일일경험 공유\u001b[39m\u001b[38;5;124m\\\u001b[39m\u001b[38;5;124mpython_lab\u001b[39m\u001b[38;5;124m\\\u001b[39m\u001b[38;5;124m07. 한글 문서\u001b[39m\u001b[38;5;124m\\\u001b[39m\u001b[38;5;124m[광고마케팅] 241223 KTCA_30명.xlsx\u001b[39m\u001b[38;5;124m\"\u001b[39m\n",
      "\u001b[1;31mModuleNotFoundError\u001b[0m: No module named 'utill'"
     ]
    }
   ],
   "source": [
    "from utill import excel_utill, hwp_utill\n",
    "\n",
    "\n",
    "\n",
    "# 파일 경로 및 시트 설정\n",
    "EXCEL_FILE_PATH = r\"C:\\Users\\Administrator\\Desktop\\미래내일일경험 공유\\python_lab\\07. 한글 문서\\[광고마케팅] 241223 KTCA_30명.xlsx\"\n",
    "HWP_FILE_NAME = \"[서식125] (공통직무교육기관) 사전직무교육 실시보고\"\n",
    "HWP_FILE_PATH = r\"C:\\Users\\Administrator\\Desktop\\미래내일일경험 공유\\python_lab\\07. 한글 문서\\★누름틀_문서\\3. 사전직무 서류\"\n",
    "SAVE_FILE_PATH = r\"C:\\Users\\Administrator\\Desktop\\미래내일일경험 공유\\신청서 모음2\"\n",
    "\n",
    "# 객체 생성\n",
    "HObject = hwp_utill.HwpUtill()\n",
    "EObject = excel_utill.ExcelUtill()\n",
    "\n",
    "# 여러 시트 데이터 불러오기\n",
    "sheet_names = [\"참여자명단\", \"사전직무\"]\n",
    "excel_data = EObject.여러시트열기(EXCEL_FILE_PATH, sheet_names, header=0)\n",
    "\n",
    "# 각 시트 데이터 가져오기\n",
    "참여자명단 = excel_data[\"참여자명단\"]\n",
    "프로그램정보 = excel_data[\"프로그램정보\"]\n",
    "\n",
    "# 프로그램 정보 매핑 함수\n",
    "def get_program_info(program_name, program_data):\n",
    "    \"\"\"\n",
    "    프로그램 명에 해당하는 프로그램 정보를 가져오는 함수\n",
    "    :param program_name: 프로그램 명\n",
    "    :param program_data: 프로그램정보 DataFrame\n",
    "    :return: 프로그램 정보 (딕셔너리)\n",
    "    \"\"\"\n",
    "    program_row = program_data[program_data[\"프로그램명\"] == program_name]\n",
    "    if not program_row.empty:\n",
    "        return program_row.iloc[0].to_dict()  # 프로그램 정보 반환\n",
    "    return {}  # 프로그램 정보가 없는 경우 빈 딕셔너리 반환\n",
    "\n",
    "# 한글 문서 생성 함수\n",
    "def 한글문서생성(참여자명단, 프로그램정보, hwp_file_name, hwp_file_path):\n",
    "    for index, row in 참여자명단.iterrows():\n",
    "        # 참여자에 대한 프로그램 정보를 가져옴\n",
    "        program_name = row.get(\"프로그램명\", \"\")\n",
    "        program_info = get_program_info(program_name, 프로그램정보)\n",
    "\n",
    "        # 한글 문서 작업\n",
    "        HObject.파일열기(hwp_file_name, hwp_file_path)\n",
    "        field_names = HObject.필드가져오기(hwp_file_name, hwp_file_path)\n",
    "\n",
    "        # 참여자 데이터 채우기\n",
    "        HObject.필드채우기(field_names, row)\n",
    "\n",
    "        # 프로그램 데이터 채우기\n",
    "        for key, value in program_info.items():\n",
    "            HObject.채우기(key, value)\n",
    "\n",
    "        # 저장 처리\n",
    "        HObject.저장폴더(SAVE_FILE_PATH)\n",
    "        new_file_name = f\"{hwp_file_name}_{row['성명']}_{row['생년월일']}.hwp\"\n",
    "        HObject.저장(new_file_name, SAVE_FILE_PATH)\n",
    "        HObject.닫기()\n",
    "\n",
    "    HObject.저장파일열기(SAVE_FILE_PATH)\n",
    "    HObject.종료()\n",
    "\n",
    "# 함수 호출\n",
    "한글문서생성(\n",
    "    참여자명단=참여자명단,\n",
    "    프로그램정보=프로그램정보,\n",
    "    hwp_file_name=HWP_FILE_NAME,\n",
    "    hwp_file_path=HWP_FILE_PATH\n",
    ")\n"
   ]
  }
 ],
 "metadata": {
  "kernelspec": {
   "display_name": "Python 3",
   "language": "python",
   "name": "python3"
  },
  "language_info": {
   "codemirror_mode": {
    "name": "ipython",
    "version": 3
   },
   "file_extension": ".py",
   "mimetype": "text/x-python",
   "name": "python",
   "nbconvert_exporter": "python",
   "pygments_lexer": "ipython3",
   "version": "3.12.6"
  }
 },
 "nbformat": 4,
 "nbformat_minor": 2
}
