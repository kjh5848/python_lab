{
 "cells": [
  {
   "cell_type": "code",
   "execution_count": null,
   "metadata": {},
   "outputs": [],
   "source": [
    "import win32com.client as win32\n",
    "from utill import excel_utill as u1, hwp_utill as u2\n",
    "\n",
    "##엑셀데이터 가져오기\n",
    "file_path_excel = r'C:\\Users\\thdus\\Desktop\\미래내일일경험\\07. 한글 문서\\한글 자동화_엑셀파일_lsy(1).xlsm'\n",
    "sheet_name = \"34. 인턴형 일경험 실시보고\"\n",
    "header = 0\n",
    "u1.ExcelUtill.엑셀열기(file_path_excel, sheet_name, header)\n"
   ]
  },
  {
   "cell_type": "code",
   "execution_count": 6,
   "metadata": {},
   "outputs": [
    {
     "data": {
      "text/plain": [
       "True"
      ]
     },
     "execution_count": 6,
     "metadata": {},
     "output_type": "execute_result"
    }
   ],
   "source": [
    "##한글 파일 열기\n",
    "file_name ='[서식34] 인턴형 일경험 실시보고_기업명'\n",
    "file_path = r\"C:\\Users\\thdus\\Desktop\\미래내일일경험\\07. 한글 문서\\❌누름틀 전_문서\\⭕누름틀 완료_문서\\누름틀작성완료파일\"\n",
    "#객체생성성\n",
    "hwp2 = u2.HwpUtill()\n",
    "#실행\n",
    "hwp2.파일열기(file_name=file_name, file_path=file_path)"
   ]
  },
  {
   "cell_type": "code",
   "execution_count": 8,
   "metadata": {},
   "outputs": [
    {
     "name": "stdout",
     "output_type": "stream",
     "text": [
      "Error creating vertical text fields: (-2147352567, '예외가 발생했습니다.', (0, None, None, None, 0, -2147467262), None)\n"
     ]
    }
   ],
   "source": [
    "hwp2.세로누름틀생성(\n",
    "    시작인덱스=1,필드이름=\"이름름\",개수=10,\n",
    ")\n"
   ]
  }
 ],
 "metadata": {
  "kernelspec": {
   "display_name": "Python 3",
   "language": "python",
   "name": "python3"
  },
  "language_info": {
   "codemirror_mode": {
    "name": "ipython",
    "version": 3
   },
   "file_extension": ".py",
   "mimetype": "text/x-python",
   "name": "python",
   "nbconvert_exporter": "python",
   "pygments_lexer": "ipython3",
   "version": "3.10.11"
  }
 },
 "nbformat": 4,
 "nbformat_minor": 2
}
