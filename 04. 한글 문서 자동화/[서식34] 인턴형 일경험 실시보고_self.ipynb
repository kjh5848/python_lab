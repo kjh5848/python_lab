{
 "cells": [
  {
   "cell_type": "code",
   "execution_count": 6,
   "metadata": {},
   "outputs": [],
   "source": [
    "import win32com.client as win32\n",
    "from utill import excel_utill as u1, hwp_utill as u2\n",
    "\n",
    "# ##엑셀데이터 가져오기\n",
    "# file_path_excel = r'C:\\Users\\thdus\\Desktop\\미래내일일경험\\07. 한글 문서\\한글 자동화_엑셀파일_lsy(1).xlsm'\n",
    "# sheet_name = \"34. 인턴형 일경험 실시보고\"\n",
    "# header = 0\n",
    "# u1.ExcelUtill.엑셀열기(file_path_excel, sheet_name, header)\n"
   ]
  },
  {
   "cell_type": "code",
   "execution_count": 10,
   "metadata": {},
   "outputs": [
    {
     "data": {
      "text/plain": [
       "True"
      ]
     },
     "execution_count": 10,
     "metadata": {},
     "output_type": "execute_result"
    }
   ],
   "source": [
    "##한글 파일 열기\n",
    "file_name ='[서식129] (공통-직무교육기관) 사전직무교육 수료 보고서'\n",
    "file_path = r\"C:\\Users\\thdus\\Desktop\\미래내일일경험\\07. 한글 문서\\★누름틀_문서\\3. 사전직무 서류\"\n",
    "#객체생성성\n",
    "hwp2 = u2.HwpUtill()\n",
    "#실행\n",
    "hwp2.파일열기(file_name=file_name, file_path=file_path)"
   ]
  },
  {
   "cell_type": "code",
   "execution_count": 13,
   "metadata": {},
   "outputs": [
    {
     "name": "stdout",
     "output_type": "stream",
     "text": [
      "Error creating vertical text fields: (-2147352567, '예외가 발생했습니다.', (0, None, None, None, 0, -2147467262), None)\n"
     ]
    }
   ],
   "source": [
    "\n",
    "hwp2.세로누름틀생성(\n",
    "    시작인덱스=43,\n",
    "    필드이름=\"이름\",\n",
    "    개수=20\n",
    "    )\n"
   ]
  },
  {
   "cell_type": "code",
   "execution_count": null,
   "metadata": {},
   "outputs": [],
   "source": [
    "from utill import excel_utill as u1, hwp_utill as u2\n",
    "\n",
    "file_path_excel = r\"N:\\개인\\개발폴더\\엑셀과 한컴오피스\\파이썬 + 한글_자동화\\서식34.xlsx\"\n",
    "sheet_name = \"참여자 명단\"\n",
    "header = 0\n",
    "\n",
    "# u1.ExcelUtill.엑셀열기(file_path_excel, sheet_name, header)\n",
    "\n",
    "hwp2 = u2.HwpUtill()\n",
    "hwp3 = u2.HwpUtill()\n",
    "file_name=\"[서식118] 인턴형 프로그램 표준 계약서\"\n",
    "file_path=r\"N:\\개인\\개발폴더\\엑셀과 한컴오피스\\파이썬 + 한글_자동화\"\n",
    "hwp2.파일열기(file_name=file_name, file_path=file_path)\n",
    "\n",
    "file_name=\"[서식46] 인턴형 참여청년 확인서\"\n",
    "file_path=r\"N:\\개인\\개발폴더\\엑셀과 한컴오피스\\파이썬 + 한글_자동화\"\n",
    "hwp3.파일열기(file_name=file_name, file_path=file_path)\n",
    "\n",
    "\n"
   ]
  }
 ],
 "metadata": {
  "kernelspec": {
   "display_name": "Python 3",
   "language": "python",
   "name": "python3"
  },
  "language_info": {
   "codemirror_mode": {
    "name": "ipython",
    "version": 3
   },
   "file_extension": ".py",
   "mimetype": "text/x-python",
   "name": "python",
   "nbconvert_exporter": "python",
   "pygments_lexer": "ipython3",
   "version": "3.10.11"
  }
 },
 "nbformat": 4,
 "nbformat_minor": 2
}
