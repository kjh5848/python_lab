{
 "cells": [
  {
   "cell_type": "code",
   "execution_count": 20,
   "metadata": {},
   "outputs": [
    {
     "name": "stdout",
     "output_type": "stream",
     "text": [
      "은행명/계좌번호:\n",
      "0    국민은행 / 573101-01-515666(정민주)\n",
      "1    카카오뱅크 / 3333-07-1970883(김성한)\n",
      "2                                \n",
      "Name: 은행명/계좌번호, dtype: object\n",
      "주소:\n",
      "0          부산 해운대구 삼어로 131, 102동 904호\n",
      "1    부산 수영구 광안해변로 295번길 3, 드림팰리스 502호\n",
      "2                                    \n",
      "Name: 주소, dtype: object\n",
      "성명:\n",
      "0    정민주\n",
      "1    김성한\n",
      "2       \n",
      "Name: 성명, dtype: object\n",
      "연락처:\n",
      "0    010-4137-0649\n",
      "1    010-7346-1534\n",
      "2                 \n",
      "Name: 연락처, dtype: object\n"
     ]
    },
    {
     "ename": "AttributeError",
     "evalue": "'<win32com.gen_py.HwpObject 1.0 Type Library.IHwpObject instance at 0x1360554822880>' object has no attribute 'GetFieldlist'",
     "output_type": "error",
     "traceback": [
      "\u001b[1;31m---------------------------------------------------------------------------\u001b[0m",
      "\u001b[1;31mAttributeError\u001b[0m                            Traceback (most recent call last)",
      "Cell \u001b[1;32mIn[20], line 42\u001b[0m\n\u001b[0;32m     38\u001b[0m     \u001b[38;5;28;01melse\u001b[39;00m:\n\u001b[0;32m     39\u001b[0m         \u001b[38;5;28mprint\u001b[39m(\u001b[38;5;124mf\u001b[39m\u001b[38;5;124m\"\u001b[39m\u001b[38;5;124m'\u001b[39m\u001b[38;5;132;01m{\u001b[39;00m열\u001b[38;5;132;01m}\u001b[39;00m\u001b[38;5;124m'\u001b[39m\u001b[38;5;124m 열이 존재하지 않습니다.\u001b[39m\u001b[38;5;124m\"\u001b[39m)\n\u001b[1;32m---> 42\u001b[0m \u001b[43mhwp\u001b[49m\u001b[38;5;241;43m.\u001b[39;49m\u001b[43mGetFieldlist\u001b[49m()\n\u001b[0;32m     45\u001b[0m \u001b[38;5;66;03m# hwp.Quit()\u001b[39;00m\n",
      "File \u001b[1;32m~\\AppData\\Roaming\\Python\\Python312\\site-packages\\win32com\\client\\__init__.py:557\u001b[0m, in \u001b[0;36mDispatchBaseClass.__getattr__\u001b[1;34m(self, attr)\u001b[0m\n\u001b[0;32m    555\u001b[0m args \u001b[38;5;241m=\u001b[39m \u001b[38;5;28mself\u001b[39m\u001b[38;5;241m.\u001b[39m_prop_map_get_\u001b[38;5;241m.\u001b[39mget(attr)\n\u001b[0;32m    556\u001b[0m \u001b[38;5;28;01mif\u001b[39;00m args \u001b[38;5;129;01mis\u001b[39;00m \u001b[38;5;28;01mNone\u001b[39;00m:\n\u001b[1;32m--> 557\u001b[0m     \u001b[38;5;28;01mraise\u001b[39;00m \u001b[38;5;167;01mAttributeError\u001b[39;00m(\u001b[38;5;124mf\u001b[39m\u001b[38;5;124m\"\u001b[39m\u001b[38;5;124m'\u001b[39m\u001b[38;5;132;01m{\u001b[39;00m\u001b[38;5;28mrepr\u001b[39m(\u001b[38;5;28mself\u001b[39m)\u001b[38;5;132;01m}\u001b[39;00m\u001b[38;5;124m'\u001b[39m\u001b[38;5;124m object has no attribute \u001b[39m\u001b[38;5;124m'\u001b[39m\u001b[38;5;132;01m{\u001b[39;00mattr\u001b[38;5;132;01m}\u001b[39;00m\u001b[38;5;124m'\u001b[39m\u001b[38;5;124m\"\u001b[39m)\n\u001b[0;32m    558\u001b[0m \u001b[38;5;28;01mreturn\u001b[39;00m \u001b[38;5;28mself\u001b[39m\u001b[38;5;241m.\u001b[39m_ApplyTypes_(\u001b[38;5;241m*\u001b[39margs)\n",
      "\u001b[1;31mAttributeError\u001b[0m: '<win32com.gen_py.HwpObject 1.0 Type Library.IHwpObject instance at 0x1360554822880>' object has no attribute 'GetFieldlist'"
     ]
    }
   ],
   "source": [
    "import win32com.client as win32\n",
    "import pandas as pd\n",
    "import logging\n",
    "import os\n",
    "\n",
    "# 로그 설정 (디버깅 수준으로 설정)\n",
    "logging.basicConfig(level=logging.DEBUG, format='%(asctime)s - %(levelname)s - %(message)s')\n",
    "\n",
    "# 엑셀 파일 경로 및 시트 설정\n",
    "def 엑셀열기():\n",
    "    file_path_excel = r'N:\\개인\\개발폴더\\엑셀과 한컴오피스\\파이썬 + 한글_자동화\\서식34.xlsx'\n",
    "    sheet_name = \"참여자 명단\"\n",
    "    excel = pd.read_excel(file_path_excel, sheet_name=sheet_name, header=1, dtype=str)\n",
    "    excel_data = excel.fillna(\"\")\n",
    "    \n",
    "    return excel_data\n",
    "\n",
    "excel_data = 엑셀열기()\n",
    "# '은행명/계좌번호', '주소', '성명', '연락처' 열의 데이터 추출 및 조합\n",
    "\n",
    "hwp = win32.gencache.EnsureDispatch(\"hwpframe.hwpobject\")\n",
    "hwp.RegisterModule(\"FilePathCheckDLL\", \"FilePathCheckerModuleExample\")\n",
    "hwp.XHwpWindows.Item(0).Visible = True  # 한글 창을 보이게 설정\n",
    "\n",
    "def 파일열기(hwp, file_name, file_path):\n",
    "    file_path = fr'N:{file_path}\\{file_name}.hwp'\n",
    "    return hwp.Open(file_path)\n",
    "\n",
    "file_name = '[서식118] 인턴형 프로그램 표준 계약서'\n",
    "file_path = '\\개인\\개발폴더\\엑셀과 한컴오피스\\파이썬 + 한글_자동화'\n",
    "파일열기(hwp,file_name,file_path)\n",
    "\n",
    "필요한_열 = ['은행명/계좌번호', '주소', '성명', '연락처']\n",
    "for 열 in 필요한_열:\n",
    "    if 열 in excel_data.columns:\n",
    "        print(f\"{열}:\")\n",
    "        print(excel_data[열])\n",
    "    else:\n",
    "        print(f\"'{열}' 열이 존재하지 않습니다.\")\n",
    "\n",
    "\n",
    "hwp.GetFieldlist()\n",
    "\n",
    "\n",
    "# hwp.Quit()\n"
   ]
  }
 ],
 "metadata": {
  "kernelspec": {
   "display_name": "Python 3",
   "language": "python",
   "name": "python3"
  },
  "language_info": {
   "codemirror_mode": {
    "name": "ipython",
    "version": 3
   },
   "file_extension": ".py",
   "mimetype": "text/x-python",
   "name": "python",
   "nbconvert_exporter": "python",
   "pygments_lexer": "ipython3",
   "version": "3.12.6"
  }
 },
 "nbformat": 4,
 "nbformat_minor": 2
}
