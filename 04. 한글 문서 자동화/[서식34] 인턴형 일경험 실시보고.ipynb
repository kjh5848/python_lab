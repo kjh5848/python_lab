{
 "cells": [
  {
   "cell_type": "code",
   "execution_count": 7,
   "metadata": {},
   "outputs": [],
   "source": [
    "import win32com.client as win32\n",
    "import pandas as pd\n",
    "import logging\n",
    "import os\n",
    "\n",
    "# 로그 설정 (디버깅 수준으로 설정)\n",
    "logging.basicConfig(level=logging.DEBUG, format='%(asctime)s - %(levelname)s - %(message)s')\n",
    "\n",
    "# 엑셀 파일 경로 및 시트 설정\n",
    "def 엑셀열기():\n",
    "    file_path_excel = r'N:\\개인\\개발폴더\\엑셀과 한컴오피스\\파이썬 + 한글_자동화\\서식34.xlsx'\n",
    "    sheet_name = \"서식34실시보고\"\n",
    "    excel = pd.read_excel(file_path_excel, sheet_name=sheet_name, header=0, dtype=str)\n",
    "    excel_data = excel.fillna(\"\")\n",
    "    \n",
    "    return excel_data\n",
    "\n",
    "hwp = win32.gencache.EnsureDispatch(\"hwpframe.hwpobject\")\n",
    "hwp.RegisterModule(\"FilePathCheckDLL\", \"FilePathCheckerModuleExample\")\n",
    "hwp.XHwpWindows.Item(0).Visible = True  # 한글 창을 보이게 설정\n",
    "\n",
    "def 파일열기(hwp, file_name, file_path):\n",
    "    file_path = fr'N:{file_path}\\{file_name}.hwp'\n",
    "    return hwp.Open(file_path)\n",
    "\n",
    "file_name = '[서식34] 인턴형 일경험 실시보고'\n",
    "file_path = '\\개인\\개발폴더\\엑셀과 한컴오피스\\파이썬 + 한글_자동화'\n",
    "파일열기(hwp, file_name, file_path)\n",
    "excel = 엑셀열기()\n"
   ]
  },
  {
   "cell_type": "code",
   "execution_count": 8,
   "metadata": {},
   "outputs": [
    {
     "name": "stderr",
     "output_type": "stream",
     "text": [
      "C:\\Users\\Administrator\\AppData\\Local\\Temp\\ipykernel_8124\\4286764906.py:6: FutureWarning: Series.__getitem__ treating keys as positions is deprecated. In a future version, integer keys will always be treated as labels (consistent with DataFrame behavior). To access a value by position, use `ser.iloc[pos]`\n",
      "  hwp.PutFieldText(row[0],\"\")  # A열: 필드명, B열: 값\n",
      "C:\\Users\\Administrator\\AppData\\Local\\Temp\\ipykernel_8124\\4286764906.py:9: FutureWarning: Series.__getitem__ treating keys as positions is deprecated. In a future version, integer keys will always be treated as labels (consistent with DataFrame behavior). To access a value by position, use `ser.iloc[pos]`\n",
      "  hwp.PutFieldText(row[2], \"\")  # C열: 필드명, D열: 값\n"
     ]
    },
    {
     "name": "stdout",
     "output_type": "stream",
     "text": [
      "엑셀 데이터를 한글 누름틀에 성공적으로 삽입했습니다.\n"
     ]
    }
   ],
   "source": [
    "def 전체초기화(excel):\n",
    "    try:\n",
    "        # 엑셀 데이터를 반복하여 한글 문서의 누름틀에 필드명과 값을 삽입\n",
    "        for index, row in excel.iterrows():\n",
    "            # A, B열 데이터 삽입\n",
    "            hwp.PutFieldText(row[0],\"\")  # A열: 필드명, B열: 값\n",
    "            \n",
    "            # C, D열 데이터 삽입\n",
    "            hwp.PutFieldText(row[2], \"\")  # C열: 필드명, D열: 값\n",
    "\n",
    "            # 추가적인 필드에 데이터 삽입 (성명, 생년월일, 성별, 참여일, 연락처)\n",
    "            hwp.PutFieldText(f\"성명_{index+1}\",\"\")\n",
    "            hwp.PutFieldText(f\"성명_{index+1}\",\"\")\n",
    "            hwp.PutFieldText(f\"생년월일_{index+1}\", \"\")\n",
    "            hwp.PutFieldText(f\"성별_{index+1}\", \"\")\n",
    "            hwp.PutFieldText(f\"참여일_{index+1}\",\"\")\n",
    "            hwp.PutFieldText(f\"연락처_{index+1}\", \"\")\n",
    "            hwp.PutFieldText(f\"연락처_{index+1}\", \"\")\n",
    "            \n",
    "\n",
    "            # 디버그 정보\n",
    "            # logging.debug(f\"참여일_{index+1}: {row[3]}\")\n",
    "\n",
    "        # 특정 위치 데이터 삽입 (28행의 년도, 월, 일 데이터)\n",
    "        hwp.PutFieldText(\"년도\", \"\")\n",
    "        hwp.PutFieldText(\"월\", \"\")\n",
    "        hwp.PutFieldText(\"일\", \"\")\n",
    "\n",
    "        # 성공 메시지 출력\n",
    "        print(\"엑셀 데이터를 한글 누름틀에 성공적으로 삽입했습니다.\")\n",
    "    \n",
    "    except Exception as e:\n",
    "        # 오류 메시지 출력\n",
    "        print(f\"누름틀에 값을 삽입하는 중 오류 발생: {e}\")\n",
    "        \n",
    "전체초기화(excel)\n"
   ]
  },
  {
   "cell_type": "code",
   "execution_count": 9,
   "metadata": {},
   "outputs": [
    {
     "name": "stderr",
     "output_type": "stream",
     "text": [
      "C:\\Users\\Administrator\\AppData\\Local\\Temp\\ipykernel_8124\\2296186991.py:75: FutureWarning: Series.__getitem__ treating keys as positions is deprecated. In a future version, integer keys will always be treated as labels (consistent with DataFrame behavior). To access a value by position, use `ser.iloc[pos]`\n",
      "  hwp.PutFieldText(row[fieldNum], str(row[valueNum]))  # A열: 필드명, B열: 값\n",
      "C:\\Users\\Administrator\\AppData\\Local\\Temp\\ipykernel_8124\\2296186991.py:78: FutureWarning: Series.__getitem__ treating keys as positions is deprecated. In a future version, integer keys will always be treated as labels (consistent with DataFrame behavior). To access a value by position, use `ser.iloc[pos]`\n",
      "  hwp.PutFieldText(row[fieldNum], str(row[valueNum]))  # C열: 필드명, D열: 값\n"
     ]
    },
    {
     "name": "stdout",
     "output_type": "stream",
     "text": [
      "엑셀 데이터를 한글 누름틀에 성공적으로 삽입했습니다.\n"
     ]
    },
    {
     "name": "stderr",
     "output_type": "stream",
     "text": [
      "C:\\Users\\Administrator\\AppData\\Local\\Temp\\ipykernel_8124\\2296186991.py:94: FutureWarning: Series.__getitem__ treating keys as positions is deprecated. In a future version, integer keys will always be treated as labels (consistent with DataFrame behavior). To access a value by position, use `ser.iloc[pos]`\n",
      "  hwp.PutFieldText(row[fieldNum], str(row[valueNum]))  # A열: 필드명, B열: 값\n",
      "C:\\Users\\Administrator\\AppData\\Local\\Temp\\ipykernel_8124\\2296186991.py:97: FutureWarning: Series.__getitem__ treating keys as positions is deprecated. In a future version, integer keys will always be treated as labels (consistent with DataFrame behavior). To access a value by position, use `ser.iloc[pos]`\n",
      "  hwp.PutFieldText(row[fieldNum], str(row[valueNum]))  # C열: 필드명, D열: 값\n"
     ]
    },
    {
     "name": "stdout",
     "output_type": "stream",
     "text": [
      "엑셀 데이터를 한글 누름틀에 성공적으로 삽입했습니다.\n",
      "년도, 2024\n"
     ]
    },
    {
     "name": "stderr",
     "output_type": "stream",
     "text": [
      "C:\\Users\\Administrator\\AppData\\Local\\Temp\\ipykernel_8124\\2296186991.py:56: FutureWarning: Series.__getitem__ treating keys as positions is deprecated. In a future version, integer keys will always be treated as labels (consistent with DataFrame behavior). To access a value by position, use `ser.iloc[pos]`\n",
      "  hwp.PutFieldText(f\"성명_{index}\", str(row[0]))\n",
      "C:\\Users\\Administrator\\AppData\\Local\\Temp\\ipykernel_8124\\2296186991.py:57: FutureWarning: Series.__getitem__ treating keys as positions is deprecated. In a future version, integer keys will always be treated as labels (consistent with DataFrame behavior). To access a value by position, use `ser.iloc[pos]`\n",
      "  hwp.PutFieldText(f\"생년월일_{index}\", str(row[1]))\n",
      "C:\\Users\\Administrator\\AppData\\Local\\Temp\\ipykernel_8124\\2296186991.py:58: FutureWarning: Series.__getitem__ treating keys as positions is deprecated. In a future version, integer keys will always be treated as labels (consistent with DataFrame behavior). To access a value by position, use `ser.iloc[pos]`\n",
      "  hwp.PutFieldText(f\"성별_{index}\", str(row[2]))\n",
      "C:\\Users\\Administrator\\AppData\\Local\\Temp\\ipykernel_8124\\2296186991.py:59: FutureWarning: Series.__getitem__ treating keys as positions is deprecated. In a future version, integer keys will always be treated as labels (consistent with DataFrame behavior). To access a value by position, use `ser.iloc[pos]`\n",
      "  hwp.PutFieldText(f\"참여일_{index}\", str(row[3]))\n",
      "C:\\Users\\Administrator\\AppData\\Local\\Temp\\ipykernel_8124\\2296186991.py:60: FutureWarning: Series.__getitem__ treating keys as positions is deprecated. In a future version, integer keys will always be treated as labels (consistent with DataFrame behavior). To access a value by position, use `ser.iloc[pos]`\n",
      "  hwp.PutFieldText(f\"연락처_{index}\", str(row[4]))\n"
     ]
    },
    {
     "name": "stdout",
     "output_type": "stream",
     "text": [
      "엑셀 데이터를 한글 누름틀에 성공적으로 삽입했습니다.\n"
     ]
    }
   ],
   "source": [
    "\n",
    "def 전체초기화(excel):\n",
    "    try:\n",
    "        # 엑셀 데이터를 반복하여 한글 문서의 누름틀에 필드명과 값을 삽입\n",
    "        for index, row in excel.iterrows():\n",
    "            # A, B열 데이터 삽입\n",
    "            hwp.PutFieldText(row[0],\"\")  # A열: 필드명, B열: 값\n",
    "            \n",
    "            # C, D열 데이터 삽입\n",
    "            hwp.PutFieldText(row[2], \"\")  # C열: 필드명, D열: 값\n",
    "\n",
    "            # 추가적인 필드에 데이터 삽입 (성명, 생년월일, 성별, 참여일, 연락처)\n",
    "            hwp.PutFieldText(f\"성명_{index+1}\",\"\")\n",
    "            hwp.PutFieldText(f\"생년월일_{index+1}\", \"\")\n",
    "            hwp.PutFieldText(f\"성별_{index+1}\", \"\")\n",
    "            hwp.PutFieldText(f\"참여일_{index+1}\",\"\")\n",
    "            hwp.PutFieldText(f\"연락처_{index+1}\", \"\")\n",
    "            hwp.PutFieldText(f\"\", \"\")\n",
    "            hwp.PutFieldText(\"\",\"\")\n",
    "\n",
    "            # 디버그 정보\n",
    "            # logging.debug(f\"참여일_{index+1}: {row[3]}\")\n",
    "\n",
    "        # 특정 위치 데이터 삽입 (28행의 년도, 월, 일 데이터)\n",
    "        hwp.PutFieldText(\"년도\", \"\")\n",
    "        hwp.PutFieldText(\"월\", \"\")\n",
    "        hwp.PutFieldText(\"일\", \"\")\n",
    "\n",
    "        # 성공 메시지 출력\n",
    "        print(\"엑셀 데이터를 한글 누름틀에 성공적으로 삽입했습니다.\")\n",
    "    \n",
    "    except Exception as e:\n",
    "        # 오류 메시지 출력\n",
    "        print(f\"누름틀에 값을 삽입하는 중 오류 발생: {e}\")\n",
    "def 날짜(excel):\n",
    "    try:\n",
    "       \n",
    "        # 특정 위치 데이터 삽입 (28행의 년도, 월, 일 데이터)\n",
    "        hwp.PutFieldText(\"년도\", str(excel.iloc[1, 2]))\n",
    "        hwp.PutFieldText(\"월\", str(excel.iloc[1, 3]))\n",
    "        hwp.PutFieldText(\"일\", str(excel.iloc[1, 4]))\n",
    "    \n",
    "\n",
    "        # 성공 메시지 출력\n",
    "        print(f\"년도, {str(excel.iloc[1, 2])}\")\n",
    "    \n",
    "    except Exception as e:\n",
    "        # 오류 메시지 출력\n",
    "        print(f\"누름틀에 값을 삽입하는 중 오류 발생: {e}\")\n",
    "\n",
    "def 참여자명단(excel):\n",
    "    try:\n",
    "        # 엑셀 데이터를 반복하여 한글 문서의 누름틀에 필드명과 값을 삽입\n",
    "        for index, row in excel.iterrows():           \n",
    "               \n",
    "            # 추가적인 필드에 데이터 삽입 (성명, 생년월일, 성별, 참여일, 연락처)\n",
    "            hwp.PutFieldText(f\"성명_{index}\", str(row[0]))\n",
    "            hwp.PutFieldText(f\"생년월일_{index}\", str(row[1]))\n",
    "            hwp.PutFieldText(f\"성별_{index}\", str(row[2]))\n",
    "            hwp.PutFieldText(f\"참여일_{index}\", str(row[3]))\n",
    "            hwp.PutFieldText(f\"연락처_{index}\", str(row[4]))\n",
    "        # 성공 메시지 출력\n",
    "        print(\"엑셀 데이터를 한글 누름틀에 성공적으로 삽입했습니다.\")\n",
    "    \n",
    "    except Exception as e:\n",
    "        # 오류 메시지 출력\n",
    "        print(f\"누름틀에 값을 삽입하는 중 오류 발생: {e}\")\n",
    "\n",
    "def 사업장현황_담당자정보(excel,fieldNum,valueNum):\n",
    "    try:\n",
    "        # 엑셀 데이터를 반복하여 한글 문서의 누름틀에 필드명과 값을 삽입    \n",
    "        rows_to_insert = excel.iloc[:14]\n",
    "        \n",
    "        for index, row in rows_to_insert.iterrows():\n",
    "            # A, B열 데이터 삽입\n",
    "            hwp.PutFieldText(row[fieldNum], str(row[valueNum]))  # A열: 필드명, B열: 값\n",
    "\n",
    "            # C, D열 데이터 삽입\n",
    "            hwp.PutFieldText(row[fieldNum], str(row[valueNum]))  # C열: 필드명, D열: 값\n",
    "\n",
    "        # 성공 메시지 출력\n",
    "        print(\"엑셀 데이터를 한글 누름틀에 성공적으로 삽입했습니다.\")\n",
    "    \n",
    "    except Exception as e:\n",
    "        # 오류 메시지 출력\n",
    "        print(f\"누름틀에 값을 삽입하는 중 오류 발생: {e}\")\n",
    "\n",
    "def 프로그램정보(excel,fieldNum,valueNum):\n",
    "    try:\n",
    "        # 엑셀 데이터를 반복하여 한글 문서의 누름틀에 필드명과 값을 삽입    \n",
    "        rows_to_insert = excel.iloc[14:22]\n",
    "        \n",
    "        for index, row in rows_to_insert.iterrows():\n",
    "            # A, B열 데이터 삽입\n",
    "            hwp.PutFieldText(row[fieldNum], str(row[valueNum]))  # A열: 필드명, B열: 값\n",
    "\n",
    "            # C, D열 데이터 삽입\n",
    "            hwp.PutFieldText(row[fieldNum], str(row[valueNum]))  # C열: 필드명, D열: 값\n",
    "\n",
    "        # 성공 메시지 출력\n",
    "        print(\"엑셀 데이터를 한글 누름틀에 성공적으로 삽입했습니다.\")\n",
    "    \n",
    "    except Exception as e:\n",
    "        # 오류 메시지 출력\n",
    "        print(f\"누름틀에 값을 삽입하는 중 오류 발생: {e}\")        \n",
    "\n",
    "\n",
    "사업장현황_담당자정보(excel,0,1)\n",
    "프로그램정보(엑셀열기(),0,1)\n",
    "날짜(엑셀열기())\n",
    "참여자명단(엑셀열기())\n",
    "\n",
    "# 전체초기화(excel)\n",
    "\n",
    "\n"
   ]
  },
  {
   "cell_type": "code",
   "execution_count": 10,
   "metadata": {},
   "outputs": [
    {
     "name": "stderr",
     "output_type": "stream",
     "text": [
      "C:\\Users\\Administrator\\AppData\\Local\\Temp\\ipykernel_8124\\2489975907.py:43: FutureWarning: Series.__getitem__ treating keys as positions is deprecated. In a future version, integer keys will always be treated as labels (consistent with DataFrame behavior). To access a value by position, use `ser.iloc[pos]`\n",
      "  self.hwp.PutFieldText(row[fieldNum], str(row[valueNum]))  # A열: 필드명, B열: 값\n",
      "C:\\Users\\Administrator\\AppData\\Local\\Temp\\ipykernel_8124\\2489975907.py:58: FutureWarning: Series.__getitem__ treating keys as positions is deprecated. In a future version, integer keys will always be treated as labels (consistent with DataFrame behavior). To access a value by position, use `ser.iloc[pos]`\n",
      "  self.hwp.PutFieldText(row[fieldNum], str(row[valueNum]))  # A열: 필드명, B열: 값\n"
     ]
    },
    {
     "name": "stdout",
     "output_type": "stream",
     "text": [
      "사업장 현황 및 담당자 정보를 한글 누름틀에 성공적으로 삽입했습니다.\n",
      "프로그램 정보를 한글 누름틀에 성공적으로 삽입했습니다.\n",
      "년도, 2024\n"
     ]
    },
    {
     "name": "stderr",
     "output_type": "stream",
     "text": [
      "C:\\Users\\Administrator\\AppData\\Local\\Temp\\ipykernel_8124\\2489975907.py:24: FutureWarning: Series.__getitem__ treating keys as positions is deprecated. In a future version, integer keys will always be treated as labels (consistent with DataFrame behavior). To access a value by position, use `ser.iloc[pos]`\n",
      "  self.hwp.PutFieldText(f\"성명_{index}\", str(row[0]))\n",
      "C:\\Users\\Administrator\\AppData\\Local\\Temp\\ipykernel_8124\\2489975907.py:25: FutureWarning: Series.__getitem__ treating keys as positions is deprecated. In a future version, integer keys will always be treated as labels (consistent with DataFrame behavior). To access a value by position, use `ser.iloc[pos]`\n",
      "  self.hwp.PutFieldText(f\"생년월일_{index}\", str(row[1]))\n",
      "C:\\Users\\Administrator\\AppData\\Local\\Temp\\ipykernel_8124\\2489975907.py:26: FutureWarning: Series.__getitem__ treating keys as positions is deprecated. In a future version, integer keys will always be treated as labels (consistent with DataFrame behavior). To access a value by position, use `ser.iloc[pos]`\n",
      "  self.hwp.PutFieldText(f\"성별_{index}\", str(row[2]))\n",
      "C:\\Users\\Administrator\\AppData\\Local\\Temp\\ipykernel_8124\\2489975907.py:27: FutureWarning: Series.__getitem__ treating keys as positions is deprecated. In a future version, integer keys will always be treated as labels (consistent with DataFrame behavior). To access a value by position, use `ser.iloc[pos]`\n",
      "  self.hwp.PutFieldText(f\"참여일_{index}\", str(row[3]))\n",
      "C:\\Users\\Administrator\\AppData\\Local\\Temp\\ipykernel_8124\\2489975907.py:28: FutureWarning: Series.__getitem__ treating keys as positions is deprecated. In a future version, integer keys will always be treated as labels (consistent with DataFrame behavior). To access a value by position, use `ser.iloc[pos]`\n",
      "  self.hwp.PutFieldText(f\"연락처_{index}\", str(row[4]))\n"
     ]
    },
    {
     "name": "stdout",
     "output_type": "stream",
     "text": [
      "참여자 명단을 한글 누름틀에 성공적으로 삽입했습니다.\n"
     ]
    }
   ],
   "source": [
    "class HwpDataInserter:\n",
    "    def __init__(self, hwp, excel):\n",
    "        self.hwp = hwp\n",
    "        self.excel = excel\n",
    "\n",
    "    def 날짜_삽입(self):\n",
    "        try:\n",
    "            # 특정 위치 데이터 삽입 (년도, 월, 일 데이터)\n",
    "            self.hwp.PutFieldText(\"년도\", str(self.excel.iloc[1, 2]))\n",
    "            self.hwp.PutFieldText(\"월\", str(self.excel.iloc[1, 3]))\n",
    "            self.hwp.PutFieldText(\"일\", str(self.excel.iloc[1, 4]))\n",
    "\n",
    "            # 성공 메시지 출력\n",
    "            print(f\"년도, {str(self.excel.iloc[1, 2])}\")\n",
    "        except Exception as e:\n",
    "            # 오류 메시지 출력\n",
    "            print(f\"날짜 삽입 중 오류 발생: {e}\")\n",
    "\n",
    "    def 참여자_명단_삽입(self):\n",
    "        try:\n",
    "            # 엑셀 데이터를 반복하여 한글 문서의 누름틀에 필드명과 값을 삽입\n",
    "            for index, row in self.excel.iterrows():\n",
    "                # 추가적인 필드에 데이터 삽입 (성명, 생년월일, 성별, 참여일, 연락처)\n",
    "                self.hwp.PutFieldText(f\"성명_{index}\", str(row[0]))\n",
    "                self.hwp.PutFieldText(f\"생년월일_{index}\", str(row[1]))\n",
    "                self.hwp.PutFieldText(f\"성별_{index}\", str(row[2]))\n",
    "                self.hwp.PutFieldText(f\"참여일_{index}\", str(row[3]))\n",
    "                self.hwp.PutFieldText(f\"연락처_{index}\", str(row[4]))\n",
    "\n",
    "            # 성공 메시지 출력\n",
    "            print(\"참여자 명단을 한글 누름틀에 성공적으로 삽입했습니다.\")\n",
    "        except Exception as e:\n",
    "            # 오류 메시지 출력\n",
    "            print(f\"참여자 명단 삽입 중 오류 발생: {e}\")\n",
    "\n",
    "    def 사업장_현황_담당자_정보_삽입(self, fieldNum, valueNum):\n",
    "        try:\n",
    "            # 사업장 현황 및 담당자 정보 삽입 (엑셀의 처음 14행)\n",
    "            rows_to_insert = self.excel.iloc[:14]\n",
    "\n",
    "            for index, row in rows_to_insert.iterrows():\n",
    "                # A, B열 데이터 삽입\n",
    "                self.hwp.PutFieldText(row[fieldNum], str(row[valueNum]))  # A열: 필드명, B열: 값\n",
    "\n",
    "            # 성공 메시지 출력\n",
    "            print(\"사업장 현황 및 담당자 정보를 한글 누름틀에 성공적으로 삽입했습니다.\")\n",
    "        except Exception as e:\n",
    "            # 오류 메시지 출력\n",
    "            print(f\"사업장 현황 및 담당자 정보 삽입 중 오류 발생: {e}\")\n",
    "\n",
    "    def 프로그램_정보_삽입(self, fieldNum, valueNum):\n",
    "        try:\n",
    "            # 프로그램 정보 삽입 (엑셀의 14행부터 22행까지)\n",
    "            rows_to_insert = self.excel.iloc[14:22]\n",
    "\n",
    "            for index, row in rows_to_insert.iterrows():\n",
    "                # A, B열 데이터 삽입\n",
    "                self.hwp.PutFieldText(row[fieldNum], str(row[valueNum]))  # A열: 필드명, B열: 값\n",
    "\n",
    "            # 성공 메시지 출력\n",
    "            print(\"프로그램 정보를 한글 누름틀에 성공적으로 삽입했습니다.\")\n",
    "        except Exception as e:\n",
    "            # 오류 메시지 출력\n",
    "            print(f\"프로그램 정보 삽입 중 오류 발생: {e}\")\n",
    "\n",
    "# 클래스 사용 예시\n",
    "# hwp와 excel 객체는 사용자가 미리 정의했다고 가정합니다.\n",
    "hwp_inserter = HwpDataInserter(hwp, 엑셀열기())\n",
    "hwp_inserter.사업장_현황_담당자_정보_삽입(0, 1)\n",
    "hwp_inserter.프로그램_정보_삽입(0, 1)\n",
    "hwp_inserter.날짜_삽입()\n",
    "hwp_inserter.참여자_명단_삽입()"
   ]
  },
  {
   "cell_type": "code",
   "execution_count": 11,
   "metadata": {},
   "outputs": [],
   "source": [
    "def 세로누름틀생성(hwp, 시작인덱스, 필드이름, 개수):\n",
    "    for i in range(개수):\n",
    "        field_name = f\"{필드이름}_{시작인덱스 + i}\"\n",
    "        # hwp.HAction.Execute(\"MoveDown\", hwp.HParameterSet.HFindReplace.HSet)\n",
    "        \n",
    "        # 누름틀 필드 생성 (현재 커서 위치에 삽입)\n",
    "        hwp.CreateField(필드이름, \"\", field_name)\n",
    "        print(f\"Inserted field: {field_name}\")\n",
    "        \n",
    "        hwp.HAction.Execute(\"MoveDown\", hwp.HParameterSet.HFindReplace.HSet)\n",
    "\n",
    "# '성별' 필드를 현재 커서 위치에서 시작으로 반복적으로 누름틀을 생성하고 텍스트를 설정\n",
    "# 세로누름틀생성(hwp, 25, \"연락처\", 10)"
   ]
  },
  {
   "cell_type": "code",
   "execution_count": 12,
   "metadata": {},
   "outputs": [
    {
     "name": "stdout",
     "output_type": "stream",
     "text": [
      "서명 이미지가 '(서명 또는 인)' 필드에 삽입되었습니다.\n"
     ]
    }
   ],
   "source": [
    "\n",
    "\n",
    "\n",
    "def insert_signature_image(hwp, image_path, target_field_name, width, height,x_pos, y_pos):\n",
    "    try:\n",
    "        # 서명 필드로 커서 이동\n",
    "        hwp.MoveToField(target_field_name)\n",
    "\n",
    "        # 이미지 삽입하기\n",
    "        hwp.InsertPicture(image_path, Embedded=True, sizeoption=0)\n",
    "        \n",
    "        hwp.FindCtrl()  # 개체를 선택해야 이후 설정 적용 가능\n",
    "    \n",
    "        # 삽입된 이미지 선택\n",
    "        hwp.FindCtrl()  # 개체를 선택해야 이후 설정 적용 가능\n",
    "        \n",
    "        # 설정 변경\n",
    "        hwp.HAction.GetDefault(\"ShapeObjDialog\", hwp.HParameterSet.HShapeObject.HSet)\n",
    "        hwp.HParameterSet.HShapeObject.HSet.SetItem(\"Height\", int(height * 283.465))  # 19cm 높이로 설정\n",
    "        hwp.HParameterSet.HShapeObject.HSet.SetItem(\"Width\", int(width * 283.465))   # 19cm 너비로 설정\n",
    "        hwp.HParameterSet.HShapeObject.HSet.SetItem(\"TreatAsChar\", 0)  # 글자처럼 취급 해제 설정\n",
    "        hwp.HParameterSet.HShapeObject.HSet.SetItem(\"TextWrap\", 3)  # 글 앞에 배치\n",
    "        hwp.HParameterSet.HShapeObject.HSet.SetItem(\"HorzRelTo\", 0)  # 속성을 종이 기준으로 설정\n",
    "        hwp.HParameterSet.HShapeObject.HSet.SetItem(\"VertRelTo\", 0)  # 속성을 종이 기준으로 설정\n",
    "        hwp.HParameterSet.HShapeObject.HSet.SetItem(\"HorzOffset\", hwp.MiliToHwpUnit(x_pos))\n",
    "        hwp.HParameterSet.HShapeObject.HSet.SetItem(\"VertOffset\", hwp.MiliToHwpUnit(y_pos))\n",
    "        \n",
    "        # 설정 적용\n",
    "        hwp.HAction.Execute(\"ShapeObjDialog\", hwp.HParameterSet.HShapeObject.HSet)\n",
    "\n",
    "        print(f\"서명 이미지가 '{target_field_name}' 필드에 삽입되었습니다.\")\n",
    "    except Exception as e:\n",
    "        print(f\"Error inserting image at {target_field_name}: {e}\")\n",
    "\n",
    "# 삽입할 이미지 경로와 크기, 위치 설정\n",
    "image_path = r\"Z:\\2024년_사업\\참여기업 멘토서류\\쇼우테크\\회사\\도장직인.png\"\n",
    "width = 19   # 너비 (단위: 한글 내부 단위)\n",
    "height = 19   # 높이 (단위: 한글 내부 단위)\n",
    "x_pos = 155.42    # X 위치 (단위: 한글 내부 단위)\n",
    "y_pos = 235.22   # Y 위치 (단위: 한글 내부 단위)\n",
    "\n",
    "# 예시: '서명' 필드에 이미지 삽입 (경로는 사용자 환경에 맞게 수정)\n",
    "insert_signature_image(hwp, image_path,\"(서명 또는 인)\",width,height,x_pos,y_pos)\n"
   ]
  },
  {
   "cell_type": "code",
   "execution_count": null,
   "metadata": {},
   "outputs": [],
   "source": []
  },
  {
   "cell_type": "code",
   "execution_count": 13,
   "metadata": {},
   "outputs": [
    {
     "name": "stdout",
     "output_type": "stream",
     "text": [
      "['CLSID', 'SetItem', '_ApplyTypes_', '__class__', '__delattr__', '__dict__', '__dir__', '__doc__', '__eq__', '__format__', '__ge__', '__getattr__', '__getattribute__', '__getstate__', '__gt__', '__hash__', '__init__', '__init_subclass__', '__iter__', '__le__', '__lt__', '__module__', '__ne__', '__new__', '__reduce__', '__reduce_ex__', '__repr__', '__setattr__', '__sizeof__', '__str__', '__subclasshook__', '__weakref__', '_get_good_object_', '_get_good_single_object_', '_oleobj_', '_prop_map_get_', '_prop_map_put_', 'coclass_clsid']\n"
     ]
    }
   ],
   "source": [
    "# hwp 객체의 메서드 및 속성 목록 출력\n",
    "print(dir(hwp.HParameterSet.HMousePos.HSet))\n"
   ]
  }
 ],
 "metadata": {
  "kernelspec": {
   "display_name": "Python 3",
   "language": "python",
   "name": "python3"
  },
  "language_info": {
   "codemirror_mode": {
    "name": "ipython",
    "version": 3
   },
   "file_extension": ".py",
   "mimetype": "text/x-python",
   "name": "python",
   "nbconvert_exporter": "python",
   "pygments_lexer": "ipython3",
   "version": "3.12.6"
  }
 },
 "nbformat": 4,
 "nbformat_minor": 2
}
