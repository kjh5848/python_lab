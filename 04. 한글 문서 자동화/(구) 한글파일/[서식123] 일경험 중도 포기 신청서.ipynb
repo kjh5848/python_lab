{
 "cells": [
  {
   "cell_type": "code",
   "execution_count": 4,
   "metadata": {},
   "outputs": [
    {
     "name": "stdout",
     "output_type": "stream",
     "text": [
      "파일 저장 완료: [서식123] (공통-청년) 일경험 중도 포기 신청서_2222.hwp\n",
      "파일 저장 완료: [서식123] (공통-청년) 일경험 중도 포기 신청서_2222.hwp\n"
     ]
    }
   ],
   "source": [
    "from utill import excel_utill, hwp_utill\n",
    "import os\n",
    "\n",
    "# 파일 경로 및 시트 설정\n",
    "EXCEL_FILE_PATH = r\"C:\\Users\\Administrator\\Desktop\\미래내일일경험 공유\\python_lab\\07. 한글 문서\\한글 자동화_엑셀파일.xlsm\"\n",
    "EXCEL_SHEET_NAME = \"123. (공통-청년) 일경험 중도 포기 신청서\"\n",
    "HWP_FILE_NAME = \"[서식123] (공통-청년) 일경험 중도 포기 신청서\"\n",
    "HWP_FILE_PATH = r\"C:\\Users\\Administrator\\Desktop\\미래내일일경험 공유\\python_lab\\07. 한글 문서\\★누름틀_문서\\2. 참여청년 서류\"\n",
    "SAVE_FILE_PATH = r\"C:\\Users\\Administrator\\Desktop\\미래내일일경험 공유\\중도포기 신청서\"\n",
    "\n",
    "# 객체 생성\n",
    "EObject = excel_utill.ExcelUtill()\n",
    "HObject = hwp_utill.HwpUtill()\n",
    "\n",
    "# 엑셀 데이터 불러오기\n",
    "excel_data = EObject.엑셀열기(EXCEL_FILE_PATH, EXCEL_SHEET_NAME, header=0)\n",
    "\n",
    "# 메인 작업 함수\n",
    "def 한글문서_생성(excel_data, hwp_file_name, hwp_file_path):\n",
    "\n",
    "    # 파일 열기\n",
    "    HObject.파일열기(hwp_file_name, hwp_file_path)\n",
    "    for index, row in excel_data.iterrows():\n",
    "        \n",
    "        # 필드 채우기\n",
    "        HObject.채우기(row[2], row[3])\n",
    "\n",
    "    # 파일 저장\n",
    "    new_file_name = f\"{hwp_file_name}_{str(excel_data.iloc[2,3])}.hwp\"\n",
    "\n",
    "    # 폴더 생성\n",
    "    if not os.path.exists(SAVE_FILE_PATH):\n",
    "        os.makedirs(SAVE_FILE_PATH)\n",
    "\n",
    "    HObject.저장(new_file_name, SAVE_FILE_PATH)\n",
    "\n",
    "    print(f\"파일 저장 완료: {new_file_name}\")\n",
    "    HObject.닫기()\n",
    "    # 작업 완료 후 한글 종료\n",
    "    HObject.종료()\n",
    "\n",
    "    os.startfile(SAVE_FILE_PATH)\n",
    "\n",
    "# 실행\n",
    "한글문서_생성(excel_data, HWP_FILE_NAME, HWP_FILE_PATH)\n",
    "\n"
   ]
  }
 ],
 "metadata": {
  "kernelspec": {
   "display_name": "Python 3",
   "language": "python",
   "name": "python3"
  },
  "language_info": {
   "codemirror_mode": {
    "name": "ipython",
    "version": 3
   },
   "file_extension": ".py",
   "mimetype": "text/x-python",
   "name": "python",
   "nbconvert_exporter": "python",
   "pygments_lexer": "ipython3",
   "version": "3.12.6"
  }
 },
 "nbformat": 4,
 "nbformat_minor": 2
}
