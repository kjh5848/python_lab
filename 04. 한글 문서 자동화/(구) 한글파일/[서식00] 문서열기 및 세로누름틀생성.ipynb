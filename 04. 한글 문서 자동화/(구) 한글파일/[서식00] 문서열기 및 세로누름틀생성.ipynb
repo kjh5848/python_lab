{
 "cells": [
  {
   "cell_type": "code",
   "execution_count": 6,
   "metadata": {},
   "outputs": [
    {
     "data": {
      "text/plain": [
       "True"
      ]
     },
     "execution_count": 6,
     "metadata": {},
     "output_type": "execute_result"
    }
   ],
   "source": [
    "import win32com.client as win32\n",
    "import pandas as pd\n",
    "import logging\n",
    "import os\n",
    "from utill import hwp_utill as hwp, excel_utill as excel \n",
    "\n",
    "HObject = hwp.HwpUtill()\n",
    "EObject = excel.ExcelUtill()\n",
    "\n",
    "HWP_FILE_NAME = \"[서식129] (공통-직무교육기관) 사전직무교육 수료 보고서\"\n",
    "HWP_FILE_PATH = r\"C:\\Users\\Administrator\\Desktop\\미래내일일경험 공유\\python_lab\\07. 한글 문서\\★누름틀_문서\\3. 사전직무 서류\"\n",
    "\n",
    "HObject.파일열기(\n",
    "    file_name=HWP_FILE_NAME,\n",
    "    file_path=HWP_FILE_PATH,\n",
    ")"
   ]
  },
  {
   "cell_type": "code",
   "execution_count": 7,
   "metadata": {},
   "outputs": [],
   "source": [
    "HObject.세로누름틀생성(\n",
    "    개수=20,\n",
    "    시작인덱스=1,\n",
    "    필드이름=\"출석률\"\n",
    ")"
   ]
  }
 ],
 "metadata": {
  "kernelspec": {
   "display_name": "Python 3",
   "language": "python",
   "name": "python3"
  },
  "language_info": {
   "codemirror_mode": {
    "name": "ipython",
    "version": 3
   },
   "file_extension": ".py",
   "mimetype": "text/x-python",
   "name": "python",
   "nbconvert_exporter": "python",
   "pygments_lexer": "ipython3",
   "version": "3.12.6"
  }
 },
 "nbformat": 4,
 "nbformat_minor": 2
}
