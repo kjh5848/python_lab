{
 "cells": [
  {
   "cell_type": "code",
   "execution_count": 1,
   "metadata": {},
   "outputs": [
    {
     "name": "stdout",
     "output_type": "stream",
     "text": [
      "현재 sys.path: ['c:\\\\Python312\\\\python312.zip', 'c:\\\\Python312\\\\DLLs', 'c:\\\\Python312\\\\Lib', 'c:\\\\Python312', '', 'C:\\\\Users\\\\Administrator\\\\AppData\\\\Roaming\\\\Python\\\\Python312\\\\site-packages', 'C:\\\\Users\\\\Administrator\\\\AppData\\\\Roaming\\\\Python\\\\Python312\\\\site-packages\\\\win32', 'C:\\\\Users\\\\Administrator\\\\AppData\\\\Roaming\\\\Python\\\\Python312\\\\site-packages\\\\win32\\\\lib', 'C:\\\\Users\\\\Administrator\\\\AppData\\\\Roaming\\\\Python\\\\Python312\\\\site-packages\\\\Pythonwin', 'c:\\\\Python312\\\\Lib\\\\site-packages', 'c:\\\\Users\\\\Administrator\\\\Desktop\\\\미래내일일경험 공유\\\\python_lab\\\\04. 한글 문서 자동화\\\\(구) 한글파일\\\\utill']\n"
     ]
    },
    {
     "data": {
      "text/plain": [
       "True"
      ]
     },
     "execution_count": 1,
     "metadata": {},
     "output_type": "execute_result"
    }
   ],
   "source": [
    "import win32com.client as win32\n",
    "import pandas as pd\n",
    "import logging\n",
    "import os\n",
    "from utill import hwp_utill as hwp, excel_utill as excel \n",
    "\n",
    "HObject = hwp.HwpUtill()\n",
    "EObject = excel.ExcelUtill()\n",
    "\n",
    "HWP_FILE_NAME = \"[서식34] 인턴형 일경험 실시보고\"\n",
    "HWP_FILE_PATH = r\"C:\\Users\\Administrator\\Desktop\\미래내일일경험 공유\\python_lab\\07. 한글 문서\\★누름틀_문서\\4. 일경험 시작\"\n",
    "\n",
    "HObject.파일열기(\n",
    "    file_name=HWP_FILE_NAME,\n",
    "    file_path=HWP_FILE_PATH,\n",
    ")"
   ]
  },
  {
   "cell_type": "code",
   "execution_count": 7,
   "metadata": {},
   "outputs": [],
   "source": [
    "HObject.세로누름틀생성(\n",
    "    개수=10,\n",
    "    시작인덱스=1,\n",
    "    필드이름=\"참여일(1~4주)\"\n",
    ")"
   ]
  }
 ],
 "metadata": {
  "kernelspec": {
   "display_name": "Python 3",
   "language": "python",
   "name": "python3"
  },
  "language_info": {
   "codemirror_mode": {
    "name": "ipython",
    "version": 3
   },
   "file_extension": ".py",
   "mimetype": "text/x-python",
   "name": "python",
   "nbconvert_exporter": "python",
   "pygments_lexer": "ipython3",
   "version": "3.12.6"
  }
 },
 "nbformat": 4,
 "nbformat_minor": 2
}
