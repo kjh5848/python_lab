{
 "cells": [
  {
   "cell_type": "code",
   "execution_count": 11,
   "metadata": {},
   "outputs": [],
   "source": [
    "import win32com.client\n",
    "import pandas as pd\n",
    "from utill import hwp_utill as hwp, excel_utill as excel "
   ]
  },
  {
   "cell_type": "code",
   "execution_count": 15,
   "metadata": {},
   "outputs": [
    {
     "data": {
      "text/plain": [
       "True"
      ]
     },
     "execution_count": 15,
     "metadata": {},
     "output_type": "execute_result"
    }
   ],
   "source": [
    "\n",
    "\n",
    "HObject = hwp.HwpUtill()\n",
    "EObject = excel.ExcelUtill()\n",
    "\n",
    "# file_path_excel = r'N:\\개인\\개발폴더\\엑셀과 한컴오피스\\파이썬 + 한글_자동화\\서식34.xlsx'\n",
    "# sheet_name = \"서식34.일경험실시보고\"\n",
    "# header = 0\n",
    "\n",
    "# EObject.엑셀열기(\n",
    "#     file_path_excel=file_path_excel,\n",
    "#     sheet_name=sheet_name,\n",
    "#     header=header\n",
    "# )\n",
    "\n",
    "hwp_file_name = '[서식103] (공통-직무교육기관) 사전직무교육 출석부'\n",
    "hwp_file_path = r'C:\\Users\\Administrator\\Desktop\\미래내일일경험 공유\\python_lab\\07. 한글 문서\\★누름틀_문서\\3. 사전직무 서류'\n",
    "\n",
    "HObject.파일열기(\n",
    "    file_name=hwp_file_name,\n",
    "    file_path=hwp_file_path,\n",
    ")"
   ]
  },
  {
   "cell_type": "code",
   "execution_count": 34,
   "metadata": {},
   "outputs": [
    {
     "name": "stdout",
     "output_type": "stream",
     "text": [
      "Inserted field: 1주차_16\n",
      "Inserted field: 1주차_17\n",
      "Inserted field: 1주차_18\n",
      "Inserted field: 1주차_19\n",
      "Inserted field: 1주차_20\n"
     ]
    }
   ],
   "source": [
    "HObject.가로누름틀생성한줄(\n",
    "    개수=5,\n",
    "    시작인덱스=16,\n",
    "    필드이름='1주차'\n",
    ")"
   ]
  },
  {
   "cell_type": "code",
   "execution_count": 35,
   "metadata": {},
   "outputs": [],
   "source": [
    "HObject.세로누름틀생성( \n",
    "    개수=15,\n",
    "    시작인덱스=16,\n",
    "    필드이름=\"성명\"\n",
    ")"
   ]
  },
  {
   "cell_type": "code",
   "execution_count": null,
   "metadata": {},
   "outputs": [],
   "source": []
  }
 ],
 "metadata": {
  "kernelspec": {
   "display_name": "Python 3",
   "language": "python",
   "name": "python3"
  },
  "language_info": {
   "codemirror_mode": {
    "name": "ipython",
    "version": 3
   },
   "file_extension": ".py",
   "mimetype": "text/x-python",
   "name": "python",
   "nbconvert_exporter": "python",
   "pygments_lexer": "ipython3",
   "version": "3.12.6"
  }
 },
 "nbformat": 4,
 "nbformat_minor": 2
}
