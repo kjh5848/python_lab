{
 "cells": [
  {
   "cell_type": "code",
   "execution_count": 3,
   "metadata": {},
   "outputs": [
    {
     "name": "stdout",
     "output_type": "stream",
     "text": [
      "파일 저장 완료: [서식46] 인턴형 참여청년 확인서_정민주.hwp\n",
      "파일 저장 완료: [서식46] 인턴형 참여청년 확인서_홍길동.hwp\n",
      "빈 값 발견 - 행 3 건너뜀\n"
     ]
    }
   ],
   "source": [
    "import win32com.client as win32\n",
    "import pandas as pd\n",
    "import logging\n",
    "import os\n",
    "\n",
    "# 로그 설정 (디버깅 수준으로 설정)\n",
    "logging.basicConfig(level=logging.DEBUG, format='%(asctime)s - %(levelname)s - %(message)s')\n",
    "\n",
    "# 엑셀 파일 경로 및 시트 설정\n",
    "def 엑셀열기():\n",
    "    file_path_excel = r'N:\\개인\\개발폴더\\엑셀과 한컴오피스\\파이썬 + 한글_자동화\\서식34.xlsx'\n",
    "    sheet_name = \"참여자 명단\"\n",
    "    excel = pd.read_excel(file_path_excel, sheet_name=sheet_name, header=1, dtype=str)\n",
    "    excel_data = excel.fillna(\"\")\n",
    "    \n",
    "    return excel_data\n",
    "\n",
    "hwp = win32.gencache.EnsureDispatch(\"hwpframe.hwpobject\")\n",
    "hwp.RegisterModule(\"FilePathCheckDLL\", \"FilePathCheckerModuleExample\")\n",
    "hwp.XHwpWindows.Item(0).Visible = True  # 한글 창을 보이게 설정\n",
    "\n",
    "def 파일열기(hwp, file_name, file_path):\n",
    "    file_path = fr'N:{file_path}\\{file_name}.hwp'\n",
    "    return hwp.Open(file_path)\n",
    "\n",
    "file_name = '[서식46] 인턴형 참여청년 확인서'\n",
    "file_path = '\\개인\\개발폴더\\엑셀과 한컴오피스\\파이썬 + 한글_자동화'\n",
    "\n",
    "for index, row in 엑셀열기().iterrows():\n",
    "    파일열기(hwp, file_name, file_path)\n",
    "\n",
    "    if not row['성명']:  # 성명 값이 없는 경우 현재 행을 건너뜀\n",
    "        print(f\"빈 값 발견 - 행 {index + 1} 건너뜀\")\n",
    "        continue\n",
    "\n",
    "    try:\n",
    "        # 필드에 값을 삽입\n",
    "        hwp.PutFieldText('성명', row['성명'])\n",
    "        hwp.PutFieldText('생년월일', row['생년월일'])\n",
    "        hwp.PutFieldText('작성날짜', row['작성날짜'])\n",
    "\n",
    "        # 파일을 새로운 이름으로 저장\n",
    "        new_file_name = f'{file_name}_{row[\"성명\"]}.hwp'\n",
    "        new_file_path = os.path.join(fr'N:{file_path}', new_file_name)\n",
    "        hwp.SaveAs(new_file_path)\n",
    "\n",
    "        print(f'파일 저장 완료: {new_file_name}')\n",
    "        hwp.Clear(1)\n",
    "    except Exception as e:\n",
    "        print(f\"오류 발생 (행 {index + 1}): {e}\")\n",
    "\n",
    "# 엑셀 반복이 종료되면 한글 종료\n",
    "hwp.Quit()\n"
   ]
  }
 ],
 "metadata": {
  "kernelspec": {
   "display_name": "Python 3",
   "language": "python",
   "name": "python3"
  },
  "language_info": {
   "codemirror_mode": {
    "name": "ipython",
    "version": 3
   },
   "file_extension": ".py",
   "mimetype": "text/x-python",
   "name": "python",
   "nbconvert_exporter": "python",
   "pygments_lexer": "ipython3",
   "version": "3.12.6"
  }
 },
 "nbformat": 4,
 "nbformat_minor": 2
}
