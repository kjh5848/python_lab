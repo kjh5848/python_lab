{
 "cells": [
  {
   "cell_type": "code",
   "execution_count": 5,
   "metadata": {},
   "outputs": [
    {
     "data": {
      "text/plain": [
       "True"
      ]
     },
     "execution_count": 5,
     "metadata": {},
     "output_type": "execute_result"
    }
   ],
   "source": [
    "import win32com.client\n",
    "import pandas as pd\n",
    "\n",
    "# 한글 열기\n",
    "hwp = win32com.client.Dispatch(\"HWPFrame.HwpObject\") \n",
    "hwp.XHwpWindows.Item(0).Visible = True  # 한글 창을 화면에 표시\n",
    "hwp.RegisterModule(\"FilePathCheckDLL\", \"FilePathCheckerModuleExample\")\n",
    "\n",
    "file_path = r\"C:\\Users\\thdus\\Desktop\\미래내일일경험\\07. 한글 문서\\★누름틀_문서\\0. 프로그램 등록 서류\\[서식102] 사전직무교육 운영계획서.hwp\"\n",
    "hwp.Open(file_path, \"HWP\", \"forceopen:true\")"
   ]
  },
  {
   "cell_type": "code",
   "execution_count": 8,
   "metadata": {},
   "outputs": [
    {
     "name": "stdout",
     "output_type": "stream",
     "text": [
      "Inserted field: 시간_11\n",
      "Inserted field: 시간_12\n",
      "Inserted field: 시간_13\n",
      "Inserted field: 시간_14\n",
      "Inserted field: 시간_15\n"
     ]
    }
   ],
   "source": [
    "def 가로누름틀생성한줄(hwp, 시작인덱스, 필드이름, 개수):\n",
    "    for i in range(개수):\n",
    "        # 필드 이름 생성\n",
    "        field_name = f\"{필드이름}_{시작인덱스 + i}\"\n",
    "        \n",
    "        # 누름틀 필드 생성 (현재 커서 위치에 삽입)\n",
    "        hwp.CreateField(필드이름, \"\", field_name)\n",
    "        print(f\"Inserted field: {field_name}\")\n",
    "        \n",
    "        # 누름틀 생성 후 커서를 누름틀 바깥으로 이동\n",
    "        hwp.HAction.Run(\"MoveRight\")  # 누름틀 뒤로 커서 이동\n",
    "        \n",
    "        # 표의 다음 칸으로 이동\n",
    "        if i < 개수 - 1:  # 마지막 필드 후에는 이동하지 않음\n",
    "            hwp.HAction.Run(\"TableRightCell\")  # 표의 다음 칸으로 이동\n",
    "\n",
    "# 예시: '연락처' 필드를 현재 커서 위치에서 시작으로 가로 방향으로 생성\n",
    "가로누름틀생성한줄(hwp, 11, \"시간\", 5)\n",
    "\n"
   ]
  }
 ],
 "metadata": {
  "kernelspec": {
   "display_name": "Python 3",
   "language": "python",
   "name": "python3"
  },
  "language_info": {
   "codemirror_mode": {
    "name": "ipython",
    "version": 3
   },
   "file_extension": ".py",
   "mimetype": "text/x-python",
   "name": "python",
   "nbconvert_exporter": "python",
   "pygments_lexer": "ipython3",
   "version": "3.10.11"
  }
 },
 "nbformat": 4,
 "nbformat_minor": 2
}
