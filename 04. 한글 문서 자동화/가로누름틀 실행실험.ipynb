{
 "cells": [
  {
   "cell_type": "code",
   "execution_count": 1,
   "metadata": {},
   "outputs": [],
   "source": [
    "import win32com.client\n",
    "import pandas as pd\n",
    "from utill import hwp_utill as hu"
   ]
  },
  {
   "cell_type": "code",
   "execution_count": 5,
   "metadata": {},
   "outputs": [
    {
     "data": {
      "text/plain": [
       "True"
      ]
     },
     "execution_count": 5,
     "metadata": {},
     "output_type": "execute_result"
    }
   ],
   "source": [
    "\n",
    "\n",
    "# 한글 열기\n",
    "hwp = win32com.client.Dispatch(\"HWPFrame.HwpObject\") \n",
    "hwp.XHwpWindows.Item(0).Visible = True  # 한글 창을 화면에 표시\n",
    "hwp.RegisterModule(\"FilePathCheckDLL\", \"FilePathCheckerModuleExample\")\n",
    "\n",
    "file_path = r\"C:\\Users\\thdus\\Desktop\\미래내일일경험\\07. 한글 문서\\★누름틀_문서\\0. 프로그램 등록 서류\\[서식102] 사전직무교육 운영계획서.hwp\"\n",
    "hwp.Open(file_path, \"HWP\", \"forceopen:true\")"
   ]
  },
  {
   "cell_type": "code",
   "execution_count": null,
   "metadata": {},
   "outputs": [
    {
     "ename": "NameError",
     "evalue": "name 'hu' is not defined",
     "output_type": "error",
     "traceback": [
      "\u001b[1;31m---------------------------------------------------------------------------\u001b[0m",
      "\u001b[1;31mNameError\u001b[0m                                 Traceback (most recent call last)",
      "Cell \u001b[1;32mIn[2], line 1\u001b[0m\n\u001b[1;32m----> 1\u001b[0m \u001b[43mhu\u001b[49m\u001b[38;5;241m.\u001b[39mHwpUtill\u001b[38;5;241m.\u001b[39m가로누름틀생성한줄(\n\u001b[0;32m      2\u001b[0m     개수\u001b[38;5;241m=\u001b[39m\u001b[38;5;241m5\u001b[39m,\n\u001b[0;32m      3\u001b[0m )\n",
      "\u001b[1;31mNameError\u001b[0m: name 'hu' is not defined"
     ]
    }
   ],
   "source": [
    "hu.HwpUtill.가로누름틀생성한줄(\n",
    "    개수=5,\n",
    "    시작인덱스=\n",
    ")"
   ]
  },
  {
   "cell_type": "code",
   "execution_count": null,
   "metadata": {},
   "outputs": [],
   "source": []
  }
 ],
 "metadata": {
  "kernelspec": {
   "display_name": "Python 3",
   "language": "python",
   "name": "python3"
  },
  "language_info": {
   "codemirror_mode": {
    "name": "ipython",
    "version": 3
   },
   "file_extension": ".py",
   "mimetype": "text/x-python",
   "name": "python",
   "nbconvert_exporter": "python",
   "pygments_lexer": "ipython3",
   "version": "3.12.6"
  }
 },
 "nbformat": 4,
 "nbformat_minor": 2
}
