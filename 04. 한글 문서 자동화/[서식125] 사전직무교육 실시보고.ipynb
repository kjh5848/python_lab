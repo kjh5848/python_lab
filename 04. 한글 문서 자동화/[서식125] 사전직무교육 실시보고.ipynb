{
 "cells": [
  {
   "cell_type": "code",
   "execution_count": null,
   "metadata": {},
   "outputs": [],
   "source": [
    "import win32com.client\n",
    "import pandas as pd\n",
    "import hwp_utill\n",
    "import excel_utill\n",
    "\n",
    "# 한글 열기\n",
    "hwp = win32com.client.Dispatch(\"HWPFrame.HwpObject\") \n",
    "hwp.XHwpWindows.Item(0).Visible = True  # 한글 창을 화면에 표시\n",
    "hwp.RegisterModule(\"FilePathCheckDLL\", \"FilePathCheckerModuleExample\")\n",
    "\n",
    "file_path = r\"C:\\workspace\\한글자동화\\python_lab\\07. 한글 문서\\❌누름틀 전_문서\\[서식125] (공통직무교육기관) 사전직무교육 실시보고.hwp\"\n",
    "hwp.Open(file_path, \"HWP\", \"forceopen:true\")\n",
    "\n",
    "\n",
    "file_path_excel = r\"C:\\workspace\\한글자동화\\python_lab\\07. 한글 문서\\한글 자동화_엑셀파일_lsy.xlsm\"  # 엑셀 파일 경로 지정\n",
    "sheet_name = \"125. (공통직무교육기관) 사전직무교육 실시보고\"  # 엑셀 시트 이름\n",
    "header = 0\n",
    "\n",
    "excel_utill.엑셀열기(file_path_excel,sheet_name,header)\n",
    "\n"
   ]
  },
  {
   "cell_type": "code",
   "execution_count": null,
   "metadata": {},
   "outputs": [],
   "source": [
    "# '성별' 필드를 현재 커서 위치에서 시작으로 반복적으로 누름틀을 생성하고 텍스트를 설정\n",
    "hwp_utill.HwpUtill.세로누름틀생성(hwp,시작인덱스=14,필드이름=\"참여프로그램명\",개수=30)"
   ]
  },
  {
   "cell_type": "code",
   "execution_count": null,
   "metadata": {},
   "outputs": [],
   "source": [
    "def 참여자_명단_삽입():\n",
    "        try:\n",
    "            # 엑셀 데이터를 반복하여 한글 문서의 누름틀에 필드명과 값을 삽입\n",
    "            for index, row in 엑셀데이터불러오기().iterrows():\n",
    "                print(f\"Index: {index}, Row: {row}\")\n",
    "                # 추가적인 필드에 데이터 삽입 (성명, 생년월일, 성별, 참여일, 연락처)\n",
    "                hwp.PutFieldText(f\"이름_{index}\", str(row[1]))\n",
    "                hwp.PutFieldText(f\"생년월일_{index}\", str(row[2]))\n",
    "                hwp.PutFieldText(f\"성별_{index}\", str(row[3]))\n",
    "                hwp.PutFieldText(f\"연락처_{index}\", str(row[4]))\n",
    "                hwp.PutFieldText(f\"참여프로그램명_{index}\", str(row[5]))\n",
    "                # print(hwp.PutFieldText(f\"성명_{index}\", str(row[1])))\n",
    "            # 성공 메시지 출력\n",
    "            print(\"참여자 명단을 한글 누름틀에 성공적으로 삽입했습니다.\")\n",
    "        except Exception as e:\n",
    "            # 오류 메시지 출력\n",
    "            print(f\"참여자 명단 삽입 중 오류 발생: {e}\")\n",
    "\n",
    "a = 참여자_명단_삽입()\n",
    "print(a)"
   ]
  },
  {
   "cell_type": "code",
   "execution_count": null,
   "metadata": {},
   "outputs": [
    {
     "name": "stdout",
     "output_type": "stream",
     "text": [
      "필드에 값을 성공적으로 삽입했습니다.\n"
     ]
    }
   ],
   "source": [
    "def 누름틀필드에_값_집어넣기(hwp, excel_data):\n",
    "    try:\n",
    "        # 엑셀 A열에 있는 필드명과 B열에 있는 값을 한글 문서에 삽입\n",
    "        for index, row in excel_data.iterrows():\n",
    "            field_name = row[1]  # A열: 필드명 (index 1)\n",
    "            field_value = row[2]  # B열: 값 (index 2)\n",
    "            hwp.PutFieldText(field_name, str(field_value))\n",
    "        \n",
    "        # 성공 메시지 출력\n",
    "        print(\"필드에 값을 성공적으로 삽입했습니다.\")\n",
    "    except Exception as e:\n",
    "        # 오류 메시지 출력\n",
    "        print(f\"필드에 값 삽입 중 오류 발생: {e}\")\n",
    "\n",
    "# 함수 호출\n",
    "누름틀필드에_값_집어넣기(hwp, excel_data)\n"
   ]
  }
 ],
 "metadata": {
  "kernelspec": {
   "display_name": "Python 3",
   "language": "python",
   "name": "python3"
  },
  "language_info": {
   "codemirror_mode": {
    "name": "ipython",
    "version": 3
   },
   "file_extension": ".py",
   "mimetype": "text/x-python",
   "name": "python",
   "nbconvert_exporter": "python",
   "pygments_lexer": "ipython3",
   "version": "3.10.11"
  }
 },
 "nbformat": 4,
 "nbformat_minor": 2
}
