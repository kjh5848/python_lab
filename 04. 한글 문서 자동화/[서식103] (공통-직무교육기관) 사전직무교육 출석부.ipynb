{
 "cells": [
  {
   "cell_type": "code",
   "execution_count": 4,
   "metadata": {},
   "outputs": [
    {
     "name": "stdout",
     "output_type": "stream",
     "text": [
      "파일 저장 완료: [서식103] (공통-직무교육기관) 사전직무교육 출석부_한국무선인터넷솔루션협회.hwp\n",
      "파일 저장 완료: [서식103] (공통-직무교육기관) 사전직무교육 출석부_한국무선인터넷솔루션협회.hwp\n"
     ]
    }
   ],
   "source": [
    "from utill import excel_utill, hwp_utill\n",
    "import os\n",
    "\n",
    "# 파일 경로 및 시트 설정\n",
    "EXCEL_FILE_PATH = r\"C:\\Users\\Administrator\\Desktop\\미래내일일경험 공유\\python_lab\\07. 한글 문서\\한글 자동화_엑셀파일.xlsm\"\n",
    "EXCEL_SHEET_NAME = \"103. (공통-직무교육기관) 사전직무교육 출석부\"\n",
    "HWP_FILE_NAME = \"[서식103] (공통-직무교육기관) 사전직무교육 출석부\"\n",
    "HWP_FILE_PATH = r\"C:\\Users\\Administrator\\Desktop\\미래내일일경험 공유\\python_lab\\07. 한글 문서\\★누름틀_문서\\3. 사전직무 서류\"\n",
    "SAVE_FILE_PATH = r\"C:\\Users\\Administrator\\Desktop\\미래내일일경험 공유\\사전직무 출석부\"\n",
    "\n",
    "# 객체 생성\n",
    "EObject = excel_utill.ExcelUtill()\n",
    "HObject = hwp_utill.HwpUtill()\n",
    "\n",
    "# 엑셀 데이터 불러오기\n",
    "excel_data = EObject.엑셀열기(EXCEL_FILE_PATH, EXCEL_SHEET_NAME, header=0)\n",
    "\n",
    "# 메인 작업 함수\n",
    "def 한글문서_생성(excel_data, hwp_file_name, hwp_file_path):\n",
    "\n",
    "    # 파일 열기\n",
    "    HObject.파일열기(hwp_file_name, hwp_file_path)\n",
    "    for index, row in excel_data.iterrows():\n",
    "        \n",
    "        # 필드 채우기\n",
    "        HObject.채우기(row[2], row[3])\n",
    "        HObject.채우기(f'성명_{index}', row[1])\n",
    "        HObject.채우기(f'1주차_{index}', row[2])\n",
    "        \n",
    "\n",
    "    # 파일 저장\n",
    "    new_file_name = f\"{hwp_file_name}_{str(excel_data.iloc[2,3])}.hwp\"\n",
    "\n",
    "    # 폴더 생성\n",
    "    if not os.path.exists(SAVE_FILE_PATH):\n",
    "        os.makedirs(SAVE_FILE_PATH)\n",
    "\n",
    "    HObject.저장(new_file_name, SAVE_FILE_PATH)\n",
    "\n",
    "    print(f\"파일 저장 완료: {new_file_name}\")\n",
    "    HObject.닫기()\n",
    "    # 작업 완료 후 한글 종료\n",
    "    HObject.종료()\n",
    "\n",
    "    os.startfile(SAVE_FILE_PATH)\n",
    "\n",
    "# 실행\n",
    "한글문서_생성(excel_data, HWP_FILE_NAME, HWP_FILE_PATH)\n"
   ]
  }
 ],
 "metadata": {
  "kernelspec": {
   "display_name": "Python 3",
   "language": "python",
   "name": "python3"
  },
  "language_info": {
   "codemirror_mode": {
    "name": "ipython",
    "version": 3
   },
   "file_extension": ".py",
   "mimetype": "text/x-python",
   "name": "python",
   "nbconvert_exporter": "python",
   "pygments_lexer": "ipython3",
   "version": "3.12.6"
  }
 },
 "nbformat": 4,
 "nbformat_minor": 2
}
